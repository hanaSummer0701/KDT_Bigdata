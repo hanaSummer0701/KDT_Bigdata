{
 "cells": [
  {
   "cell_type": "markdown",
   "id": "aabe07e7",
   "metadata": {},
   "source": [
    "# 크롤링 실습"
   ]
  },
  {
   "cell_type": "code",
   "execution_count": 2,
   "id": "ba23a424-9001-412e-acc3-e769921c3727",
   "metadata": {
    "tags": []
   },
   "outputs": [],
   "source": [
    "from newspaper import Article"
   ]
  },
  {
   "cell_type": "code",
   "execution_count": 3,
   "id": "5dd2da71-d473-47a8-baca-5f4fff6080ed",
   "metadata": {
    "tags": []
   },
   "outputs": [],
   "source": [
    "url = 'https://view.asiae.co.kr/article/2023032217473512545?utm_source=newsstand.naver.com&utm_medium=referral&utm_campaign=top6' "
   ]
  },
  {
   "cell_type": "code",
   "execution_count": 7,
   "id": "2d3185e4-2806-4a0e-84e5-5fde90248dd8",
   "metadata": {
    "tags": []
   },
   "outputs": [],
   "source": [
    "article=Article(url, language='ko')\n",
    "#아티클 정의=아티클(초기화, 언어 한국어로 지정)"
   ]
  },
  {
   "cell_type": "code",
   "execution_count": 8,
   "id": "575c84c4-d3b1-4533-81c2-74e8beb7138b",
   "metadata": {
    "tags": []
   },
   "outputs": [],
   "source": [
    "article.download()\n",
    "# 아티클 다운로드"
   ]
  },
  {
   "cell_type": "code",
   "execution_count": 9,
   "id": "c937b22f-48e3-463e-8b7a-6e2647d787e3",
   "metadata": {
    "tags": []
   },
   "outputs": [],
   "source": [
    "article.parse()"
   ]
  },
  {
   "cell_type": "code",
   "execution_count": null,
   "id": "cbb09416-6a27-4d42-bd79-e9e671c29f3e",
   "metadata": {
    "collapsed": true,
    "jupyter": {
     "outputs_hidden": true
    },
    "tags": []
   },
   "outputs": [],
   "source": [
    "print(article.text)\n",
    "# 저장한 본문 프린트"
   ]
  },
  {
   "cell_type": "code",
   "execution_count": null,
   "id": "29c4f554-2a23-4034-9a12-769026514cfd",
   "metadata": {
    "tags": []
   },
   "outputs": [],
   "source": [
    "article.title\n",
    "# 타이틀 가져오기"
   ]
  },
  {
   "cell_type": "code",
   "execution_count": null,
   "id": "d5457cfc-f3e7-4068-ac7a-7f76897dddf6",
   "metadata": {
    "tags": []
   },
   "outputs": [],
   "source": [
    "article.publish_date\n",
    "# 기사 날짜"
   ]
  },
  {
   "cell_type": "code",
   "execution_count": 20,
   "id": "21c29448-5c3f-4d9d-acd6-5fe000c6665a",
   "metadata": {
    "tags": []
   },
   "outputs": [
    {
     "data": {
      "text/plain": [
       "[]"
      ]
     },
     "execution_count": 20,
     "metadata": {},
     "output_type": "execute_result"
    }
   ],
   "source": [
    "article.authors\n",
    "# 다른 부분에 기자정보있어서 공란으로 나옴"
   ]
  },
  {
   "cell_type": "code",
   "execution_count": null,
   "id": "e2ecc474-e20d-4500-9fcb-a2d2499617b1",
   "metadata": {
    "collapsed": true,
    "jupyter": {
     "outputs_hidden": true
    },
    "tags": []
   },
   "outputs": [],
   "source": [
    "# 기사 html 불러오기\n",
    "article.html"
   ]
  },
  {
   "cell_type": "code",
   "execution_count": 38,
   "id": "57705f0e-920c-4433-af10-b4cc85fd313e",
   "metadata": {
    "tags": []
   },
   "outputs": [
    {
     "data": {
      "text/plain": [
       "['<div class=\"reporter\">']"
      ]
     },
     "execution_count": 38,
     "metadata": {},
     "output_type": "execute_result"
    }
   ],
   "source": [
    "# 기자이름 크롤링\n",
    "import re\n",
    "re.findall('<div class=\"reporter\">', article.html)"
   ]
  },
  {
   "cell_type": "code",
   "execution_count": null,
   "id": "fe6dec2d-2984-412f-a377-c1f4e8ffe0fe",
   "metadata": {
    "tags": []
   },
   "outputs": [],
   "source": [
    "article.html.split('<div class=\"reporter\">')[1].split('<strong>')[1].split('</strong>')[0]"
   ]
  },
  {
   "cell_type": "code",
   "execution_count": 45,
   "id": "fca4e460-ea7b-4765-b3e6-7857411d1092",
   "metadata": {
    "tags": []
   },
   "outputs": [
    {
     "data": {
      "text/plain": [
       "['<div class=\"article_head\">']"
      ]
     },
     "execution_count": 45,
     "metadata": {},
     "output_type": "execute_result"
    }
   ],
   "source": [
    "# 기사 헤드라이너 크롤링\n",
    "import re\n",
    "re.findall('<div class=\"article_head\">', article.html)"
   ]
  },
  {
   "cell_type": "code",
   "execution_count": null,
   "id": "7080ff02-70e8-4fdb-8f60-16571b27e32c",
   "metadata": {
    "tags": []
   },
   "outputs": [],
   "source": [
    "article.html.split('<div class=\"article_head\">')[1].split('<h4>')[1].split('</h4>')[0]\n",
    "# <div class=\"article_head\"> 태그와 <h4> 태그 사이에 있는 텍스트를 추출"
   ]
  },
  {
   "cell_type": "code",
   "execution_count": 52,
   "id": "06c2f685-a1bf-48a2-9dca-c15afa189a1e",
   "metadata": {
    "tags": []
   },
   "outputs": [
    {
     "data": {
      "text/plain": [
       "['<div class=\"logo\">']"
      ]
     },
     "execution_count": 52,
     "metadata": {},
     "output_type": "execute_result"
    }
   ],
   "source": [
    "# 기사 로고 크롤링\n",
    "import re\n",
    "re.findall('<div class=\"logo\">', article.html)\n",
    "# article.html에 저장된 HTML 코드에서 <div class=\"logo\"> 태그와 일치하는 모든 부분을 찾아 리스트로 반환"
   ]
  },
  {
   "cell_type": "code",
   "execution_count": null,
   "id": "23465913-2a72-4bbe-b2ca-08977606b802",
   "metadata": {
    "tags": []
   },
   "outputs": [],
   "source": [
    "article.html.split('<strong>')[1].split('</strong>')[0]\n",
    "# 이때 분할된 결과에서 인덱스 1에 해당하는 부분을 선택합니다. 즉, <strong> 태그 다음에 나오는 부분을 선택합니다.\n",
    "# 선택된 부분을 </strong> 태그를 기준으로 분할합니다.\n",
    "# 이때 분할된 결과에서 인덱스 0에 해당하는 부분을 선택합니다. 즉, </strong> 태그 이전의 텍스트 부분을 선택합니다."
   ]
  },
  {
   "cell_type": "code",
   "execution_count": null,
   "id": "023f77d5-4f7e-428c-ac63-c51b1382682f",
   "metadata": {
    "tags": []
   },
   "outputs": [],
   "source": [
    "# onclick 속성 추출\n",
    "onclick_attribute = re.search(r'onclick=\"(.*?)\"',article.html).group(1)\n",
    "\n",
    "# 이벤트 카테고리 추출\n",
    "event_category = re.search(r\"'event_category' : '(.*?)'\", onclick_attribute).group(1)\n",
    "\n",
    "# 이벤트 라벨 추출\n",
    "event_label = re.search(r\"'event_label' : '(.*?)'\", onclick_attribute).group(1)\n",
    "\n",
    "print(\"이벤트 카테고리:\", event_category)\n",
    "print(\"이벤트 라벨:\", event_label)"
   ]
  },
  {
   "cell_type": "markdown",
   "id": "65a52275",
   "metadata": {},
   "source": [
    "# 알라딘 홈페이지 크롤링"
   ]
  },
  {
   "cell_type": "code",
   "execution_count": 60,
   "id": "3fda0e32-3094-4135-af92-70879ee57ac2",
   "metadata": {
    "tags": []
   },
   "outputs": [],
   "source": [
    "#import package\n",
    "from bs4 import BeautifulSoup\n",
    "import requests\n",
    "import pandas as pd"
   ]
  },
  {
   "cell_type": "code",
   "execution_count": 67,
   "id": "b4075722-0a28-49ac-9899-3140b501a957",
   "metadata": {
    "tags": []
   },
   "outputs": [],
   "source": [
    "#알라딘 주간 베스트셀러 주소\n",
    "page=1 # 원하는 페이지 번호\n",
    "for i in range (url = f'https://aladin.co.kr/shop/common/wbest.aspx?BestType=Bestseller&BranchType=1&CID=0&page='+ i + &cnt=1000&SortOrder=1)\n",
    "\n",
    "req = requests.get(url) # 서버에 접속 정보 보내주기. 주소창에 주소넣고 엔터치는 거랑 같은 작업.\n",
    "content = req.content # 변수 만들기: content = req.내용물에 대한 정보\n",
    "soup = BeautifulSoup(content, 'html.parser') # soup로 저장 = 초기화, html형태로 파싱"
   ]
  },
  {
   "cell_type": "code",
   "execution_count": null,
   "id": "84af17d2-5eb6-4d2b-971d-f5325fea3a46",
   "metadata": {
    "collapsed": true,
    "jupyter": {
     "outputs_hidden": true
    },
    "tags": []
   },
   "outputs": [],
   "source": [
    "# 알라딘 주간 베스트셀러 html 불러오기\n",
    "soup"
   ]
  },
  {
   "cell_type": "markdown",
   "id": "a84ef114",
   "metadata": {},
   "source": [
    "#### 베스트셀러 도서명 크롤링"
   ]
  },
  {
   "cell_type": "code",
   "execution_count": null,
   "id": "bb081452-41fc-45cb-8452-94dad7ef1575",
   "metadata": {
    "tags": []
   },
   "outputs": [],
   "source": [
    "# 도서명\n",
    "title=[soup.select('a.bo3')[i].text for i in range(0, 50)]\n",
    "title"
   ]
  },
  {
   "cell_type": "code",
   "execution_count": null,
   "id": "74e20760-d059-43d6-ac02-0a89ec1d65f2",
   "metadata": {
    "tags": []
   },
   "outputs": [],
   "source": [
    "# 작가\n",
    "soup.select('div.ss_book_list')[0].select('li')[2].select('a')[0].text\n",
    "#soup.select('추출하려는 값에 가장 가까운 클래스 이름')[책 순서. 0은 첫번째책].select[li('추출하려는 값에 가장 가까운 태그')[태그 순서].selext('추출하려는 값에 가장 가까운 태그')[해당 태그의 순서]"
   ]
  },
  {
   "cell_type": "code",
   "execution_count": null,
   "id": "0c004ce1-3d96-4b7f-b690-f649f0c22354",
   "metadata": {
    "tags": []
   },
   "outputs": [],
   "source": [
    "# 할인가\n",
    "soup.select('div.ss_book_list')[0].select('li')[3].select('b')[0].text"
   ]
  },
  {
   "cell_type": "code",
   "execution_count": 185,
   "id": "81454fac-7db6-476f-b1e7-91ac1c12e59f",
   "metadata": {
    "tags": []
   },
   "outputs": [],
   "source": [
    "author=[]\n",
    "for i in range(0,100,2):\n",
    "    try:\n",
    "        author.append(soup.select('div.ss_book_list')[i].select('li')[2].select('a')[0].text)\n",
    "    except:\n",
    "        author.append(soup.select('div.ss_book_list')[i].select('li')[1].select('a')[0].text)\n",
    "# 짝수 만 봄\n",
    "#    우선 해봄\n",
    "#    안되면 다음에 해봄\n",
    "# 이름.append --> list에 원소 추가 한 번에 하나씩 이름에 추가"
   ]
  },
  {
   "cell_type": "code",
   "execution_count": null,
   "id": "773fe66b-70d2-40ca-8d9f-97b16a1f3d8c",
   "metadata": {
    "tags": []
   },
   "outputs": [],
   "source": [
    "#할인가 - 반복하여 추출\n",
    "\n",
    "for i in range(0,100,2):\n",
    "    try:\n",
    "        print(soup.select('div.ss_book_list')[i].select('li')[3].select('b')[0].text)\n",
    "    except:\n",
    "        print(i)"
   ]
  },
  {
   "cell_type": "code",
   "execution_count": 199,
   "id": "1d517e2b-6845-4dc5-a8a5-65bc8cf2213a",
   "metadata": {
    "tags": []
   },
   "outputs": [],
   "source": [
    "# 가격 - 반복하여 추출\n",
    "price=[]\n",
    "for i in range(0,100,2):\n",
    "    try:\n",
    "        price.append(int(soup.select('div.ss_book_list')[i].select('ul')[0].select('li')[3].select('span')[0].text.replace(',',\"\")))\n",
    "    except:\n",
    "        price.append(int(soup.select('div.ss_book_list')[i].select('ul')[0].select('li')[2].select('span')[0].text.replace(',',\"\")))"
   ]
  },
  {
   "cell_type": "code",
   "execution_count": null,
   "id": "ff7202a8-f83c-483f-9d03-f59d1753dd9d",
   "metadata": {
    "tags": []
   },
   "outputs": [],
   "source": [
    "# 출간연도\n",
    "import re\n",
    "re.findall('\\d\\d\\d\\d년', soup.select('div.ss_book_list')[0].select('ul')[0].select('li')[2].text)[0]"
   ]
  },
  {
   "cell_type": "code",
   "execution_count": null,
   "id": "2de59a36-b89a-427b-b706-d4e426bf98f9",
   "metadata": {
    "tags": []
   },
   "outputs": [],
   "source": [
    "re.findall('\\d\\d\\d\\d년', soup.select('div.ss_book_list')[0].text)[0]"
   ]
  },
  {
   "cell_type": "code",
   "execution_count": 201,
   "id": "eb0292bc-f895-42f4-ab56-f1d56e2c97b8",
   "metadata": {
    "tags": []
   },
   "outputs": [],
   "source": [
    "year=[re.findall('\\d\\d\\d\\d년', soup.select('div.ss_book_list')[i].select('ul')[0].text)[0] for i in range(0,100,2)]"
   ]
  },
  {
   "cell_type": "code",
   "execution_count": 203,
   "id": "5e9c25fc-6805-4e71-b1f6-5ed7f663c16b",
   "metadata": {
    "tags": []
   },
   "outputs": [],
   "source": [
    "import pandas as pd\n",
    "result=pd.DataFrame([title, author, price, year], index=['제목', '저자', '정가', '출간연도']).T"
   ]
  },
  {
   "cell_type": "code",
   "execution_count": 204,
   "id": "c0085167-9660-4561-8a6b-d09b3332ac3d",
   "metadata": {
    "tags": []
   },
   "outputs": [
    {
     "data": {
      "text/html": [
       "<div>\n",
       "<style scoped>\n",
       "    .dataframe tbody tr th:only-of-type {\n",
       "        vertical-align: middle;\n",
       "    }\n",
       "\n",
       "    .dataframe tbody tr th {\n",
       "        vertical-align: top;\n",
       "    }\n",
       "\n",
       "    .dataframe thead th {\n",
       "        text-align: right;\n",
       "    }\n",
       "</style>\n",
       "<table border=\"1\" class=\"dataframe\">\n",
       "  <thead>\n",
       "    <tr style=\"text-align: right;\">\n",
       "      <th></th>\n",
       "      <th>제목</th>\n",
       "      <th>저자</th>\n",
       "      <th>정가</th>\n",
       "      <th>출간연도</th>\n",
       "    </tr>\n",
       "  </thead>\n",
       "  <tbody>\n",
       "    <tr>\n",
       "      <th>0</th>\n",
       "      <td>이처럼 사소한 것들</td>\n",
       "      <td>클레어 키건</td>\n",
       "      <td>13800</td>\n",
       "      <td>2023년</td>\n",
       "    </tr>\n",
       "    <tr>\n",
       "      <th>1</th>\n",
       "      <td>아이는 무엇으로 자라는가</td>\n",
       "      <td>버지니아 사티어</td>\n",
       "      <td>17500</td>\n",
       "      <td>2023년</td>\n",
       "    </tr>\n",
       "    <tr>\n",
       "      <th>2</th>\n",
       "      <td>너를 위한 삼월</td>\n",
       "      <td>박서함</td>\n",
       "      <td>22000</td>\n",
       "      <td>2024년</td>\n",
       "    </tr>\n",
       "    <tr>\n",
       "      <th>3</th>\n",
       "      <td>나는 메트로폴리탄 미술관의 경비원입니다</td>\n",
       "      <td>패트릭 브링리</td>\n",
       "      <td>17500</td>\n",
       "      <td>2023년</td>\n",
       "    </tr>\n",
       "    <tr>\n",
       "      <th>4</th>\n",
       "      <td>마흔에 읽는 쇼펜하우어</td>\n",
       "      <td>강용수</td>\n",
       "      <td>17000</td>\n",
       "      <td>2023년</td>\n",
       "    </tr>\n",
       "    <tr>\n",
       "      <th>5</th>\n",
       "      <td>박근혜 회고록 1 : 어둠을 지나 미래로</td>\n",
       "      <td>박근혜</td>\n",
       "      <td>25000</td>\n",
       "      <td>2024년</td>\n",
       "    </tr>\n",
       "    <tr>\n",
       "      <th>6</th>\n",
       "      <td>봄의 폭풍과 몬스터 3</td>\n",
       "      <td>미츠바치 미유키</td>\n",
       "      <td>6000</td>\n",
       "      <td>2024년</td>\n",
       "    </tr>\n",
       "    <tr>\n",
       "      <th>7</th>\n",
       "      <td>박근혜 회고록 2 : 어둠을 지나 미래로</td>\n",
       "      <td>박근혜</td>\n",
       "      <td>25000</td>\n",
       "      <td>2024년</td>\n",
       "    </tr>\n",
       "    <tr>\n",
       "      <th>8</th>\n",
       "      <td>세이노의 가르침 (70만 부 기념 빨간 표지)</td>\n",
       "      <td>세이노(SayNo)</td>\n",
       "      <td>7200</td>\n",
       "      <td>2023년</td>\n",
       "    </tr>\n",
       "    <tr>\n",
       "      <th>9</th>\n",
       "      <td>ETS 토익 정기시험 기출문제집 1000 Vol. 4 Reading (리딩)</td>\n",
       "      <td>ETS</td>\n",
       "      <td>19800</td>\n",
       "      <td>2023년</td>\n",
       "    </tr>\n",
       "    <tr>\n",
       "      <th>10</th>\n",
       "      <td>사랑인 줄 알았는데 부정맥</td>\n",
       "      <td>사단법인 전국유료실버타운협회 포푸라샤 편집부</td>\n",
       "      <td>13300</td>\n",
       "      <td>2024년</td>\n",
       "    </tr>\n",
       "    <tr>\n",
       "      <th>11</th>\n",
       "      <td>ETS 토익 정기시험 기출문제집 1000 Vol. 4 Listening (리스닝)</td>\n",
       "      <td>ETS</td>\n",
       "      <td>19800</td>\n",
       "      <td>2023년</td>\n",
       "    </tr>\n",
       "    <tr>\n",
       "      <th>12</th>\n",
       "      <td>남에게 보여주려고 인생을 낭비하지 마라</td>\n",
       "      <td>아르투어 쇼펜하우어</td>\n",
       "      <td>17500</td>\n",
       "      <td>2023년</td>\n",
       "    </tr>\n",
       "    <tr>\n",
       "      <th>13</th>\n",
       "      <td>퓨처 셀프</td>\n",
       "      <td>벤저민 하디</td>\n",
       "      <td>19800</td>\n",
       "      <td>2023년</td>\n",
       "    </tr>\n",
       "    <tr>\n",
       "      <th>14</th>\n",
       "      <td>맡겨진 소녀</td>\n",
       "      <td>클레어 키건</td>\n",
       "      <td>13000</td>\n",
       "      <td>2023년</td>\n",
       "    </tr>\n",
       "    <tr>\n",
       "      <th>15</th>\n",
       "      <td>퍼스널 MBA</td>\n",
       "      <td>조쉬 카우프만</td>\n",
       "      <td>35500</td>\n",
       "      <td>2024년</td>\n",
       "    </tr>\n",
       "    <tr>\n",
       "      <th>16</th>\n",
       "      <td>위기 탈출 도감</td>\n",
       "      <td>스즈키 노리타케</td>\n",
       "      <td>15000</td>\n",
       "      <td>2024년</td>\n",
       "    </tr>\n",
       "    <tr>\n",
       "      <th>17</th>\n",
       "      <td>우리는 모두 사랑하는 사람을 위해 일을 합니다</td>\n",
       "      <td>하림</td>\n",
       "      <td>16800</td>\n",
       "      <td>2024년</td>\n",
       "    </tr>\n",
       "    <tr>\n",
       "      <th>18</th>\n",
       "      <td>처음부터 시작하는 주식투자 단타전략</td>\n",
       "      <td>홍인기</td>\n",
       "      <td>21000</td>\n",
       "      <td>2023년</td>\n",
       "    </tr>\n",
       "    <tr>\n",
       "      <th>19</th>\n",
       "      <td>도둑맞은 집중력</td>\n",
       "      <td>요한 하리</td>\n",
       "      <td>18800</td>\n",
       "      <td>2023년</td>\n",
       "    </tr>\n",
       "    <tr>\n",
       "      <th>20</th>\n",
       "      <td>2024 Always First 양승아 응급처치학개론 동형모의고사</td>\n",
       "      <td>양승아</td>\n",
       "      <td>15000</td>\n",
       "      <td>2024년</td>\n",
       "    </tr>\n",
       "    <tr>\n",
       "      <th>21</th>\n",
       "      <td>도쿄 리벤저스 : 바지 케이스케로부터의 편지 1</td>\n",
       "      <td>나츠카와구치 유키노리</td>\n",
       "      <td>6000</td>\n",
       "      <td>2024년</td>\n",
       "    </tr>\n",
       "    <tr>\n",
       "      <th>22</th>\n",
       "      <td>원피스 107</td>\n",
       "      <td>오다 에이치로</td>\n",
       "      <td>5500</td>\n",
       "      <td>2024년</td>\n",
       "    </tr>\n",
       "    <tr>\n",
       "      <th>23</th>\n",
       "      <td>금단의 마술</td>\n",
       "      <td>히가시노 게이고</td>\n",
       "      <td>18800</td>\n",
       "      <td>2024년</td>\n",
       "    </tr>\n",
       "    <tr>\n",
       "      <th>24</th>\n",
       "      <td>사라진 것들</td>\n",
       "      <td>앤드루 포터</td>\n",
       "      <td>18000</td>\n",
       "      <td>2024년</td>\n",
       "    </tr>\n",
       "    <tr>\n",
       "      <th>25</th>\n",
       "      <td>던전밥 13</td>\n",
       "      <td>쿠이 료코</td>\n",
       "      <td>7000</td>\n",
       "      <td>2024년</td>\n",
       "    </tr>\n",
       "    <tr>\n",
       "      <th>26</th>\n",
       "      <td>장송의 프리렌 11</td>\n",
       "      <td>야마다 카네히토</td>\n",
       "      <td>6000</td>\n",
       "      <td>2024년</td>\n",
       "    </tr>\n",
       "    <tr>\n",
       "      <th>27</th>\n",
       "      <td>살인자의 쇼핑몰</td>\n",
       "      <td>강지영</td>\n",
       "      <td>13800</td>\n",
       "      <td>2020년</td>\n",
       "    </tr>\n",
       "    <tr>\n",
       "      <th>28</th>\n",
       "      <td>느리게 나이 드는 습관</td>\n",
       "      <td>정희원</td>\n",
       "      <td>18000</td>\n",
       "      <td>2023년</td>\n",
       "    </tr>\n",
       "    <tr>\n",
       "      <th>29</th>\n",
       "      <td>끌리는 이야기는 어떻게 쓰는가</td>\n",
       "      <td>리사 크론</td>\n",
       "      <td>18000</td>\n",
       "      <td>2024년</td>\n",
       "    </tr>\n",
       "    <tr>\n",
       "      <th>30</th>\n",
       "      <td>SQL 자격검정 실전문제</td>\n",
       "      <td>한국데이터산업진흥원</td>\n",
       "      <td>18000</td>\n",
       "      <td>2023년</td>\n",
       "    </tr>\n",
       "    <tr>\n",
       "      <th>31</th>\n",
       "      <td>사랑을 무게로 안 느끼게</td>\n",
       "      <td>박완서</td>\n",
       "      <td>18000</td>\n",
       "      <td>2024년</td>\n",
       "    </tr>\n",
       "    <tr>\n",
       "      <th>32</th>\n",
       "      <td>해커스 토익 기출 보카 TOEIC VOCA 단어장</td>\n",
       "      <td>David Cho</td>\n",
       "      <td>12900</td>\n",
       "      <td>2023년</td>\n",
       "    </tr>\n",
       "    <tr>\n",
       "      <th>33</th>\n",
       "      <td>영어 필사 100일의 기적</td>\n",
       "      <td>퍼포먼스 코치 리아</td>\n",
       "      <td>15000</td>\n",
       "      <td>2021년</td>\n",
       "    </tr>\n",
       "    <tr>\n",
       "      <th>34</th>\n",
       "      <td>향문천의 한국어 비사</td>\n",
       "      <td>향문천</td>\n",
       "      <td>19800</td>\n",
       "      <td>2024년</td>\n",
       "    </tr>\n",
       "    <tr>\n",
       "      <th>35</th>\n",
       "      <td>웡카</td>\n",
       "      <td>시빌 파운더</td>\n",
       "      <td>16000</td>\n",
       "      <td>2024년</td>\n",
       "    </tr>\n",
       "    <tr>\n",
       "      <th>36</th>\n",
       "      <td>2024 큰별쌤 최태성의 별★별한국사 한국사능력검정시험 심화(1, 2, 3급) 상</td>\n",
       "      <td>최태성</td>\n",
       "      <td>16000</td>\n",
       "      <td>2023년</td>\n",
       "    </tr>\n",
       "    <tr>\n",
       "      <th>37</th>\n",
       "      <td>살인자의 쇼핑몰 2</td>\n",
       "      <td>강지영</td>\n",
       "      <td>14800</td>\n",
       "      <td>2023년</td>\n",
       "    </tr>\n",
       "    <tr>\n",
       "      <th>38</th>\n",
       "      <td>카와이 센세의 인물 쉽게 그리는 방법</td>\n",
       "      <td>카와이 센세</td>\n",
       "      <td>20000</td>\n",
       "      <td>2024년</td>\n",
       "    </tr>\n",
       "    <tr>\n",
       "      <th>39</th>\n",
       "      <td>EBS 다큐프라임 자본주의</td>\n",
       "      <td>EBS 자본주의 제작팀</td>\n",
       "      <td>17000</td>\n",
       "      <td>2013년</td>\n",
       "    </tr>\n",
       "    <tr>\n",
       "      <th>40</th>\n",
       "      <td>도시와 그 불확실한 벽</td>\n",
       "      <td>무라카미 하루키</td>\n",
       "      <td>19500</td>\n",
       "      <td>2023년</td>\n",
       "    </tr>\n",
       "    <tr>\n",
       "      <th>41</th>\n",
       "      <td>2024 큰별쌤 최태성의 별★별한국사 기출 500제 한국사능력검정시험 심화 (1, ...</td>\n",
       "      <td>최태성</td>\n",
       "      <td>19500</td>\n",
       "      <td>2024년</td>\n",
       "    </tr>\n",
       "    <tr>\n",
       "      <th>42</th>\n",
       "      <td>2024 큰별쌤 최태성의 별★별한국사 한국사능력검정시험 심화(1, 2, 3급) 하</td>\n",
       "      <td>최태성</td>\n",
       "      <td>15500</td>\n",
       "      <td>2023년</td>\n",
       "    </tr>\n",
       "    <tr>\n",
       "      <th>43</th>\n",
       "      <td>슈뻘맨의 숨은 과학 찾기 3</td>\n",
       "      <td>슈뻘맨</td>\n",
       "      <td>14000</td>\n",
       "      <td>2024년</td>\n",
       "    </tr>\n",
       "    <tr>\n",
       "      <th>44</th>\n",
       "      <td>역행자 확장판</td>\n",
       "      <td>자청</td>\n",
       "      <td>19500</td>\n",
       "      <td>2023년</td>\n",
       "    </tr>\n",
       "    <tr>\n",
       "      <th>45</th>\n",
       "      <td>고전의 숲</td>\n",
       "      <td>김태완</td>\n",
       "      <td>17500</td>\n",
       "      <td>2023년</td>\n",
       "    </tr>\n",
       "    <tr>\n",
       "      <th>46</th>\n",
       "      <td>EBS 왕초보 영어 (2024 상편)</td>\n",
       "      <td>마스터유진</td>\n",
       "      <td>14000</td>\n",
       "      <td>2024년</td>\n",
       "    </tr>\n",
       "    <tr>\n",
       "      <th>47</th>\n",
       "      <td>월간순정 노자키 군 15</td>\n",
       "      <td>츠바키 이즈미</td>\n",
       "      <td>6000</td>\n",
       "      <td>2024년</td>\n",
       "    </tr>\n",
       "    <tr>\n",
       "      <th>48</th>\n",
       "      <td>살인자ㅇ난감</td>\n",
       "      <td>꼬마비</td>\n",
       "      <td>25000</td>\n",
       "      <td>2024년</td>\n",
       "    </tr>\n",
       "    <tr>\n",
       "      <th>49</th>\n",
       "      <td>유목민의 투자의 정석</td>\n",
       "      <td>유목민</td>\n",
       "      <td>28000</td>\n",
       "      <td>2024년</td>\n",
       "    </tr>\n",
       "  </tbody>\n",
       "</table>\n",
       "</div>"
      ],
      "text/plain": [
       "                                                   제목  \\\n",
       "0                                          이처럼 사소한 것들   \n",
       "1                                       아이는 무엇으로 자라는가   \n",
       "2                                            너를 위한 삼월   \n",
       "3                               나는 메트로폴리탄 미술관의 경비원입니다   \n",
       "4                                        마흔에 읽는 쇼펜하우어   \n",
       "5                              박근혜 회고록 1 : 어둠을 지나 미래로   \n",
       "6                                        봄의 폭풍과 몬스터 3   \n",
       "7                              박근혜 회고록 2 : 어둠을 지나 미래로   \n",
       "8                           세이노의 가르침 (70만 부 기념 빨간 표지)   \n",
       "9          ETS 토익 정기시험 기출문제집 1000 Vol. 4 Reading (리딩)   \n",
       "10                                     사랑인 줄 알았는데 부정맥   \n",
       "11      ETS 토익 정기시험 기출문제집 1000 Vol. 4 Listening (리스닝)   \n",
       "12                              남에게 보여주려고 인생을 낭비하지 마라   \n",
       "13                                              퓨처 셀프   \n",
       "14                                             맡겨진 소녀   \n",
       "15                                            퍼스널 MBA   \n",
       "16                                           위기 탈출 도감   \n",
       "17                          우리는 모두 사랑하는 사람을 위해 일을 합니다   \n",
       "18                                처음부터 시작하는 주식투자 단타전략   \n",
       "19                                           도둑맞은 집중력   \n",
       "20               2024 Always First 양승아 응급처치학개론 동형모의고사   \n",
       "21                         도쿄 리벤저스 : 바지 케이스케로부터의 편지 1   \n",
       "22                                            원피스 107   \n",
       "23                                             금단의 마술   \n",
       "24                                             사라진 것들   \n",
       "25                                             던전밥 13   \n",
       "26                                         장송의 프리렌 11   \n",
       "27                                           살인자의 쇼핑몰   \n",
       "28                                       느리게 나이 드는 습관   \n",
       "29                                   끌리는 이야기는 어떻게 쓰는가   \n",
       "30                                      SQL 자격검정 실전문제   \n",
       "31                                      사랑을 무게로 안 느끼게   \n",
       "32                        해커스 토익 기출 보카 TOEIC VOCA 단어장   \n",
       "33                                     영어 필사 100일의 기적   \n",
       "34                                        향문천의 한국어 비사   \n",
       "35                                                 웡카   \n",
       "36      2024 큰별쌤 최태성의 별★별한국사 한국사능력검정시험 심화(1, 2, 3급) 상   \n",
       "37                                         살인자의 쇼핑몰 2   \n",
       "38                               카와이 센세의 인물 쉽게 그리는 방법   \n",
       "39                                     EBS 다큐프라임 자본주의   \n",
       "40                                       도시와 그 불확실한 벽   \n",
       "41  2024 큰별쌤 최태성의 별★별한국사 기출 500제 한국사능력검정시험 심화 (1, ...   \n",
       "42      2024 큰별쌤 최태성의 별★별한국사 한국사능력검정시험 심화(1, 2, 3급) 하   \n",
       "43                                    슈뻘맨의 숨은 과학 찾기 3   \n",
       "44                                            역행자 확장판   \n",
       "45                                              고전의 숲   \n",
       "46                               EBS 왕초보 영어 (2024 상편)   \n",
       "47                                      월간순정 노자키 군 15   \n",
       "48                                             살인자ㅇ난감   \n",
       "49                                        유목민의 투자의 정석   \n",
       "\n",
       "                          저자     정가   출간연도  \n",
       "0                     클레어 키건  13800  2023년  \n",
       "1                   버지니아 사티어  17500  2023년  \n",
       "2                        박서함  22000  2024년  \n",
       "3                    패트릭 브링리  17500  2023년  \n",
       "4                        강용수  17000  2023년  \n",
       "5                        박근혜  25000  2024년  \n",
       "6                   미츠바치 미유키   6000  2024년  \n",
       "7                        박근혜  25000  2024년  \n",
       "8                 세이노(SayNo)   7200  2023년  \n",
       "9                        ETS  19800  2023년  \n",
       "10  사단법인 전국유료실버타운협회 포푸라샤 편집부  13300  2024년  \n",
       "11                       ETS  19800  2023년  \n",
       "12                아르투어 쇼펜하우어  17500  2023년  \n",
       "13                    벤저민 하디  19800  2023년  \n",
       "14                    클레어 키건  13000  2023년  \n",
       "15                   조쉬 카우프만  35500  2024년  \n",
       "16                  스즈키 노리타케  15000  2024년  \n",
       "17                        하림  16800  2024년  \n",
       "18                       홍인기  21000  2023년  \n",
       "19                     요한 하리  18800  2023년  \n",
       "20                       양승아  15000  2024년  \n",
       "21               나츠카와구치 유키노리   6000  2024년  \n",
       "22                   오다 에이치로   5500  2024년  \n",
       "23                  히가시노 게이고  18800  2024년  \n",
       "24                    앤드루 포터  18000  2024년  \n",
       "25                     쿠이 료코   7000  2024년  \n",
       "26                  야마다 카네히토   6000  2024년  \n",
       "27                       강지영  13800  2020년  \n",
       "28                       정희원  18000  2023년  \n",
       "29                     리사 크론  18000  2024년  \n",
       "30                한국데이터산업진흥원  18000  2023년  \n",
       "31                       박완서  18000  2024년  \n",
       "32                 David Cho  12900  2023년  \n",
       "33                퍼포먼스 코치 리아  15000  2021년  \n",
       "34                       향문천  19800  2024년  \n",
       "35                    시빌 파운더  16000  2024년  \n",
       "36                       최태성  16000  2023년  \n",
       "37                       강지영  14800  2023년  \n",
       "38                    카와이 센세  20000  2024년  \n",
       "39              EBS 자본주의 제작팀  17000  2013년  \n",
       "40                  무라카미 하루키  19500  2023년  \n",
       "41                       최태성  19500  2024년  \n",
       "42                       최태성  15500  2023년  \n",
       "43                       슈뻘맨  14000  2024년  \n",
       "44                        자청  19500  2023년  \n",
       "45                       김태완  17500  2023년  \n",
       "46                     마스터유진  14000  2024년  \n",
       "47                   츠바키 이즈미   6000  2024년  \n",
       "48                       꼬마비  25000  2024년  \n",
       "49                       유목민  28000  2024년  "
      ]
     },
     "execution_count": 204,
     "metadata": {},
     "output_type": "execute_result"
    }
   ],
   "source": [
    "# 결과보기\n",
    "result"
   ]
  },
  {
   "cell_type": "code",
   "execution_count": 198,
   "id": "c6863073-99bc-4814-828a-ccb7fdf4c273",
   "metadata": {
    "tags": []
   },
   "outputs": [],
   "source": [
    "# 엑셀파일로 결과 저장\n",
    "result.to_excel('res.xlsx', index=False)"
   ]
  }
 ],
 "metadata": {
  "kernelspec": {
   "display_name": "Python 3 (ipykernel)",
   "language": "python",
   "name": "python3"
  },
  "language_info": {
   "codemirror_mode": {
    "name": "ipython",
    "version": 3
   },
   "file_extension": ".py",
   "mimetype": "text/x-python",
   "name": "python",
   "nbconvert_exporter": "python",
   "pygments_lexer": "ipython3",
   "version": "3.11.5"
  }
 },
 "nbformat": 4,
 "nbformat_minor": 5
}
