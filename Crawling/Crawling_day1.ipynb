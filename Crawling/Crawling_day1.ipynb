{
 "cells": [
  {
   "cell_type": "markdown",
   "id": "aabe07e7",
   "metadata": {},
   "source": [
    "# 크롤링 실습"
   ]
  },
  {
   "cell_type": "code",
   "execution_count": 2,
   "id": "ba23a424-9001-412e-acc3-e769921c3727",
   "metadata": {
    "tags": []
   },
   "outputs": [],
   "source": [
    "from newspaper import Article"
   ]
  },
  {
   "cell_type": "code",
   "execution_count": 3,
   "id": "5dd2da71-d473-47a8-baca-5f4fff6080ed",
   "metadata": {
    "tags": []
   },
   "outputs": [],
   "source": [
    "url = 'https://view.asiae.co.kr/article/2023032217473512545?utm_source=newsstand.naver.com&utm_medium=referral&utm_campaign=top6' "
   ]
  },
  {
   "cell_type": "code",
   "execution_count": 7,
   "id": "2d3185e4-2806-4a0e-84e5-5fde90248dd8",
   "metadata": {
    "tags": []
   },
   "outputs": [],
   "source": [
    "article=Article(url, language='ko')\n",
    "#아티클 정의=아티클(초기화, 언어 한국어로 지정)"
   ]
  },
  {
   "cell_type": "code",
   "execution_count": 8,
   "id": "575c84c4-d3b1-4533-81c2-74e8beb7138b",
   "metadata": {
    "tags": []
   },
   "outputs": [],
   "source": [
    "article.download()\n",
    "# 아티클 다운로드"
   ]
  },
  {
   "cell_type": "code",
   "execution_count": 9,
   "id": "c937b22f-48e3-463e-8b7a-6e2647d787e3",
   "metadata": {
    "tags": []
   },
   "outputs": [],
   "source": [
    "article.parse()"
   ]
  },
  {
   "cell_type": "code",
   "execution_count": null,
   "id": "cbb09416-6a27-4d42-bd79-e9e671c29f3e",
   "metadata": {
    "collapsed": true,
    "jupyter": {
     "outputs_hidden": true
    },
    "tags": []
   },
   "outputs": [],
   "source": [
    "print(article.text)\n",
    "# 저장한 본문 프린트"
   ]
  },
  {
   "cell_type": "code",
   "execution_count": null,
   "id": "29c4f554-2a23-4034-9a12-769026514cfd",
   "metadata": {
    "tags": []
   },
   "outputs": [],
   "source": [
    "article.title\n",
    "# 타이틀 가져오기"
   ]
  },
  {
   "cell_type": "code",
   "execution_count": null,
   "id": "d5457cfc-f3e7-4068-ac7a-7f76897dddf6",
   "metadata": {
    "tags": []
   },
   "outputs": [],
   "source": [
    "article.publish_date\n",
    "# 기사 날짜"
   ]
  },
  {
   "cell_type": "code",
   "execution_count": 20,
   "id": "21c29448-5c3f-4d9d-acd6-5fe000c6665a",
   "metadata": {
    "tags": []
   },
   "outputs": [
    {
     "data": {
      "text/plain": [
       "[]"
      ]
     },
     "execution_count": 20,
     "metadata": {},
     "output_type": "execute_result"
    }
   ],
   "source": [
    "article.authors\n",
    "# 다른 부분에 기자정보있어서 공란으로 나옴"
   ]
  },
  {
   "cell_type": "code",
   "execution_count": null,
   "id": "e2ecc474-e20d-4500-9fcb-a2d2499617b1",
   "metadata": {
    "collapsed": true,
    "jupyter": {
     "outputs_hidden": true
    },
    "tags": []
   },
   "outputs": [],
   "source": [
    "# 기사 html 불러오기\n",
    "article.html"
   ]
  },
  {
   "cell_type": "code",
   "execution_count": null,
   "id": "57705f0e-920c-4433-af10-b4cc85fd313e",
   "metadata": {
    "tags": []
   },
   "outputs": [],
   "source": [
    "# 기자이름 크롤링\n",
    "import re\n",
    "re.findall('<div class=\"reporter\">', article.html)"
   ]
  },
  {
   "cell_type": "code",
   "execution_count": null,
   "id": "fe6dec2d-2984-412f-a377-c1f4e8ffe0fe",
   "metadata": {
    "tags": []
   },
   "outputs": [],
   "source": [
    "article.html.split('<div class=\"reporter\">')[1].split('<strong>')[1].split('</strong>')[0]"
   ]
  },
  {
   "cell_type": "code",
   "execution_count": null,
   "id": "fca4e460-ea7b-4765-b3e6-7857411d1092",
   "metadata": {
    "tags": []
   },
   "outputs": [],
   "source": [
    "# 기사 헤드라이너 크롤링\n",
    "import re\n",
    "re.findall('<div class=\"article_head\">', article.html)"
   ]
  },
  {
   "cell_type": "code",
   "execution_count": null,
   "id": "7080ff02-70e8-4fdb-8f60-16571b27e32c",
   "metadata": {
    "tags": []
   },
   "outputs": [],
   "source": [
    "article.html.split('<div class=\"article_head\">')[1].split('<h4>')[1].split('</h4>')[0]\n",
    "# <div class=\"article_head\"> 태그와 <h4> 태그 사이에 있는 텍스트를 추출"
   ]
  },
  {
   "cell_type": "code",
   "execution_count": null,
   "id": "06c2f685-a1bf-48a2-9dca-c15afa189a1e",
   "metadata": {
    "tags": []
   },
   "outputs": [],
   "source": [
    "# 기사 로고 크롤링\n",
    "import re\n",
    "re.findall('<div class=\"logo\">', article.html)\n",
    "# article.html에 저장된 HTML 코드에서 <div class=\"logo\"> 태그와 일치하는 모든 부분을 찾아 리스트로 반환"
   ]
  },
  {
   "cell_type": "code",
   "execution_count": null,
   "id": "23465913-2a72-4bbe-b2ca-08977606b802",
   "metadata": {
    "tags": []
   },
   "outputs": [],
   "source": [
    "article.html.split('<strong>')[1].split('</strong>')[0]\n",
    "# 이때 분할된 결과에서 인덱스 1에 해당하는 부분을 선택합니다. 즉, <strong> 태그 다음에 나오는 부분을 선택합니다.\n",
    "# 선택된 부분을 </strong> 태그를 기준으로 분할합니다.\n",
    "# 이때 분할된 결과에서 인덱스 0에 해당하는 부분을 선택합니다. 즉, </strong> 태그 이전의 텍스트 부분을 선택합니다."
   ]
  },
  {
   "cell_type": "code",
   "execution_count": null,
   "id": "023f77d5-4f7e-428c-ac63-c51b1382682f",
   "metadata": {
    "tags": []
   },
   "outputs": [],
   "source": [
    "# onclick 속성 추출\n",
    "onclick_attribute = re.search(r'onclick=\"(.*?)\"',article.html).group(1)\n",
    "\n",
    "# 이벤트 카테고리 추출\n",
    "event_category = re.search(r\"'event_category' : '(.*?)'\", onclick_attribute).group(1)\n",
    "\n",
    "# 이벤트 라벨 추출\n",
    "event_label = re.search(r\"'event_label' : '(.*?)'\", onclick_attribute).group(1)\n",
    "\n",
    "print(\"이벤트 카테고리:\", event_category)\n",
    "print(\"이벤트 라벨:\", event_label)"
   ]
  },
  {
   "cell_type": "markdown",
   "id": "65a52275",
   "metadata": {},
   "source": [
    "# 알라딘 홈페이지 크롤링"
   ]
  },
  {
   "cell_type": "code",
   "execution_count": 60,
   "id": "3fda0e32-3094-4135-af92-70879ee57ac2",
   "metadata": {
    "tags": []
   },
   "outputs": [],
   "source": [
    "#import package\n",
    "from bs4 import BeautifulSoup\n",
    "import requests\n",
    "import pandas as pd"
   ]
  },
  {
   "cell_type": "code",
   "execution_count": 67,
   "id": "b4075722-0a28-49ac-9899-3140b501a957",
   "metadata": {
    "tags": []
   },
   "outputs": [],
   "source": [
    "#알라딘 주간 베스트셀러 주소\n",
    "page=1 # 원하는 페이지 번호\n",
    "for i in range (url = f'https://aladin.co.kr/shop/common/wbest.aspx?BestType=Bestseller&BranchType=1&CID=0&page='+ i + &cnt=1000&SortOrder=1)\n",
    "\n",
    "req = requests.get(url) # 서버에 접속 정보 보내주기. 주소창에 주소넣고 엔터치는 거랑 같은 작업.\n",
    "content = req.content # 변수 만들기: content = req.내용물에 대한 정보\n",
    "soup = BeautifulSoup(content, 'html.parser') # soup로 저장 = 초기화, html형태로 파싱"
   ]
  },
  {
   "cell_type": "code",
   "execution_count": null,
   "id": "84af17d2-5eb6-4d2b-971d-f5325fea3a46",
   "metadata": {
    "collapsed": true,
    "jupyter": {
     "outputs_hidden": true
    },
    "tags": []
   },
   "outputs": [],
   "source": [
    "# 알라딘 주간 베스트셀러 html 불러오기\n",
    "soup"
   ]
  },
  {
   "cell_type": "markdown",
   "id": "a84ef114",
   "metadata": {},
   "source": [
    "#### 베스트셀러 도서명 크롤링"
   ]
  },
  {
   "cell_type": "code",
   "execution_count": null,
   "id": "bb081452-41fc-45cb-8452-94dad7ef1575",
   "metadata": {
    "tags": []
   },
   "outputs": [],
   "source": [
    "# 도서명\n",
    "title=[soup.select('a.bo3')[i].text for i in range(0, 50)]\n",
    "title"
   ]
  },
  {
   "cell_type": "code",
   "execution_count": null,
   "id": "74e20760-d059-43d6-ac02-0a89ec1d65f2",
   "metadata": {
    "tags": []
   },
   "outputs": [],
   "source": [
    "# 작가\n",
    "soup.select('div.ss_book_list')[0].select('li')[2].select('a')[0].text\n",
    "#soup.select('추출하려는 값에 가장 가까운 클래스 이름')[책 순서. 0은 첫번째책].select[li('추출하려는 값에 가장 가까운 태그')[태그 순서].selext('추출하려는 값에 가장 가까운 태그')[해당 태그의 순서]"
   ]
  },
  {
   "cell_type": "code",
   "execution_count": null,
   "id": "0c004ce1-3d96-4b7f-b690-f649f0c22354",
   "metadata": {
    "tags": []
   },
   "outputs": [],
   "source": [
    "# 할인가\n",
    "soup.select('div.ss_book_list')[0].select('li')[3].select('b')[0].text"
   ]
  },
  {
   "cell_type": "code",
   "execution_count": 185,
   "id": "81454fac-7db6-476f-b1e7-91ac1c12e59f",
   "metadata": {
    "tags": []
   },
   "outputs": [],
   "source": [
    "author=[]\n",
    "for i in range(0,100,2):\n",
    "    try:\n",
    "        author.append(soup.select('div.ss_book_list')[i].select('li')[2].select('a')[0].text)\n",
    "    except:\n",
    "        author.append(soup.select('div.ss_book_list')[i].select('li')[1].select('a')[0].text)\n",
    "# 짝수 만 봄\n",
    "#    우선 해봄\n",
    "#    안되면 다음에 해봄\n",
    "# 이름.append --> list에 원소 추가 한 번에 하나씩 이름에 추가"
   ]
  },
  {
   "cell_type": "code",
   "execution_count": null,
   "id": "773fe66b-70d2-40ca-8d9f-97b16a1f3d8c",
   "metadata": {
    "tags": []
   },
   "outputs": [],
   "source": [
    "#할인가 - 반복하여 추출\n",
    "\n",
    "for i in range(0,100,2):\n",
    "    try:\n",
    "        print(soup.select('div.ss_book_list')[i].select('li')[3].select('b')[0].text)\n",
    "    except:\n",
    "        print(i)"
   ]
  },
  {
   "cell_type": "code",
   "execution_count": 199,
   "id": "1d517e2b-6845-4dc5-a8a5-65bc8cf2213a",
   "metadata": {
    "tags": []
   },
   "outputs": [],
   "source": [
    "# 가격 - 반복하여 추출\n",
    "price=[]\n",
    "for i in range(0,100,2):\n",
    "    try:\n",
    "        price.append(int(soup.select('div.ss_book_list')[i].select('ul')[0].select('li')[3].select('span')[0].text.replace(',',\"\")))\n",
    "    except:\n",
    "        price.append(int(soup.select('div.ss_book_list')[i].select('ul')[0].select('li')[2].select('span')[0].text.replace(',',\"\")))"
   ]
  },
  {
   "cell_type": "code",
   "execution_count": null,
   "id": "ff7202a8-f83c-483f-9d03-f59d1753dd9d",
   "metadata": {
    "tags": []
   },
   "outputs": [],
   "source": [
    "# 출간연도\n",
    "import re\n",
    "re.findall('\\d\\d\\d\\d년', soup.select('div.ss_book_list')[0].select('ul')[0].select('li')[2].text)[0]"
   ]
  },
  {
   "cell_type": "code",
   "execution_count": null,
   "id": "2de59a36-b89a-427b-b706-d4e426bf98f9",
   "metadata": {
    "tags": []
   },
   "outputs": [],
   "source": [
    "re.findall('\\d\\d\\d\\d년', soup.select('div.ss_book_list')[0].text)[0]"
   ]
  },
  {
   "cell_type": "code",
   "execution_count": 201,
   "id": "eb0292bc-f895-42f4-ab56-f1d56e2c97b8",
   "metadata": {
    "tags": []
   },
   "outputs": [],
   "source": [
    "year=[re.findall('\\d\\d\\d\\d년', soup.select('div.ss_book_list')[i].select('ul')[0].text)[0] for i in range(0,100,2)]"
   ]
  },
  {
   "cell_type": "code",
   "execution_count": 203,
   "id": "5e9c25fc-6805-4e71-b1f6-5ed7f663c16b",
   "metadata": {
    "tags": []
   },
   "outputs": [],
   "source": [
    "import pandas as pd\n",
    "result=pd.DataFrame([title, author, price, year], index=['제목', '저자', '정가', '출간연도']).T"
   ]
  },
  {
   "cell_type": "code",
   "execution_count": null,
   "id": "c0085167-9660-4561-8a6b-d09b3332ac3d",
   "metadata": {
    "tags": []
   },
   "outputs": [],
   "source": [
    "# 결과보기\n",
    "result"
   ]
  },
  {
   "cell_type": "code",
   "execution_count": 198,
   "id": "c6863073-99bc-4814-828a-ccb7fdf4c273",
   "metadata": {
    "tags": []
   },
   "outputs": [],
   "source": [
    "# 엑셀파일로 결과 저장\n",
    "result.to_excel('res.xlsx', index=False)"
   ]
  }
 ],
 "metadata": {
  "kernelspec": {
   "display_name": "Python 3 (ipykernel)",
   "language": "python",
   "name": "python3"
  },
  "language_info": {
   "codemirror_mode": {
    "name": "ipython",
    "version": 3
   },
   "file_extension": ".py",
   "mimetype": "text/x-python",
   "name": "python",
   "nbconvert_exporter": "python",
   "pygments_lexer": "ipython3",
   "version": "3.11.5"
  }
 },
 "nbformat": 4,
 "nbformat_minor": 5
}
