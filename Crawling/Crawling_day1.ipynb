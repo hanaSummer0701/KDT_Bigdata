{
 "cells": [
  {
   "cell_type": "markdown",
   "id": "aabe07e7",
   "metadata": {},
   "source": [
    "# 크롤링 실습"
   ]
  },
  {
   "cell_type": "code",
   "execution_count": 2,
   "id": "ba23a424-9001-412e-acc3-e769921c3727",
   "metadata": {
    "tags": []
   },
   "outputs": [],
   "source": [
    "from newspaper import Article"
   ]
  },
  {
   "cell_type": "code",
   "execution_count": 3,
   "id": "5dd2da71-d473-47a8-baca-5f4fff6080ed",
   "metadata": {
    "tags": []
   },
   "outputs": [],
   "source": [
    "url = 'https://view.asiae.co.kr/article/2023032217473512545?utm_source=newsstand.naver.com&utm_medium=referral&utm_campaign=top6' "
   ]
  },
  {
   "cell_type": "code",
   "execution_count": 7,
   "id": "2d3185e4-2806-4a0e-84e5-5fde90248dd8",
   "metadata": {
    "tags": []
   },
   "outputs": [],
   "source": [
    "article=Article(url, language='ko')\n",
    "#아티클 정의=아티클(초기화, 언어 한국어로 지정)"
   ]
  },
  {
   "cell_type": "code",
   "execution_count": 8,
   "id": "575c84c4-d3b1-4533-81c2-74e8beb7138b",
   "metadata": {
    "tags": []
   },
   "outputs": [],
   "source": [
    "article.download()\n",
    "# 아티클 다운로드"
   ]
  },
  {
   "cell_type": "code",
   "execution_count": 9,
   "id": "c937b22f-48e3-463e-8b7a-6e2647d787e3",
   "metadata": {
    "tags": []
   },
   "outputs": [],
   "source": [
    "article.parse()"
   ]
  },
  {
   "cell_type": "code",
   "execution_count": 13,
   "id": "cbb09416-6a27-4d42-bd79-e9e671c29f3e",
   "metadata": {
    "collapsed": true,
    "jupyter": {
     "outputs_hidden": true
    },
    "tags": []
   },
   "outputs": [
    {
     "name": "stdout",
     "output_type": "stream",
     "text": [
      "삼성전자 반도체 부문-하이닉스, 3조~4조대 적자 전망\n",
      "\n",
      "매출 상위 10위권 중 6개 기업 영업이익 큰 폭 감소\n",
      "\n",
      "고강도 긴축과 경기 침체 등으로 올해 1분기 국내 주요 상장사가 '어닝 쇼크'를 기록할 전망이다. 특히 삼성전자, SK하이닉스 등 한국 경제를 이끄는 간판 대기업의 영업이익은 '빅쇼크' 수준의 부진에 빠졌다. 2분기 실적 전망도 밝지 않다. 미국의 금리 인상 행진이 막바지에 다다르긴 했지만, 실리콘밸리은행(SVB)·크레디스위스(CS) 사태에 따른 금융권발 불안과 여전히 높은 물가수준 등으로 경기 침체 우려가 쉽사리 가시지 않을 것으로 보인다.\n",
      "\n",
      "1분기 영업이익 26조로 지난해 같은 기간의 절반\n",
      "\n",
      "24일 금융정보업체 에프앤가이드에 따르면 실적 추정 기관 3곳 이상인 코스피·코스닥 상장사 199곳의 올해 1분기 영업이익(이하 전망치) 총액은 26조1033억원으로 집계됐다. 지난해 1분기(50조6590억원)의 반타작 수준이다. 실적 전망치가 취합된 199개 상장사 중 약 45%에 이르는 89개 기업의 영업이익이 줄어들 전망이다. 2분기 실적은 더욱 나쁠 것으로 보인다. 2분기 영업이익 전망치 총액은 21조3125억원에 불과하다. 지난해 같은 기간의 실적(44조4322억원)의 절반에도 미치지 못하는 수치다.\n",
      "\n",
      "삼성전자 서초사옥 전경. 사진=김현민 기자 kimhyun81@ AD 원본보기 아이콘\n",
      "\n",
      "상장사 영업이익 총액이 이처럼 급감한 데는 국내 매출 순위 최상위권에 속하는 주요 대기업의 부진 영향이 컸다. 상장사 199곳 중 1분기 매출 상위 10위권에서 6개 기업의 영업이익이 지난해 같은 기간 대비 큰 폭 감소할 전망이다. 삼성전자(-88.1%)·POSCO홀딩스(-66.6%)·SK이노베이션(-63.5%)·LG전자(-45.4%)·LG화학(-40.9%)·HD현대(-24.2%)가 큰 낙폭을 보였다. 적자폭을 줄이긴 했지만 한국전력은 여전히 5조원대 손실을 기록할 것으로 보인다.\n",
      "\n",
      "삼성전자 1분기 적자전환 분석도 나와\n",
      "\n",
      "지난해 1분기 14조원대였던 삼성전자의 영업이익은 올해 1분기엔 1조6850억원에 그칠 것으로 추정됐다. 1년새 10분의1 수준으로 쪼그라든 것이다. 삼성전자 분기 영업이익이 2조원 미만으로 떨어진 것은 글로벌 금융위기가 닥쳤던 2009년 1분기(5930억원) 이후 이번이 14년 만에 처음이다. 그마저도 기존에 나온 실적 추정치의 평균치다. 이달 말로 예정된 실적 발표일이 다가올수록 전망은 더욱 비관적으로 바뀌고 있다.\n",
      "\n",
      "일각에서는 삼성전자 영업이익이 1조원에도 못 미치거나 아예 적자로 돌아설 것이란 우울한 전망까지 나온다. 최근 3일새 추가된 증권가 리포트 중 신한투자증권은 삼성전자 1분기 영업이익이 7680억원, 신영증권은 3200억원, 이베스트투자증권은 1000억원일 것으로 각각 예상했다. 다올투자증권은 현재까지 나온 전망치 중 유일하게 적자(-680억원) 전환할 것으로 봤다. 반도체 부문이 3조원대 후반~4조원대 초반 수준의 대규모 적자에 빠질 것이란 데에는 이견이 없었다. 김양재 다올투자증권 연구원은 \"메모리 재고 평가손실 여파로 반도체 부문 영업적자가 4조1000조원에 이를 것으로 추정된다\"라며 \"2분기부터 영업적자가 다소 줄어들 것\"이라고 내다봤다.\n",
      "\n",
      "SK하이닉스의 상황은 더욱 심각하다. 1분기에만 3조4710억원 규모의 적자를 기록할 전망이다. 지난해 1분기에 벌어들인 이익(2조8596억원) 규모를 뛰어넘는 수치로, 1년새 분기 영업이익이 6조원 이상 증발한 셈이다. SK하이닉스를 다룬 최신 보고서에서는 시장 예상보다 악화한 4조원대 적자를 예상하기도 했다. 서승연 신영증권 연구원은 \"SK하이닉스의 1분기 영업손실은 4조2000억원으로 시장 컨센서스를 밑돌 전망\"이라며 \"계절적 비수기 속에서 고객사의 재고 조정이 이어지며 메모리 출하량이 예상보다 줄어들 것\"이라고 봤다.\n",
      "\n",
      "반도체 업황은 2분기에 최악으로 치달을 것으로 보인다. 에프앤가이드에 따르면 삼성전자의 2분기 영업이익 전망치는 1분기보다 더 낮은 1조4620억원이다. 신한투자증권은 삼성전자가 2분기에 1000억원대 영업이익을 내는 데 그쳐 사실상 적자 위기에 내몰릴 것으로 봤다. SK하이닉스는 연중 내내 적자를 이어가 연간 12조원 규모의 손실을 낼 것으로 추정했다.\n",
      "\n",
      "올해 3분기 이후에는 반도체 업황이 점차 회복기에 진입할 것으로 보인다. 핵심은 수요다. 현재 삼성전자를 비롯한 반도체 업체의 재고자산이 평년의 2~3배에 이른다는 분석이 나오고 있다. 그럼에도 '인위적 감산은 없다'는 게 삼성전자의 공식적인 정책 방향이다. 다만 시장에서는 불어난 재고를 줄이기 위해 삼성전자가 어떤 방식으로든 감산 효과를 낼 것으로 보고 있다. 도현우 NH투자증권 연구원은 \"일부 테스트와 부품 업체에 따르면 1분기 삼성전자에서 수주한 (반도체) 물량이 30% 이상 감소하는 등 이미 상당한 규모로 감산을 진행 중\"이라고 설명했다.\n",
      "\n",
      "반도체 절대수요도 3분기부터는 늘어날 것으로 기대된다. 고영민 신한투자증권 책임연구원은 \"반도체 절대수요 변곡점은 올해 3~4분기가 될 것\"이라며 \"코로나19 이후 이탈했던 IT 세트 수요가 다시 정상궤도에 근접하고 있고, 매크로(거시경제) 변곡점 부근에서 IT 세트·반도체의 수요 회복 속도는 생각보다 강하고 빠를 수 있다\"라고 내다봤다. 남대종 이베스트투자증권 연구원도 \"메모리 반도체 가격의 저점은 2분기 말~3분기 초에 형성될 것\"이라며 \"공급 과잉 상황은 1분기에 피크아웃(Peak out·정점 찍고 하락)할 것이며, 하반기에 수급 상황이 개선될 것으로 본다\"라고 말했다.\n",
      "\n",
      "자동차·2차전지 업종이 반도체 부진 메워\n",
      "\n",
      "삼성전자의 부진으로 올해 1분기 상장사 실적 순위는 그야말로 지각변동이 예상된다. 반도체가 고꾸라지는 사이 자동차 산업은 북미·유럽 시장을 누비며 호황을 기록했다. 산업통상자원부에 따르면 지난 1~2월 자동차 수출액은 105억8100만달러로, 지난해 같은 기간 대비 34%나 늘었다. 특히 2월 수출액(56억달러)은 월간 기준으로 역대 최대치다. 증권가는 현대차의 1분기 영업이익이 지난해 같은 기간 대비 32.1% 늘어난 2조5481억원을 기록할 것으로 전망했다. 같은 기간 기아도 26.2% 늘어난 2조278억원의 영업이익을 나타낼 것으로 봤다. 모두 삼성전자 실적을 훌쩍 뛰어넘는 수치다. 현대차의 핵심 부품 계열사인 현대모비스도 1분기 5600억원의 영업이익을 달성하면서 증가율이 44.6%에 이르렀다.\n",
      "\n",
      "대표적 성장 산업으로 꼽히는 2차전지 업종 전망도 밝다. LG에너지솔루션은 올해 1분기 4516억원의 영업이익을 올릴 것으로 추정된다. 지난해 같은 기간 대비 74.4% 늘어난 수치다. 실적 성장에 힘입어 LG에너지솔루션 주가는 57만5000원(3월23일 종가)을 기록했다. 연초 대비 약 40% 뛰었다. 삼성SDI의 1분기 영업이익도 지난해보다 22.7% 증가한 3956억원으로 전망됐다. 아울러 최근 주가가 천정부지로 치솟은 '코스닥 대장주' 에코프로비엠의 올해 1분기 영업이익은 지난해(411억원)의 세 배 수준인 1132억원을 기록할 전망이다. 이안나 유안타증권 연구원은 주가가 가파르게 뛴 2차전지 관련 종목과 관련해 \"가파른 주가 상승으로 단기 조정 가능성은 있지만, 수주 물량이 많고 성장성이 뛰어나 조정 기간이 길지 않고 폭도 크지 않을 것\"이라고 내다봤다.\n",
      "\n",
      "장기간 적자에 시달렸던 조선 업계도 올해 1분기에는 웃을 것으로 보인다. 현대중공업·삼성중공업은 올 1분기 흑자 전환이 유력하고, 현대미포조선과 대우조선해양도 지난해 1분기에 비해 적자 규모를 줄일 것으로 전망됐다. 아울러 고금리 상황이 이어지면서 예대마진 수익 등으로 신한지주(1조9378)·KB금융(1조8887)의 영업이익 성적도 상위권을 기록할 전망이다.\n",
      "\n",
      "\n",
      "\n",
      "\n",
      "\n",
      "\n",
      "\n",
      "\n",
      "\n",
      "손선희 기자 sheeson@asiae.co.kr\n",
      "\n",
      "\n",
      "\n",
      "AD\n",
      "\n",
      "\n",
      "\n",
      "<ⓒ투자가를 위한 경제콘텐츠 플랫폼, 아시아경제(www.asiae.co.kr) 무단전재 배포금지>\n"
     ]
    }
   ],
   "source": [
    "print(article.text)\n",
    "# 저장한 본문 프린트"
   ]
  },
  {
   "cell_type": "code",
   "execution_count": 15,
   "id": "29c4f554-2a23-4034-9a12-769026514cfd",
   "metadata": {
    "tags": []
   },
   "outputs": [
    {
     "data": {
      "text/plain": [
       "\"'반도체' 빠지니 드러난 韓기업 민낯…1분기 실적 '어닝 쇼크' 수준\""
      ]
     },
     "execution_count": 15,
     "metadata": {},
     "output_type": "execute_result"
    }
   ],
   "source": [
    "article.title\n",
    "# 타이틀 가져오기"
   ]
  },
  {
   "cell_type": "code",
   "execution_count": 17,
   "id": "d5457cfc-f3e7-4068-ac7a-7f76897dddf6",
   "metadata": {
    "tags": []
   },
   "outputs": [
    {
     "data": {
      "text/plain": [
       "datetime.datetime(2023, 3, 24, 6, 40)"
      ]
     },
     "execution_count": 17,
     "metadata": {},
     "output_type": "execute_result"
    }
   ],
   "source": [
    "article.publish_date\n",
    "# 기사 날짜"
   ]
  },
  {
   "cell_type": "code",
   "execution_count": 20,
   "id": "21c29448-5c3f-4d9d-acd6-5fe000c6665a",
   "metadata": {
    "tags": []
   },
   "outputs": [
    {
     "data": {
      "text/plain": [
       "[]"
      ]
     },
     "execution_count": 20,
     "metadata": {},
     "output_type": "execute_result"
    }
   ],
   "source": [
    "article.authors\n",
    "# 다른 부분에 기자정보있어서 공란으로 나옴"
   ]
  },
  {
   "cell_type": "code",
   "execution_count": null,
   "id": "e2ecc474-e20d-4500-9fcb-a2d2499617b1",
   "metadata": {
    "collapsed": true,
    "jupyter": {
     "outputs_hidden": true
    },
    "tags": []
   },
   "outputs": [],
   "source": [
    "# 기사 html 불러오기\n",
    "article.html"
   ]
  },
  {
   "cell_type": "code",
   "execution_count": 38,
   "id": "57705f0e-920c-4433-af10-b4cc85fd313e",
   "metadata": {
    "tags": []
   },
   "outputs": [
    {
     "data": {
      "text/plain": [
       "['<div class=\"reporter\">']"
      ]
     },
     "execution_count": 38,
     "metadata": {},
     "output_type": "execute_result"
    }
   ],
   "source": [
    "# 기자이름 크롤링\n",
    "import re\n",
    "re.findall('<div class=\"reporter\">', article.html)"
   ]
  },
  {
   "cell_type": "code",
   "execution_count": 41,
   "id": "fe6dec2d-2984-412f-a377-c1f4e8ffe0fe",
   "metadata": {
    "tags": []
   },
   "outputs": [
    {
     "data": {
      "text/plain": [
       "'손선희'"
      ]
     },
     "execution_count": 41,
     "metadata": {},
     "output_type": "execute_result"
    }
   ],
   "source": [
    "article.html.split('<div class=\"reporter\">')[1].split('<strong>')[1].split('</strong>')[0]"
   ]
  },
  {
   "cell_type": "code",
   "execution_count": 45,
   "id": "fca4e460-ea7b-4765-b3e6-7857411d1092",
   "metadata": {
    "tags": []
   },
   "outputs": [
    {
     "data": {
      "text/plain": [
       "['<div class=\"article_head\">']"
      ]
     },
     "execution_count": 45,
     "metadata": {},
     "output_type": "execute_result"
    }
   ],
   "source": [
    "# 기사 헤드라이너 크롤링\n",
    "import re\n",
    "re.findall('<div class=\"article_head\">', article.html)"
   ]
  },
  {
   "cell_type": "code",
   "execution_count": 50,
   "id": "7080ff02-70e8-4fdb-8f60-16571b27e32c",
   "metadata": {
    "tags": []
   },
   "outputs": [
    {
     "data": {
      "text/plain": [
       "'삼성전자 반도체 부문-하이닉스, 3조~4조대 적자 전망<br>매출 상위 10위권 중 6개 기업 영업이익 큰 폭 감소'"
      ]
     },
     "execution_count": 50,
     "metadata": {},
     "output_type": "execute_result"
    }
   ],
   "source": [
    "article.html.split('<div class=\"article_head\">')[1].split('<h4>')[1].split('</h4>')[0]\n",
    "# <div class=\"article_head\"> 태그와 <h4> 태그 사이에 있는 텍스트를 추출"
   ]
  },
  {
   "cell_type": "code",
   "execution_count": 52,
   "id": "06c2f685-a1bf-48a2-9dca-c15afa189a1e",
   "metadata": {
    "tags": []
   },
   "outputs": [
    {
     "data": {
      "text/plain": [
       "['<div class=\"logo\">']"
      ]
     },
     "execution_count": 52,
     "metadata": {},
     "output_type": "execute_result"
    }
   ],
   "source": [
    "# 기사 로고 크롤링\n",
    "import re\n",
    "re.findall('<div class=\"logo\">', article.html)\n",
    "# article.html에 저장된 HTML 코드에서 <div class=\"logo\"> 태그와 일치하는 모든 부분을 찾아 리스트로 반환"
   ]
  },
  {
   "cell_type": "code",
   "execution_count": 58,
   "id": "23465913-2a72-4bbe-b2ca-08977606b802",
   "metadata": {
    "tags": []
   },
   "outputs": [
    {
     "data": {
      "text/plain": [
       "'아시아경제'"
      ]
     },
     "execution_count": 58,
     "metadata": {},
     "output_type": "execute_result"
    }
   ],
   "source": [
    "article.html.split('<strong>')[1].split('</strong>')[0]\n",
    "# 이때 분할된 결과에서 인덱스 1에 해당하는 부분을 선택합니다. 즉, <strong> 태그 다음에 나오는 부분을 선택합니다.\n",
    "# 선택된 부분을 </strong> 태그를 기준으로 분할합니다.\n",
    "# 이때 분할된 결과에서 인덱스 0에 해당하는 부분을 선택합니다. 즉, </strong> 태그 이전의 텍스트 부분을 선택합니다."
   ]
  },
  {
   "cell_type": "code",
   "execution_count": 59,
   "id": "023f77d5-4f7e-428c-ac63-c51b1382682f",
   "metadata": {
    "tags": []
   },
   "outputs": [
    {
     "name": "stdout",
     "output_type": "stream",
     "text": [
      "이벤트 카테고리: gnb\n",
      "이벤트 라벨: 로고\n"
     ]
    }
   ],
   "source": [
    "# onclick 속성 추출\n",
    "onclick_attribute = re.search(r'onclick=\"(.*?)\"',article.html).group(1)\n",
    "\n",
    "# 이벤트 카테고리 추출\n",
    "event_category = re.search(r\"'event_category' : '(.*?)'\", onclick_attribute).group(1)\n",
    "\n",
    "# 이벤트 라벨 추출\n",
    "event_label = re.search(r\"'event_label' : '(.*?)'\", onclick_attribute).group(1)\n",
    "\n",
    "print(\"이벤트 카테고리:\", event_category)\n",
    "print(\"이벤트 라벨:\", event_label)"
   ]
  },
  {
   "cell_type": "markdown",
   "id": "65a52275",
   "metadata": {},
   "source": [
    "# 알라딘 홈페이지 크롤링"
   ]
  },
  {
   "cell_type": "code",
   "execution_count": 60,
   "id": "3fda0e32-3094-4135-af92-70879ee57ac2",
   "metadata": {
    "tags": []
   },
   "outputs": [],
   "source": [
    "#import package\n",
    "from bs4 import BeautifulSoup\n",
    "import requests\n",
    "import pandas as pd"
   ]
  },
  {
   "cell_type": "code",
   "execution_count": 67,
   "id": "b4075722-0a28-49ac-9899-3140b501a957",
   "metadata": {
    "tags": []
   },
   "outputs": [],
   "source": [
    "#알라딘 주간 베스트셀러 주소\n",
    "page=1 # 원하는 페이지 번호\n",
    "for i in range (url = f'https://aladin.co.kr/shop/common/wbest.aspx?BestType=Bestseller&BranchType=1&CID=0&page='+ i + &cnt=1000&SortOrder=1)\n",
    "\n",
    "req = requests.get(url) # 서버에 접속 정보 보내주기. 주소창에 주소넣고 엔터치는 거랑 같은 작업.\n",
    "content = req.content # 변수 만들기: content = req.내용물에 대한 정보\n",
    "soup = BeautifulSoup(content, 'html.parser') # soup로 저장 = 초기화, html형태로 파싱"
   ]
  },
  {
   "cell_type": "code",
   "execution_count": null,
   "id": "84af17d2-5eb6-4d2b-971d-f5325fea3a46",
   "metadata": {
    "collapsed": true,
    "jupyter": {
     "outputs_hidden": true
    },
    "tags": []
   },
   "outputs": [],
   "source": [
    "# 알라딘 주간 베스트셀러 html 불러오기\n",
    "soup"
   ]
  },
  {
   "cell_type": "markdown",
   "id": "a84ef114",
   "metadata": {},
   "source": [
    "#### 베스트셀러 도서명 크롤링"
   ]
  },
  {
   "cell_type": "code",
   "execution_count": 85,
   "id": "8de3e43f-50f5-498d-bf77-37c4af555088",
   "metadata": {
    "tags": []
   },
   "outputs": [
    {
     "data": {
      "text/plain": [
       "<div class=\"top_tab\">\n",
       "<h2>베스트셀러</h2>\n",
       "<nav>\n",
       "<a class=\"on\" href=\"/shop/common/wbest.aspx?BranchType=1\">국내도서</a>\n",
       "<a href=\"/shop/common/wbest.aspx?BranchType=7\">외국도서</a>\n",
       "<a href=\"/shop/common/wbest.aspx?BranchType=9\">eBook</a>\n",
       "<a href=\"/shop/common/wbest.aspx?BranchType=5\">알라딘굿즈</a>\n",
       "<a href=\"/shop/common/wbest.aspx?BranchType=6&amp;BestType=AladinB2CUsedBest\">온라인중고</a>\n",
       "<a href=\"/shop/common/wbest.aspx?BranchType=2\">음반</a>\n",
       "<a href=\"/shop/common/wbest.aspx?BranchType=3\">블루레이</a>\n",
       "</nav>\n",
       "</div>"
      ]
     },
     "execution_count": 85,
     "metadata": {},
     "output_type": "execute_result"
    }
   ],
   "source": [
    "soup.select('div.top_tab')[0]"
   ]
  },
  {
   "cell_type": "code",
   "execution_count": 88,
   "id": "89fd8139-4ed7-4795-a4c6-469585ba6a45",
   "metadata": {
    "tags": []
   },
   "outputs": [
    {
     "data": {
      "text/plain": [
       "[<h2>베스트셀러</h2>]"
      ]
     },
     "execution_count": 88,
     "metadata": {},
     "output_type": "execute_result"
    }
   ],
   "source": [
    "soup.select('div.top_tab')[0].select('h2')"
   ]
  },
  {
   "cell_type": "code",
   "execution_count": 187,
   "id": "bb081452-41fc-45cb-8452-94dad7ef1575",
   "metadata": {
    "tags": []
   },
   "outputs": [
    {
     "data": {
      "text/plain": [
       "['이처럼 사소한 것들',\n",
       " '아이는 무엇으로 자라는가',\n",
       " '너를 위한 삼월',\n",
       " '나는 메트로폴리탄 미술관의 경비원입니다',\n",
       " '마흔에 읽는 쇼펜하우어',\n",
       " '박근혜 회고록 1 : 어둠을 지나 미래로',\n",
       " '봄의 폭풍과 몬스터 3',\n",
       " '박근혜 회고록 2 : 어둠을 지나 미래로',\n",
       " '세이노의 가르침 (70만 부 기념 빨간 표지)',\n",
       " 'ETS 토익 정기시험 기출문제집 1000 Vol. 4 Reading (리딩)',\n",
       " '사랑인 줄 알았는데 부정맥',\n",
       " 'ETS 토익 정기시험 기출문제집 1000 Vol. 4 Listening (리스닝)',\n",
       " '남에게 보여주려고 인생을 낭비하지 마라',\n",
       " '퓨처 셀프',\n",
       " '맡겨진 소녀',\n",
       " '퍼스널 MBA',\n",
       " '위기 탈출 도감',\n",
       " '우리는 모두 사랑하는 사람을 위해 일을 합니다',\n",
       " '처음부터 시작하는 주식투자 단타전략',\n",
       " '도둑맞은 집중력',\n",
       " '2024 Always First 양승아 응급처치학개론 동형모의고사',\n",
       " '도쿄 리벤저스 : 바지 케이스케로부터의 편지 1',\n",
       " '원피스 107',\n",
       " '금단의 마술',\n",
       " '사라진 것들',\n",
       " '던전밥 13',\n",
       " '장송의 프리렌 11',\n",
       " '살인자의 쇼핑몰',\n",
       " '느리게 나이 드는 습관',\n",
       " '끌리는 이야기는 어떻게 쓰는가',\n",
       " 'SQL 자격검정 실전문제',\n",
       " '사랑을 무게로 안 느끼게',\n",
       " '해커스 토익 기출 보카 TOEIC VOCA 단어장',\n",
       " '영어 필사 100일의 기적',\n",
       " '향문천의 한국어 비사',\n",
       " '웡카',\n",
       " '2024 큰별쌤 최태성의 별★별한국사 한국사능력검정시험 심화(1, 2, 3급) 상',\n",
       " '살인자의 쇼핑몰 2',\n",
       " '카와이 센세의 인물 쉽게 그리는 방법',\n",
       " 'EBS 다큐프라임 자본주의',\n",
       " '도시와 그 불확실한 벽',\n",
       " '2024 큰별쌤 최태성의 별★별한국사 기출 500제 한국사능력검정시험 심화 (1, 2, 3급)',\n",
       " '2024 큰별쌤 최태성의 별★별한국사 한국사능력검정시험 심화(1, 2, 3급) 하',\n",
       " '슈뻘맨의 숨은 과학 찾기 3',\n",
       " '역행자 확장판',\n",
       " '고전의 숲',\n",
       " 'EBS 왕초보 영어 (2024 상편)',\n",
       " '월간순정 노자키 군 15',\n",
       " '살인자ㅇ난감',\n",
       " '유목민의 투자의 정석']"
      ]
     },
     "execution_count": 187,
     "metadata": {},
     "output_type": "execute_result"
    }
   ],
   "source": [
    "title=[soup.select('a.bo3')[i].text for i in range(0, 50)]\n",
    "title"
   ]
  },
  {
   "cell_type": "code",
   "execution_count": 119,
   "id": "74e20760-d059-43d6-ac02-0a89ec1d65f2",
   "metadata": {
    "tags": []
   },
   "outputs": [
    {
     "data": {
      "text/plain": [
       "'클레어 키건'"
      ]
     },
     "execution_count": 119,
     "metadata": {},
     "output_type": "execute_result"
    }
   ],
   "source": [
    "# 작가\n",
    "soup.select('div.ss_book_list')[0].select('li')[2].select('a')[0].text\n",
    "#soup.select('추출하려는 값에 가장 가까운 클래스 이름')[책 순서. 0은 첫번째책].select[li('추출하려는 값에 가장 가까운 태그')[태그 순서].selext('추출하려는 값에 가장 가까운 태그')[해당 태그의 순서]"
   ]
  },
  {
   "cell_type": "code",
   "execution_count": 125,
   "id": "0c004ce1-3d96-4b7f-b690-f649f0c22354",
   "metadata": {
    "tags": []
   },
   "outputs": [
    {
     "data": {
      "text/plain": [
       "'12,420원'"
      ]
     },
     "execution_count": 125,
     "metadata": {},
     "output_type": "execute_result"
    }
   ],
   "source": [
    "# 할인가\n",
    "soup.select('div.ss_book_list')[0].select('li')[3].select('b')[0].text"
   ]
  },
  {
   "cell_type": "code",
   "execution_count": 185,
   "id": "81454fac-7db6-476f-b1e7-91ac1c12e59f",
   "metadata": {
    "tags": []
   },
   "outputs": [],
   "source": [
    "author=[]\n",
    "for i in range(0,100,2):\n",
    "    try:\n",
    "        author.append(soup.select('div.ss_book_list')[i].select('li')[2].select('a')[0].text)\n",
    "    except:\n",
    "        author.append(soup.select('div.ss_book_list')[i].select('li')[1].select('a')[0].text)\n",
    "# 짝수 만 봄\n",
    "#    우선 해봄\n",
    "#    안되면 다음에 해봄\n",
    "# 이름.append --> list에 원소 추가 한 번에 하나씩 이름에 추가"
   ]
  },
  {
   "cell_type": "code",
   "execution_count": 139,
   "id": "94de2c62-2e07-475f-be8e-9179575bdc12",
   "metadata": {
    "tags": []
   },
   "outputs": [
    {
     "data": {
      "text/plain": [
       "['클레어 키건',\n",
       " '버지니아 사티어',\n",
       " '박서함',\n",
       " '패트릭 브링리',\n",
       " '강용수',\n",
       " '박근혜',\n",
       " '미츠바치 미유키',\n",
       " '박근혜',\n",
       " '세이노(SayNo)',\n",
       " 'ETS',\n",
       " '사단법인 전국유료실버타운협회 포푸라샤 편집부',\n",
       " 'ETS',\n",
       " '아르투어 쇼펜하우어',\n",
       " '벤저민 하디',\n",
       " '클레어 키건',\n",
       " '조쉬 카우프만',\n",
       " '스즈키 노리타케',\n",
       " '하림',\n",
       " '홍인기',\n",
       " '요한 하리',\n",
       " '양승아',\n",
       " '나츠카와구치 유키노리',\n",
       " '오다 에이치로',\n",
       " '히가시노 게이고',\n",
       " '앤드루 포터']"
      ]
     },
     "execution_count": 139,
     "metadata": {},
     "output_type": "execute_result"
    }
   ],
   "source": [
    "author"
   ]
  },
  {
   "cell_type": "code",
   "execution_count": 186,
   "id": "773fe66b-70d2-40ca-8d9f-97b16a1f3d8c",
   "metadata": {
    "tags": []
   },
   "outputs": [
    {
     "name": "stdout",
     "output_type": "stream",
     "text": [
      "12,420원\n",
      "15,750원\n",
      "19,800원\n",
      "15,750원\n",
      "15,300원\n",
      " 55,710\n",
      "5,400원\n",
      " 48,260\n",
      "6,480원\n",
      "17,820원\n",
      "11,970원\n",
      "17,820원\n",
      "15,750원\n",
      " 273,373\n",
      "11,700원\n",
      " 49,330\n",
      " 27,490\n",
      "15,120원\n",
      "18,900원\n",
      "16,920원\n",
      " 14,860\n",
      "5,400원\n",
      "4,950원\n",
      "16,920원\n",
      "16,200원\n",
      "6,300원\n",
      "5,400원\n",
      "12,420원\n",
      "16,200원\n",
      " 17,970\n",
      "17,100원\n",
      " 29,715\n",
      "11,610원\n",
      "13,500원\n",
      "17,820원\n",
      "14,400원\n",
      "14,400원\n",
      " 21,091\n",
      " 13,880\n",
      " 91,011\n",
      "17,550원\n",
      "17,550원\n",
      "13,950원\n",
      "12,600원\n",
      " 150,324\n",
      " 20,312\n",
      " 16,810\n",
      "5,400원\n",
      " 11,610\n",
      "25,200원\n"
     ]
    }
   ],
   "source": [
    "#할인가\n",
    "\n",
    "for i in range(0,100,2):\n",
    "    try:\n",
    "        print(soup.select('div.ss_book_list')[i].select('li')[3].select('b')[0].text)\n",
    "    except:\n",
    "        print(i)"
   ]
  },
  {
   "cell_type": "code",
   "execution_count": 199,
   "id": "1d517e2b-6845-4dc5-a8a5-65bc8cf2213a",
   "metadata": {
    "tags": []
   },
   "outputs": [],
   "source": [
    "# 가격\n",
    "price=[]\n",
    "for i in range(0,100,2):\n",
    "    try:\n",
    "        price.append(int(soup.select('div.ss_book_list')[i].select('ul')[0].select('li')[3].select('span')[0].text.replace(',',\"\")))\n",
    "    except:\n",
    "        price.append(int(soup.select('div.ss_book_list')[i].select('ul')[0].select('li')[2].select('span')[0].text.replace(',',\"\")))"
   ]
  },
  {
   "cell_type": "code",
   "execution_count": 190,
   "id": "d0dbe128-04ab-4e8e-9a78-0098f137ced1",
   "metadata": {
    "tags": []
   },
   "outputs": [
    {
     "data": {
      "text/plain": [
       "[13800,\n",
       " 17500,\n",
       " 22000,\n",
       " 17500,\n",
       " 17000,\n",
       " 25000,\n",
       " 6000,\n",
       " 25000,\n",
       " 7200,\n",
       " 19800,\n",
       " 13300,\n",
       " 19800,\n",
       " 17500,\n",
       " 19800,\n",
       " 13000,\n",
       " 35500,\n",
       " 15000,\n",
       " 16800,\n",
       " 21000,\n",
       " 18800,\n",
       " 15000,\n",
       " 6000,\n",
       " 5500,\n",
       " 18800,\n",
       " 18000]"
      ]
     },
     "execution_count": 190,
     "metadata": {},
     "output_type": "execute_result"
    }
   ],
   "source": [
    "price"
   ]
  },
  {
   "cell_type": "code",
   "execution_count": 160,
   "id": "ff7202a8-f83c-483f-9d03-f59d1753dd9d",
   "metadata": {
    "tags": []
   },
   "outputs": [
    {
     "data": {
      "text/plain": [
       "'2023년'"
      ]
     },
     "execution_count": 160,
     "metadata": {},
     "output_type": "execute_result"
    }
   ],
   "source": [
    "# 출간연도\n",
    "import re\n",
    "re.findall('\\d\\d\\d\\d년', soup.select('div.ss_book_list')[0].select('ul')[0].select('li')[2].text)[0]"
   ]
  },
  {
   "cell_type": "code",
   "execution_count": 164,
   "id": "2de59a36-b89a-427b-b706-d4e426bf98f9",
   "metadata": {
    "tags": []
   },
   "outputs": [
    {
     "data": {
      "text/plain": [
       "'2023년'"
      ]
     },
     "execution_count": 164,
     "metadata": {},
     "output_type": "execute_result"
    }
   ],
   "source": [
    "re.findall('\\d\\d\\d\\d년', soup.select('div.ss_book_list')[0].text)[0]"
   ]
  },
  {
   "cell_type": "code",
   "execution_count": 201,
   "id": "eb0292bc-f895-42f4-ab56-f1d56e2c97b8",
   "metadata": {
    "tags": []
   },
   "outputs": [],
   "source": [
    "year=[re.findall('\\d\\d\\d\\d년', soup.select('div.ss_book_list')[i].select('ul')[0].text)[0] for i in range(0,100,2)]"
   ]
  },
  {
   "cell_type": "code",
   "execution_count": 203,
   "id": "5e9c25fc-6805-4e71-b1f6-5ed7f663c16b",
   "metadata": {
    "tags": []
   },
   "outputs": [],
   "source": [
    "import pandas as pd\n",
    "result=pd.DataFrame([title, author, price, year], index=['제목', '저자', '정가', '출간연도']).T"
   ]
  },
  {
   "cell_type": "code",
   "execution_count": 204,
   "id": "c0085167-9660-4561-8a6b-d09b3332ac3d",
   "metadata": {
    "tags": []
   },
   "outputs": [
    {
     "data": {
      "text/html": [
       "<div>\n",
       "<style scoped>\n",
       "    .dataframe tbody tr th:only-of-type {\n",
       "        vertical-align: middle;\n",
       "    }\n",
       "\n",
       "    .dataframe tbody tr th {\n",
       "        vertical-align: top;\n",
       "    }\n",
       "\n",
       "    .dataframe thead th {\n",
       "        text-align: right;\n",
       "    }\n",
       "</style>\n",
       "<table border=\"1\" class=\"dataframe\">\n",
       "  <thead>\n",
       "    <tr style=\"text-align: right;\">\n",
       "      <th></th>\n",
       "      <th>제목</th>\n",
       "      <th>저자</th>\n",
       "      <th>정가</th>\n",
       "      <th>출간연도</th>\n",
       "    </tr>\n",
       "  </thead>\n",
       "  <tbody>\n",
       "    <tr>\n",
       "      <th>0</th>\n",
       "      <td>이처럼 사소한 것들</td>\n",
       "      <td>클레어 키건</td>\n",
       "      <td>13800</td>\n",
       "      <td>2023년</td>\n",
       "    </tr>\n",
       "    <tr>\n",
       "      <th>1</th>\n",
       "      <td>아이는 무엇으로 자라는가</td>\n",
       "      <td>버지니아 사티어</td>\n",
       "      <td>17500</td>\n",
       "      <td>2023년</td>\n",
       "    </tr>\n",
       "    <tr>\n",
       "      <th>2</th>\n",
       "      <td>너를 위한 삼월</td>\n",
       "      <td>박서함</td>\n",
       "      <td>22000</td>\n",
       "      <td>2024년</td>\n",
       "    </tr>\n",
       "    <tr>\n",
       "      <th>3</th>\n",
       "      <td>나는 메트로폴리탄 미술관의 경비원입니다</td>\n",
       "      <td>패트릭 브링리</td>\n",
       "      <td>17500</td>\n",
       "      <td>2023년</td>\n",
       "    </tr>\n",
       "    <tr>\n",
       "      <th>4</th>\n",
       "      <td>마흔에 읽는 쇼펜하우어</td>\n",
       "      <td>강용수</td>\n",
       "      <td>17000</td>\n",
       "      <td>2023년</td>\n",
       "    </tr>\n",
       "    <tr>\n",
       "      <th>5</th>\n",
       "      <td>박근혜 회고록 1 : 어둠을 지나 미래로</td>\n",
       "      <td>박근혜</td>\n",
       "      <td>25000</td>\n",
       "      <td>2024년</td>\n",
       "    </tr>\n",
       "    <tr>\n",
       "      <th>6</th>\n",
       "      <td>봄의 폭풍과 몬스터 3</td>\n",
       "      <td>미츠바치 미유키</td>\n",
       "      <td>6000</td>\n",
       "      <td>2024년</td>\n",
       "    </tr>\n",
       "    <tr>\n",
       "      <th>7</th>\n",
       "      <td>박근혜 회고록 2 : 어둠을 지나 미래로</td>\n",
       "      <td>박근혜</td>\n",
       "      <td>25000</td>\n",
       "      <td>2024년</td>\n",
       "    </tr>\n",
       "    <tr>\n",
       "      <th>8</th>\n",
       "      <td>세이노의 가르침 (70만 부 기념 빨간 표지)</td>\n",
       "      <td>세이노(SayNo)</td>\n",
       "      <td>7200</td>\n",
       "      <td>2023년</td>\n",
       "    </tr>\n",
       "    <tr>\n",
       "      <th>9</th>\n",
       "      <td>ETS 토익 정기시험 기출문제집 1000 Vol. 4 Reading (리딩)</td>\n",
       "      <td>ETS</td>\n",
       "      <td>19800</td>\n",
       "      <td>2023년</td>\n",
       "    </tr>\n",
       "    <tr>\n",
       "      <th>10</th>\n",
       "      <td>사랑인 줄 알았는데 부정맥</td>\n",
       "      <td>사단법인 전국유료실버타운협회 포푸라샤 편집부</td>\n",
       "      <td>13300</td>\n",
       "      <td>2024년</td>\n",
       "    </tr>\n",
       "    <tr>\n",
       "      <th>11</th>\n",
       "      <td>ETS 토익 정기시험 기출문제집 1000 Vol. 4 Listening (리스닝)</td>\n",
       "      <td>ETS</td>\n",
       "      <td>19800</td>\n",
       "      <td>2023년</td>\n",
       "    </tr>\n",
       "    <tr>\n",
       "      <th>12</th>\n",
       "      <td>남에게 보여주려고 인생을 낭비하지 마라</td>\n",
       "      <td>아르투어 쇼펜하우어</td>\n",
       "      <td>17500</td>\n",
       "      <td>2023년</td>\n",
       "    </tr>\n",
       "    <tr>\n",
       "      <th>13</th>\n",
       "      <td>퓨처 셀프</td>\n",
       "      <td>벤저민 하디</td>\n",
       "      <td>19800</td>\n",
       "      <td>2023년</td>\n",
       "    </tr>\n",
       "    <tr>\n",
       "      <th>14</th>\n",
       "      <td>맡겨진 소녀</td>\n",
       "      <td>클레어 키건</td>\n",
       "      <td>13000</td>\n",
       "      <td>2023년</td>\n",
       "    </tr>\n",
       "    <tr>\n",
       "      <th>15</th>\n",
       "      <td>퍼스널 MBA</td>\n",
       "      <td>조쉬 카우프만</td>\n",
       "      <td>35500</td>\n",
       "      <td>2024년</td>\n",
       "    </tr>\n",
       "    <tr>\n",
       "      <th>16</th>\n",
       "      <td>위기 탈출 도감</td>\n",
       "      <td>스즈키 노리타케</td>\n",
       "      <td>15000</td>\n",
       "      <td>2024년</td>\n",
       "    </tr>\n",
       "    <tr>\n",
       "      <th>17</th>\n",
       "      <td>우리는 모두 사랑하는 사람을 위해 일을 합니다</td>\n",
       "      <td>하림</td>\n",
       "      <td>16800</td>\n",
       "      <td>2024년</td>\n",
       "    </tr>\n",
       "    <tr>\n",
       "      <th>18</th>\n",
       "      <td>처음부터 시작하는 주식투자 단타전략</td>\n",
       "      <td>홍인기</td>\n",
       "      <td>21000</td>\n",
       "      <td>2023년</td>\n",
       "    </tr>\n",
       "    <tr>\n",
       "      <th>19</th>\n",
       "      <td>도둑맞은 집중력</td>\n",
       "      <td>요한 하리</td>\n",
       "      <td>18800</td>\n",
       "      <td>2023년</td>\n",
       "    </tr>\n",
       "    <tr>\n",
       "      <th>20</th>\n",
       "      <td>2024 Always First 양승아 응급처치학개론 동형모의고사</td>\n",
       "      <td>양승아</td>\n",
       "      <td>15000</td>\n",
       "      <td>2024년</td>\n",
       "    </tr>\n",
       "    <tr>\n",
       "      <th>21</th>\n",
       "      <td>도쿄 리벤저스 : 바지 케이스케로부터의 편지 1</td>\n",
       "      <td>나츠카와구치 유키노리</td>\n",
       "      <td>6000</td>\n",
       "      <td>2024년</td>\n",
       "    </tr>\n",
       "    <tr>\n",
       "      <th>22</th>\n",
       "      <td>원피스 107</td>\n",
       "      <td>오다 에이치로</td>\n",
       "      <td>5500</td>\n",
       "      <td>2024년</td>\n",
       "    </tr>\n",
       "    <tr>\n",
       "      <th>23</th>\n",
       "      <td>금단의 마술</td>\n",
       "      <td>히가시노 게이고</td>\n",
       "      <td>18800</td>\n",
       "      <td>2024년</td>\n",
       "    </tr>\n",
       "    <tr>\n",
       "      <th>24</th>\n",
       "      <td>사라진 것들</td>\n",
       "      <td>앤드루 포터</td>\n",
       "      <td>18000</td>\n",
       "      <td>2024년</td>\n",
       "    </tr>\n",
       "    <tr>\n",
       "      <th>25</th>\n",
       "      <td>던전밥 13</td>\n",
       "      <td>쿠이 료코</td>\n",
       "      <td>7000</td>\n",
       "      <td>2024년</td>\n",
       "    </tr>\n",
       "    <tr>\n",
       "      <th>26</th>\n",
       "      <td>장송의 프리렌 11</td>\n",
       "      <td>야마다 카네히토</td>\n",
       "      <td>6000</td>\n",
       "      <td>2024년</td>\n",
       "    </tr>\n",
       "    <tr>\n",
       "      <th>27</th>\n",
       "      <td>살인자의 쇼핑몰</td>\n",
       "      <td>강지영</td>\n",
       "      <td>13800</td>\n",
       "      <td>2020년</td>\n",
       "    </tr>\n",
       "    <tr>\n",
       "      <th>28</th>\n",
       "      <td>느리게 나이 드는 습관</td>\n",
       "      <td>정희원</td>\n",
       "      <td>18000</td>\n",
       "      <td>2023년</td>\n",
       "    </tr>\n",
       "    <tr>\n",
       "      <th>29</th>\n",
       "      <td>끌리는 이야기는 어떻게 쓰는가</td>\n",
       "      <td>리사 크론</td>\n",
       "      <td>18000</td>\n",
       "      <td>2024년</td>\n",
       "    </tr>\n",
       "    <tr>\n",
       "      <th>30</th>\n",
       "      <td>SQL 자격검정 실전문제</td>\n",
       "      <td>한국데이터산업진흥원</td>\n",
       "      <td>18000</td>\n",
       "      <td>2023년</td>\n",
       "    </tr>\n",
       "    <tr>\n",
       "      <th>31</th>\n",
       "      <td>사랑을 무게로 안 느끼게</td>\n",
       "      <td>박완서</td>\n",
       "      <td>18000</td>\n",
       "      <td>2024년</td>\n",
       "    </tr>\n",
       "    <tr>\n",
       "      <th>32</th>\n",
       "      <td>해커스 토익 기출 보카 TOEIC VOCA 단어장</td>\n",
       "      <td>David Cho</td>\n",
       "      <td>12900</td>\n",
       "      <td>2023년</td>\n",
       "    </tr>\n",
       "    <tr>\n",
       "      <th>33</th>\n",
       "      <td>영어 필사 100일의 기적</td>\n",
       "      <td>퍼포먼스 코치 리아</td>\n",
       "      <td>15000</td>\n",
       "      <td>2021년</td>\n",
       "    </tr>\n",
       "    <tr>\n",
       "      <th>34</th>\n",
       "      <td>향문천의 한국어 비사</td>\n",
       "      <td>향문천</td>\n",
       "      <td>19800</td>\n",
       "      <td>2024년</td>\n",
       "    </tr>\n",
       "    <tr>\n",
       "      <th>35</th>\n",
       "      <td>웡카</td>\n",
       "      <td>시빌 파운더</td>\n",
       "      <td>16000</td>\n",
       "      <td>2024년</td>\n",
       "    </tr>\n",
       "    <tr>\n",
       "      <th>36</th>\n",
       "      <td>2024 큰별쌤 최태성의 별★별한국사 한국사능력검정시험 심화(1, 2, 3급) 상</td>\n",
       "      <td>최태성</td>\n",
       "      <td>16000</td>\n",
       "      <td>2023년</td>\n",
       "    </tr>\n",
       "    <tr>\n",
       "      <th>37</th>\n",
       "      <td>살인자의 쇼핑몰 2</td>\n",
       "      <td>강지영</td>\n",
       "      <td>14800</td>\n",
       "      <td>2023년</td>\n",
       "    </tr>\n",
       "    <tr>\n",
       "      <th>38</th>\n",
       "      <td>카와이 센세의 인물 쉽게 그리는 방법</td>\n",
       "      <td>카와이 센세</td>\n",
       "      <td>20000</td>\n",
       "      <td>2024년</td>\n",
       "    </tr>\n",
       "    <tr>\n",
       "      <th>39</th>\n",
       "      <td>EBS 다큐프라임 자본주의</td>\n",
       "      <td>EBS 자본주의 제작팀</td>\n",
       "      <td>17000</td>\n",
       "      <td>2013년</td>\n",
       "    </tr>\n",
       "    <tr>\n",
       "      <th>40</th>\n",
       "      <td>도시와 그 불확실한 벽</td>\n",
       "      <td>무라카미 하루키</td>\n",
       "      <td>19500</td>\n",
       "      <td>2023년</td>\n",
       "    </tr>\n",
       "    <tr>\n",
       "      <th>41</th>\n",
       "      <td>2024 큰별쌤 최태성의 별★별한국사 기출 500제 한국사능력검정시험 심화 (1, ...</td>\n",
       "      <td>최태성</td>\n",
       "      <td>19500</td>\n",
       "      <td>2024년</td>\n",
       "    </tr>\n",
       "    <tr>\n",
       "      <th>42</th>\n",
       "      <td>2024 큰별쌤 최태성의 별★별한국사 한국사능력검정시험 심화(1, 2, 3급) 하</td>\n",
       "      <td>최태성</td>\n",
       "      <td>15500</td>\n",
       "      <td>2023년</td>\n",
       "    </tr>\n",
       "    <tr>\n",
       "      <th>43</th>\n",
       "      <td>슈뻘맨의 숨은 과학 찾기 3</td>\n",
       "      <td>슈뻘맨</td>\n",
       "      <td>14000</td>\n",
       "      <td>2024년</td>\n",
       "    </tr>\n",
       "    <tr>\n",
       "      <th>44</th>\n",
       "      <td>역행자 확장판</td>\n",
       "      <td>자청</td>\n",
       "      <td>19500</td>\n",
       "      <td>2023년</td>\n",
       "    </tr>\n",
       "    <tr>\n",
       "      <th>45</th>\n",
       "      <td>고전의 숲</td>\n",
       "      <td>김태완</td>\n",
       "      <td>17500</td>\n",
       "      <td>2023년</td>\n",
       "    </tr>\n",
       "    <tr>\n",
       "      <th>46</th>\n",
       "      <td>EBS 왕초보 영어 (2024 상편)</td>\n",
       "      <td>마스터유진</td>\n",
       "      <td>14000</td>\n",
       "      <td>2024년</td>\n",
       "    </tr>\n",
       "    <tr>\n",
       "      <th>47</th>\n",
       "      <td>월간순정 노자키 군 15</td>\n",
       "      <td>츠바키 이즈미</td>\n",
       "      <td>6000</td>\n",
       "      <td>2024년</td>\n",
       "    </tr>\n",
       "    <tr>\n",
       "      <th>48</th>\n",
       "      <td>살인자ㅇ난감</td>\n",
       "      <td>꼬마비</td>\n",
       "      <td>25000</td>\n",
       "      <td>2024년</td>\n",
       "    </tr>\n",
       "    <tr>\n",
       "      <th>49</th>\n",
       "      <td>유목민의 투자의 정석</td>\n",
       "      <td>유목민</td>\n",
       "      <td>28000</td>\n",
       "      <td>2024년</td>\n",
       "    </tr>\n",
       "  </tbody>\n",
       "</table>\n",
       "</div>"
      ],
      "text/plain": [
       "                                                   제목  \\\n",
       "0                                          이처럼 사소한 것들   \n",
       "1                                       아이는 무엇으로 자라는가   \n",
       "2                                            너를 위한 삼월   \n",
       "3                               나는 메트로폴리탄 미술관의 경비원입니다   \n",
       "4                                        마흔에 읽는 쇼펜하우어   \n",
       "5                              박근혜 회고록 1 : 어둠을 지나 미래로   \n",
       "6                                        봄의 폭풍과 몬스터 3   \n",
       "7                              박근혜 회고록 2 : 어둠을 지나 미래로   \n",
       "8                           세이노의 가르침 (70만 부 기념 빨간 표지)   \n",
       "9          ETS 토익 정기시험 기출문제집 1000 Vol. 4 Reading (리딩)   \n",
       "10                                     사랑인 줄 알았는데 부정맥   \n",
       "11      ETS 토익 정기시험 기출문제집 1000 Vol. 4 Listening (리스닝)   \n",
       "12                              남에게 보여주려고 인생을 낭비하지 마라   \n",
       "13                                              퓨처 셀프   \n",
       "14                                             맡겨진 소녀   \n",
       "15                                            퍼스널 MBA   \n",
       "16                                           위기 탈출 도감   \n",
       "17                          우리는 모두 사랑하는 사람을 위해 일을 합니다   \n",
       "18                                처음부터 시작하는 주식투자 단타전략   \n",
       "19                                           도둑맞은 집중력   \n",
       "20               2024 Always First 양승아 응급처치학개론 동형모의고사   \n",
       "21                         도쿄 리벤저스 : 바지 케이스케로부터의 편지 1   \n",
       "22                                            원피스 107   \n",
       "23                                             금단의 마술   \n",
       "24                                             사라진 것들   \n",
       "25                                             던전밥 13   \n",
       "26                                         장송의 프리렌 11   \n",
       "27                                           살인자의 쇼핑몰   \n",
       "28                                       느리게 나이 드는 습관   \n",
       "29                                   끌리는 이야기는 어떻게 쓰는가   \n",
       "30                                      SQL 자격검정 실전문제   \n",
       "31                                      사랑을 무게로 안 느끼게   \n",
       "32                        해커스 토익 기출 보카 TOEIC VOCA 단어장   \n",
       "33                                     영어 필사 100일의 기적   \n",
       "34                                        향문천의 한국어 비사   \n",
       "35                                                 웡카   \n",
       "36      2024 큰별쌤 최태성의 별★별한국사 한국사능력검정시험 심화(1, 2, 3급) 상   \n",
       "37                                         살인자의 쇼핑몰 2   \n",
       "38                               카와이 센세의 인물 쉽게 그리는 방법   \n",
       "39                                     EBS 다큐프라임 자본주의   \n",
       "40                                       도시와 그 불확실한 벽   \n",
       "41  2024 큰별쌤 최태성의 별★별한국사 기출 500제 한국사능력검정시험 심화 (1, ...   \n",
       "42      2024 큰별쌤 최태성의 별★별한국사 한국사능력검정시험 심화(1, 2, 3급) 하   \n",
       "43                                    슈뻘맨의 숨은 과학 찾기 3   \n",
       "44                                            역행자 확장판   \n",
       "45                                              고전의 숲   \n",
       "46                               EBS 왕초보 영어 (2024 상편)   \n",
       "47                                      월간순정 노자키 군 15   \n",
       "48                                             살인자ㅇ난감   \n",
       "49                                        유목민의 투자의 정석   \n",
       "\n",
       "                          저자     정가   출간연도  \n",
       "0                     클레어 키건  13800  2023년  \n",
       "1                   버지니아 사티어  17500  2023년  \n",
       "2                        박서함  22000  2024년  \n",
       "3                    패트릭 브링리  17500  2023년  \n",
       "4                        강용수  17000  2023년  \n",
       "5                        박근혜  25000  2024년  \n",
       "6                   미츠바치 미유키   6000  2024년  \n",
       "7                        박근혜  25000  2024년  \n",
       "8                 세이노(SayNo)   7200  2023년  \n",
       "9                        ETS  19800  2023년  \n",
       "10  사단법인 전국유료실버타운협회 포푸라샤 편집부  13300  2024년  \n",
       "11                       ETS  19800  2023년  \n",
       "12                아르투어 쇼펜하우어  17500  2023년  \n",
       "13                    벤저민 하디  19800  2023년  \n",
       "14                    클레어 키건  13000  2023년  \n",
       "15                   조쉬 카우프만  35500  2024년  \n",
       "16                  스즈키 노리타케  15000  2024년  \n",
       "17                        하림  16800  2024년  \n",
       "18                       홍인기  21000  2023년  \n",
       "19                     요한 하리  18800  2023년  \n",
       "20                       양승아  15000  2024년  \n",
       "21               나츠카와구치 유키노리   6000  2024년  \n",
       "22                   오다 에이치로   5500  2024년  \n",
       "23                  히가시노 게이고  18800  2024년  \n",
       "24                    앤드루 포터  18000  2024년  \n",
       "25                     쿠이 료코   7000  2024년  \n",
       "26                  야마다 카네히토   6000  2024년  \n",
       "27                       강지영  13800  2020년  \n",
       "28                       정희원  18000  2023년  \n",
       "29                     리사 크론  18000  2024년  \n",
       "30                한국데이터산업진흥원  18000  2023년  \n",
       "31                       박완서  18000  2024년  \n",
       "32                 David Cho  12900  2023년  \n",
       "33                퍼포먼스 코치 리아  15000  2021년  \n",
       "34                       향문천  19800  2024년  \n",
       "35                    시빌 파운더  16000  2024년  \n",
       "36                       최태성  16000  2023년  \n",
       "37                       강지영  14800  2023년  \n",
       "38                    카와이 센세  20000  2024년  \n",
       "39              EBS 자본주의 제작팀  17000  2013년  \n",
       "40                  무라카미 하루키  19500  2023년  \n",
       "41                       최태성  19500  2024년  \n",
       "42                       최태성  15500  2023년  \n",
       "43                       슈뻘맨  14000  2024년  \n",
       "44                        자청  19500  2023년  \n",
       "45                       김태완  17500  2023년  \n",
       "46                     마스터유진  14000  2024년  \n",
       "47                   츠바키 이즈미   6000  2024년  \n",
       "48                       꼬마비  25000  2024년  \n",
       "49                       유목민  28000  2024년  "
      ]
     },
     "execution_count": 204,
     "metadata": {},
     "output_type": "execute_result"
    }
   ],
   "source": [
    "result"
   ]
  },
  {
   "cell_type": "code",
   "execution_count": 198,
   "id": "c6863073-99bc-4814-828a-ccb7fdf4c273",
   "metadata": {
    "tags": []
   },
   "outputs": [],
   "source": [
    "# 엑셀파일로 결과 저장\n",
    "result.to_excel('res.xlsx', index=False)"
   ]
  }
 ],
 "metadata": {
  "kernelspec": {
   "display_name": "Python 3 (ipykernel)",
   "language": "python",
   "name": "python3"
  },
  "language_info": {
   "codemirror_mode": {
    "name": "ipython",
    "version": 3
   },
   "file_extension": ".py",
   "mimetype": "text/x-python",
   "name": "python",
   "nbconvert_exporter": "python",
   "pygments_lexer": "ipython3",
   "version": "3.11.5"
  }
 },
 "nbformat": 4,
 "nbformat_minor": 5
}
