{
 "cells": [
  {
   "cell_type": "markdown",
   "id": "ea0bdbbb",
   "metadata": {},
   "source": [
    "# T셀파 크롤링"
   ]
  },
  {
   "cell_type": "code",
   "execution_count": 2,
   "id": "7ac4c5ec-ec8e-4fdb-b08d-488c476e6690",
   "metadata": {
    "tags": []
   },
   "outputs": [],
   "source": [
    "# 패키지 불러오기\n",
    "from selenium import webdriver\n",
    "import pandas as pd\n",
    "from selenium.webdriver.common.by import By\n",
    "import time"
   ]
  },
  {
   "cell_type": "code",
   "execution_count": 3,
   "id": "744064c5-d891-4510-b2b6-0a12f23fded3",
   "metadata": {
    "tags": []
   },
   "outputs": [],
   "source": [
    "driver = webdriver.Chrome() # 사용 브라우저 맞춰서 변경가능\n",
    "# 주소에서 검색어 입력 /?q=검색어"
   ]
  },
  {
   "cell_type": "code",
   "execution_count": 4,
   "id": "e4f5ab16-75ed-4aef-b36d-3b1a16eb1914",
   "metadata": {
    "tags": []
   },
   "outputs": [],
   "source": [
    "page=1\n",
    "T_selfa_url = f\"https://edu.tsherpa.co.kr/LectureInfo/LectureReviews{page}/\"\n",
    "driver.get(T_selfa_url)\n"
   ]
  },
  {
   "cell_type": "markdown",
   "id": "3fbe2fe7-3ec3-4209-bc05-da69495c43a9",
   "metadata": {
    "tags": []
   },
   "source": [
    "#### 강좌명"
   ]
  },
  {
   "cell_type": "code",
   "execution_count": 364,
   "id": "d5def68f-cf36-43ea-9922-a1e934e86cc2",
   "metadata": {
    "tags": []
   },
   "outputs": [],
   "source": [
    "title=[]\n",
    "title.append(driver.find_element(By.XPATH, f'//*[@id=\"mainForm\"]/table/tbody/tr[1]/td[2]/a').text.split('\\n')[0].split('시간 ')[1])"
   ]
  },
  {
   "cell_type": "code",
   "execution_count": 5,
   "id": "0eaaee23-518f-4e0a-9cc7-2d3a3e93500b",
   "metadata": {
    "tags": []
   },
   "outputs": [],
   "source": [
    "title=[]\n",
    "for i in range(1,11):\n",
    "    title.append(driver.find_element(By.XPATH, f'//*[@id=\"mainForm\"]/table/tbody/tr[{i}]/td[2]/a').text.split('\\n')[0].split('시간 ')[1])"
   ]
  },
  {
   "cell_type": "markdown",
   "id": "0bd39eee-5589-4571-a699-5b8ac872503e",
   "metadata": {},
   "source": [
    "#### 시수"
   ]
  },
  {
   "cell_type": "code",
   "execution_count": 7,
   "id": "bf3d6d88-1fb5-445e-9cf6-583d545a5071",
   "metadata": {
    "tags": []
   },
   "outputs": [],
   "source": [
    "lecture_time=[]\n",
    "for i in range(1,11):\n",
    "    lecture_time.append(driver.find_element(By.XPATH, f'//*[@id=\"mainForm\"]/table/tbody/tr[{i}]/td[2]/a/span').text)"
   ]
  },
  {
   "cell_type": "markdown",
   "id": "a515726f-2d68-4321-8ecb-67253982892f",
   "metadata": {},
   "source": [
    "#### 리뷰제목"
   ]
  },
  {
   "cell_type": "code",
   "execution_count": 9,
   "id": "d5ba38c3-161d-4aa5-86d8-d3ef0d3d6adf",
   "metadata": {
    "tags": []
   },
   "outputs": [],
   "source": [
    "review_title=[]\n",
    "for i in range(1,11):\n",
    "    review_title.append(driver.find_element(By.XPATH,f'//*[@id=\"mainForm\"]/table/tbody/tr[{i}]/td[2]/a/strong').text)"
   ]
  },
  {
   "cell_type": "markdown",
   "id": "0685760b-94a2-49ca-b067-fe0eac0ba034",
   "metadata": {},
   "source": [
    "#### 별점"
   ]
  },
  {
   "cell_type": "code",
   "execution_count": 11,
   "id": "7321c317-8003-45d8-b62e-bb896e10079d",
   "metadata": {
    "tags": []
   },
   "outputs": [],
   "source": [
    "star=[]\n",
    "for i in range(1,11):\n",
    "    star.append(driver.find_element(By.XPATH,f'//*[@id=\"mainForm\"]/table/tbody/tr[{i}]/td[3]/img').get_attribute('alt'))"
   ]
  },
  {
   "cell_type": "markdown",
   "id": "95110a54-52d4-4bb5-9fc5-5d6658102659",
   "metadata": {},
   "source": [
    "#### 교사명"
   ]
  },
  {
   "cell_type": "code",
   "execution_count": 13,
   "id": "f165234c-77f5-4359-850d-f0260763f420",
   "metadata": {
    "tags": []
   },
   "outputs": [],
   "source": [
    "name=[]\n",
    "for i in range(1,11):\n",
    "    name.append(driver.find_element(By.XPATH,f'//*[@id=\"mainForm\"]/table/tbody/tr[{i}]/td[3]/strong').text.split(' 선생님')[0])"
   ]
  },
  {
   "cell_type": "markdown",
   "id": "f04d47c6-019b-49ed-a0db-6e36eaf95c0b",
   "metadata": {},
   "source": [
    "#### 날짜"
   ]
  },
  {
   "cell_type": "code",
   "execution_count": 15,
   "id": "577b2c21-57a0-4c2a-ad83-5cf0394440a4",
   "metadata": {
    "tags": []
   },
   "outputs": [],
   "source": [
    "date=[]\n",
    "for i in range(1,11):\n",
    "    date.append(driver.find_element(By.XPATH,f'//*[@id=\"mainForm\"]/table/tbody/tr[{i}]/td[3]').text.split('\\n')[-1])"
   ]
  },
  {
   "cell_type": "code",
   "execution_count": 19,
   "id": "dd277d5a-65e0-4bc0-89e2-836a95f5806d",
   "metadata": {
    "tags": []
   },
   "outputs": [],
   "source": [
    "result=pd.DataFrame(columns=['강좌명', '시수', '리뷰제목', '별점', '교사명', '날짜'])\n",
    "page=1\n",
    "page2=1"
   ]
  },
  {
   "cell_type": "markdown",
   "id": "6fbc5e3c",
   "metadata": {},
   "source": [
    "#### 페이지 넘기며 크롤링"
   ]
  },
  {
   "cell_type": "code",
   "execution_count": null,
   "id": "eb0515db-4033-489d-86e6-b3fcb005153a",
   "metadata": {
    "tags": []
   },
   "outputs": [],
   "source": [
    "for p in range(1,19):\n",
    "    time.sleep(0.5)\n",
    "    title=[]\n",
    "    lecture_time=[]\n",
    "    review_title=[]\n",
    "    star=[]\n",
    "    name=[]\n",
    "    date=[]\n",
    "\n",
    "    try:\n",
    "        for i in range(1,11):\n",
    "                title.append(driver.find_element(By.XPATH, f'//*[@id=\"mainForm\"]/table/tbody/tr[{i}]/td[2]/a').text.split('\\n')[0].split('시간 ')[1])\n",
    "                lecture_time.append(driver.find_element(By.XPATH, f'//*[@id=\"mainForm\"]/table/tbody/tr[{i}]/td[2]/a/span').text)\n",
    "                review_title.append(driver.find_element(By.XPATH,f'//*[@id=\"mainForm\"]/table/tbody/tr[{i}]/td[2]/a/strong').text)\n",
    "                star.append(driver.find_element(By.XPATH,f'//*[@id=\"mainForm\"]/table/tbody/tr[{i}]/td[3]/img').get_attribute('alt'))\n",
    "                name.append(driver.find_element(By.XPATH,f'//*[@id=\"mainForm\"]/table/tbody/tr[{i}]/td[3]/strong').text.split(' 선생님')[0])\n",
    "                date.append(driver.find_element(By.XPATH,f'//*[@id=\"mainForm\"]/table/tbody/tr[{i}]/td[3]').text.split('\\n')[-1])\n",
    "        temp=pd.DataFrame([title, lecture_time, review_title, star, name, date], index=['강좌명', '시수', '리뷰제목', '별점', '교사명', '날짜']).T\n",
    "        result=pd.concat([result, temp])\n",
    "\n",
    "        # 페이지 넘김\n",
    "        if page == 10:\n",
    "            driver.find_element(By.XPATH, f'//*[@id=\"mainForm\"]/div[3]/a[{page+1}]').click()\n",
    "            page += 1\n",
    "            page2 += 1\n",
    "            print(\"페이지 넘김\")\n",
    "        elif page == 11:\n",
    "            driver.find_element(By.XPATH, f'//*[@id=\"mainForm\"]/div[3]/a[{page+1}]').click()\n",
    "            page = 1\n",
    "            page2 += 1\n",
    "            print(\"10페이지 넘김\")\n",
    "        else:\n",
    "            driver.find_element(By.XPATH, f'//*[@id=\"mainForm\"]/div[3]/a[{page+2}]').click()\n",
    "            page += 1\n",
    "            page2 += 1\n",
    "            print(\"페이지 넘김\")\n",
    "    except:\n",
    "        break"
   ]
  },
  {
   "cell_type": "code",
   "execution_count": 390,
   "id": "a9e48906-b806-4deb-93e8-59dc66bc88ea",
   "metadata": {
    "tags": []
   },
   "outputs": [
    {
     "data": {
      "text/html": [
       "<div>\n",
       "<style scoped>\n",
       "    .dataframe tbody tr th:only-of-type {\n",
       "        vertical-align: middle;\n",
       "    }\n",
       "\n",
       "    .dataframe tbody tr th {\n",
       "        vertical-align: top;\n",
       "    }\n",
       "\n",
       "    .dataframe thead th {\n",
       "        text-align: right;\n",
       "    }\n",
       "</style>\n",
       "<table border=\"1\" class=\"dataframe\">\n",
       "  <thead>\n",
       "    <tr style=\"text-align: right;\">\n",
       "      <th></th>\n",
       "      <th>강좌명</th>\n",
       "      <th>시수</th>\n",
       "      <th>리뷰제목</th>\n",
       "      <th>별점</th>\n",
       "      <th>교사명</th>\n",
       "      <th>날짜</th>\n",
       "    </tr>\n",
       "  </thead>\n",
       "  <tbody>\n",
       "    <tr>\n",
       "      <th>0</th>\n",
       "      <td>쉽게 배우고 활용하는 교실 속 손그림 그리기</td>\n",
       "      <td>15시간</td>\n",
       "      <td>수업중 활용할 수 있는 수업 .. 특히 사회과에 적용할 수 있어서 좋아요.</td>\n",
       "      <td>5점</td>\n",
       "      <td>장**</td>\n",
       "      <td>2024.01.17</td>\n",
       "    </tr>\n",
       "    <tr>\n",
       "      <th>1</th>\n",
       "      <td>나도 할 수 있다! 현장연구와 SPSS</td>\n",
       "      <td>30시간</td>\n",
       "      <td>연구보고서 작성을 위한 필수 연수</td>\n",
       "      <td>5점</td>\n",
       "      <td>이**</td>\n",
       "      <td>2024.01.14</td>\n",
       "    </tr>\n",
       "    <tr>\n",
       "      <th>2</th>\n",
       "      <td>학생들과 함께 나누는 기후변화 이야기</td>\n",
       "      <td>30시간</td>\n",
       "      <td>학생들과 함께 실천해보려고 합니다.</td>\n",
       "      <td>5점</td>\n",
       "      <td>윤**</td>\n",
       "      <td>2024.01.05</td>\n",
       "    </tr>\n",
       "    <tr>\n",
       "      <th>3</th>\n",
       "      <td>메이슨의 Travel English</td>\n",
       "      <td>30시간</td>\n",
       "      <td>여행영어 필요한것만 딱!</td>\n",
       "      <td>5점</td>\n",
       "      <td>권**</td>\n",
       "      <td>2023.12.21</td>\n",
       "    </tr>\n",
       "    <tr>\n",
       "      <th>4</th>\n",
       "      <td>하루 20분, 상황별 생활영어회화</td>\n",
       "      <td>15시간</td>\n",
       "      <td>일상생활에서 활용할 수 있는 실용적인 영어 연수!!!</td>\n",
       "      <td>5점</td>\n",
       "      <td>박**</td>\n",
       "      <td>2023.12.08</td>\n",
       "    </tr>\n",
       "    <tr>\n",
       "      <th>...</th>\n",
       "      <td>...</td>\n",
       "      <td>...</td>\n",
       "      <td>...</td>\n",
       "      <td>...</td>\n",
       "      <td>...</td>\n",
       "      <td>...</td>\n",
       "    </tr>\n",
       "    <tr>\n",
       "      <th>4</th>\n",
       "      <td>알리바바 중국어 초급</td>\n",
       "      <td>30시간</td>\n",
       "      <td>연수 활용이 중국어 연찬을 위한 지름길</td>\n",
       "      <td>5점</td>\n",
       "      <td>회***</td>\n",
       "      <td>2018.10.01</td>\n",
       "    </tr>\n",
       "    <tr>\n",
       "      <th>5</th>\n",
       "      <td>온작품 읽기와 그림을 활용한 깊이 있는 수업</td>\n",
       "      <td>15시간</td>\n",
       "      <td>독서단원 지도, 수업에 활용할 동화책을 알고 싶다면 추천합니다.</td>\n",
       "      <td>5점</td>\n",
       "      <td>송**</td>\n",
       "      <td>2018.09.25</td>\n",
       "    </tr>\n",
       "    <tr>\n",
       "      <th>6</th>\n",
       "      <td>SNS 잉글리시 톡</td>\n",
       "      <td>30시간</td>\n",
       "      <td>양질의 영어 표현 연수!</td>\n",
       "      <td>5점</td>\n",
       "      <td>장**</td>\n",
       "      <td>2018.09.03</td>\n",
       "    </tr>\n",
       "    <tr>\n",
       "      <th>7</th>\n",
       "      <td>수업을 살리는 미술 레시피</td>\n",
       "      <td>30시간</td>\n",
       "      <td>레시피로 맛있는 수업에 양념을~!</td>\n",
       "      <td>5점</td>\n",
       "      <td>이**</td>\n",
       "      <td>2018.09.01</td>\n",
       "    </tr>\n",
       "    <tr>\n",
       "      <th>8</th>\n",
       "      <td>수업을 살리는 놀이 레시피</td>\n",
       "      <td>30시간</td>\n",
       "      <td>꿀잼 연수~! 추천추천~!!</td>\n",
       "      <td>5점</td>\n",
       "      <td>회***</td>\n",
       "      <td>2018.07.25</td>\n",
       "    </tr>\n",
       "  </tbody>\n",
       "</table>\n",
       "<p>164 rows × 6 columns</p>\n",
       "</div>"
      ],
      "text/plain": [
       "                         강좌명    시수                                       리뷰제목  \\\n",
       "0   쉽게 배우고 활용하는 교실 속 손그림 그리기  15시간  수업중 활용할 수 있는 수업 .. 특히 사회과에 적용할 수 있어서 좋아요.   \n",
       "1      나도 할 수 있다! 현장연구와 SPSS  30시간                         연구보고서 작성을 위한 필수 연수   \n",
       "2       학생들과 함께 나누는 기후변화 이야기  30시간                        학생들과 함께 실천해보려고 합니다.   \n",
       "3        메이슨의 Travel English  30시간                              여행영어 필요한것만 딱!   \n",
       "4         하루 20분, 상황별 생활영어회화  15시간              일상생활에서 활용할 수 있는 실용적인 영어 연수!!!   \n",
       "..                       ...   ...                                        ...   \n",
       "4                알리바바 중국어 초급  30시간                      연수 활용이 중국어 연찬을 위한 지름길   \n",
       "5   온작품 읽기와 그림을 활용한 깊이 있는 수업  15시간        독서단원 지도, 수업에 활용할 동화책을 알고 싶다면 추천합니다.   \n",
       "6                 SNS 잉글리시 톡  30시간                              양질의 영어 표현 연수!   \n",
       "7             수업을 살리는 미술 레시피  30시간                         레시피로 맛있는 수업에 양념을~!   \n",
       "8             수업을 살리는 놀이 레시피  30시간                            꿀잼 연수~! 추천추천~!!   \n",
       "\n",
       "    별점   교사명          날짜  \n",
       "0   5점   장**  2024.01.17  \n",
       "1   5점   이**  2024.01.14  \n",
       "2   5점   윤**  2024.01.05  \n",
       "3   5점   권**  2023.12.21  \n",
       "4   5점   박**  2023.12.08  \n",
       "..  ..   ...         ...  \n",
       "4   5점  회***  2018.10.01  \n",
       "5   5점   송**  2018.09.25  \n",
       "6   5점   장**  2018.09.03  \n",
       "7   5점   이**  2018.09.01  \n",
       "8   5점  회***  2018.07.25  \n",
       "\n",
       "[164 rows x 6 columns]"
      ]
     },
     "execution_count": 390,
     "metadata": {},
     "output_type": "execute_result"
    }
   ],
   "source": [
    "# 전체 결과보기\n",
    "result"
   ]
  },
  {
   "cell_type": "code",
   "execution_count": 391,
   "id": "d48b3050-dcdc-4c83-a4e0-f78fabfe5137",
   "metadata": {
    "tags": []
   },
   "outputs": [],
   "source": [
    "# 결과 엑셀로 저장\n",
    "result.to_excel('finall2.xlsx', index=False)"
   ]
  },
  {
   "cell_type": "markdown",
   "id": "4da47bb4",
   "metadata": {},
   "source": [
    "# 교육연수원 크롤링"
   ]
  },
  {
   "cell_type": "code",
   "execution_count": null,
   "id": "876b5896",
   "metadata": {},
   "outputs": [],
   "source": [
    "from bs4 import BeautifulSoup\n",
    "import requests\n",
    "import re"
   ]
  },
  {
   "cell_type": "code",
   "execution_count": null,
   "id": "c807c87e",
   "metadata": {},
   "outputs": [],
   "source": [
    "page=1\n",
    "url=f'https://teacher.i-scream.co.kr/help/afterword/list.do?searchPrgrTimeArr=&searchCrsLCodeList=&searchPrgrTimeArr=&searchCrsLCodeList=&searchPrgrTimeArr=&searchCrsLCodeList=&searchPrgrTimeArr=&searchCrsLCodeList=&searchPrgrTimeArr=&searchCrsLCodeList=&searchPrgrTimeArr=&searchCrsLCodeList=&searchPrgrTimeArr=&searchCrsLCodeList=&searchPrgrTimeArr=&searchCrsLCodeList=&searchPrgrTimeArr=&searchCrsLCodeList=&searchPrgrTimeArr=&searchCrsLCodeList=&{page}Index=2&sso=ok'"
   ]
  },
  {
   "cell_type": "code",
   "execution_count": null,
   "id": "8be60a15",
   "metadata": {},
   "outputs": [],
   "source": [
    "req=requests.get(url)\n",
    "content = req.content \n",
    "soup = BeautifulSoup(content, 'html.parser') "
   ]
  },
  {
   "cell_type": "markdown",
   "id": "b34c4f2f",
   "metadata": {},
   "source": [
    "### 강좌명"
   ]
  },
  {
   "cell_type": "code",
   "execution_count": null,
   "id": "4fc7ac20",
   "metadata": {},
   "outputs": [],
   "source": [
    "title = soup.select('div.head')[0].select('div.tit')[0].text\n",
    "title=re.sub('[\\r\\n\\t]', '', title)"
   ]
  },
  {
   "cell_type": "code",
   "execution_count": null,
   "id": "09ddc1b0",
   "metadata": {},
   "outputs": [],
   "source": [
    "# 강의제목\n",
    "titles=[]\n",
    "\n",
    "for t in soup.select('div.head')[:-1]:\n",
    "    t2=t.select('div.tit')[0].text\n",
    "    t3=re.sub('[\\r\\n\\t]','',t2)\n",
    "    \n",
    "    titles.append(t3)"
   ]
  },
  {
   "cell_type": "markdown",
   "id": "10078590",
   "metadata": {},
   "source": [
    "### 리뷰제목"
   ]
  },
  {
   "cell_type": "code",
   "execution_count": null,
   "id": "2686542e",
   "metadata": {},
   "outputs": [],
   "source": [
    "contents=[]\n",
    "\n",
    "for t in soup.select('div.cont')[:-1]:\n",
    "    t2=t.select('div.tit')[0].text\n",
    "    t3=re.sub('[\\r\\n\\t]','',t2)\n",
    "    \n",
    "    contents.append(t3)"
   ]
  },
  {
   "cell_type": "markdown",
   "id": "ecba50d8",
   "metadata": {},
   "source": [
    "### 리뷰본문"
   ]
  },
  {
   "cell_type": "code",
   "execution_count": null,
   "id": "1cd0c57a",
   "metadata": {},
   "outputs": [],
   "source": [
    "contents2=[]\n",
    "\n",
    "for t in soup.select('div.cont')[:-1]:\n",
    "    t2=t.select('p.text')[0].text\n",
    "    t3=re.sub('[\\r\\n\\t]','',t2)\n",
    "    \n",
    "    contents2.append(t3)"
   ]
  },
  {
   "cell_type": "markdown",
   "id": "88600fab",
   "metadata": {},
   "source": [
    "### 별점 / soup에서 띄어쓰기는 ."
   ]
  },
  {
   "cell_type": "code",
   "execution_count": null,
   "id": "b80b5dc6",
   "metadata": {},
   "outputs": [],
   "source": [
    "star=len(soup.select('div.review-star')[0].select('span.star.checked'))\n",
    "star_rate=[]\n",
    "\n",
    "for i in soup.select('div.review-star'):\n",
    "    star=t.select('span.star.checked')\n",
    "    star_rate.append(len(star))"
   ]
  },
  {
   "cell_type": "markdown",
   "id": "009877cd",
   "metadata": {},
   "source": [
    "### 강의 날짜, 강사명"
   ]
  },
  {
   "cell_type": "code",
   "execution_count": null,
   "id": "e5ff8cb7",
   "metadata": {},
   "outputs": [],
   "source": [
    "date=[]\n",
    "names=[]\n",
    "\n",
    "for t in soup.select('div.h-rt'):\n",
    "    date.append(t.select('span')[-1].text)\n",
    "    names.append(t.select('span')[-2].text[:-4])"
   ]
  }
 ],
 "metadata": {
  "kernelspec": {
   "display_name": "Python 3 (ipykernel)",
   "language": "python",
   "name": "python3"
  },
  "language_info": {
   "codemirror_mode": {
    "name": "ipython",
    "version": 3
   },
   "file_extension": ".py",
   "mimetype": "text/x-python",
   "name": "python",
   "nbconvert_exporter": "python",
   "pygments_lexer": "ipython3",
   "version": "3.11.5"
  }
 },
 "nbformat": 4,
 "nbformat_minor": 5
}
