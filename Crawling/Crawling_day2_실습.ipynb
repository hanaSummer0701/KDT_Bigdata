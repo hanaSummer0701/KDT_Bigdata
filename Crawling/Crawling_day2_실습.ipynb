{
 "cells": [
  {
   "cell_type": "markdown",
   "id": "ea0bdbbb",
   "metadata": {},
   "source": [
    "# T셀파 크롤링"
   ]
  },
  {
   "cell_type": "code",
   "execution_count": 2,
   "id": "7ac4c5ec-ec8e-4fdb-b08d-488c476e6690",
   "metadata": {
    "tags": []
   },
   "outputs": [],
   "source": [
    "# 패키지 불러오기\n",
    "from selenium import webdriver\n",
    "import pandas as pd\n",
    "from selenium.webdriver.common.by import By\n",
    "import time"
   ]
  },
  {
   "cell_type": "code",
   "execution_count": 3,
   "id": "744064c5-d891-4510-b2b6-0a12f23fded3",
   "metadata": {
    "tags": []
   },
   "outputs": [],
   "source": [
    "driver = webdriver.Chrome() # 사용 브라우저 맞춰서 변경가능\n",
    "# 주소에서 검색어 입력 /?q=검색어"
   ]
  },
  {
   "cell_type": "code",
   "execution_count": 4,
   "id": "e4f5ab16-75ed-4aef-b36d-3b1a16eb1914",
   "metadata": {
    "tags": []
   },
   "outputs": [],
   "source": [
    "page=1\n",
    "T_selfa_url = f\"https://edu.tsherpa.co.kr/LectureInfo/LectureReviews{page}/\"\n",
    "driver.get(T_selfa_url)\n"
   ]
  },
  {
   "cell_type": "markdown",
   "id": "3fbe2fe7-3ec3-4209-bc05-da69495c43a9",
   "metadata": {
    "tags": []
   },
   "source": [
    "#### 강좌명"
   ]
  },
  {
   "cell_type": "code",
   "execution_count": 364,
   "id": "d5def68f-cf36-43ea-9922-a1e934e86cc2",
   "metadata": {
    "tags": []
   },
   "outputs": [],
   "source": [
    "title=[]\n",
    "title.append(driver.find_element(By.XPATH, f'//*[@id=\"mainForm\"]/table/tbody/tr[1]/td[2]/a').text.split('\\n')[0].split('시간 ')[1])"
   ]
  },
  {
   "cell_type": "code",
   "execution_count": 5,
   "id": "0eaaee23-518f-4e0a-9cc7-2d3a3e93500b",
   "metadata": {
    "tags": []
   },
   "outputs": [],
   "source": [
    "title=[]\n",
    "for i in range(1,11):\n",
    "    title.append(driver.find_element(By.XPATH, f'//*[@id=\"mainForm\"]/table/tbody/tr[{i}]/td[2]/a').text.split('\\n')[0].split('시간 ')[1])"
   ]
  },
  {
   "cell_type": "markdown",
   "id": "0bd39eee-5589-4571-a699-5b8ac872503e",
   "metadata": {},
   "source": [
    "#### 시수"
   ]
  },
  {
   "cell_type": "code",
   "execution_count": 7,
   "id": "bf3d6d88-1fb5-445e-9cf6-583d545a5071",
   "metadata": {
    "tags": []
   },
   "outputs": [],
   "source": [
    "lecture_time=[]\n",
    "for i in range(1,11):\n",
    "    lecture_time.append(driver.find_element(By.XPATH, f'//*[@id=\"mainForm\"]/table/tbody/tr[{i}]/td[2]/a/span').text)"
   ]
  },
  {
   "cell_type": "markdown",
   "id": "a515726f-2d68-4321-8ecb-67253982892f",
   "metadata": {},
   "source": [
    "#### 리뷰제목"
   ]
  },
  {
   "cell_type": "code",
   "execution_count": 9,
   "id": "d5ba38c3-161d-4aa5-86d8-d3ef0d3d6adf",
   "metadata": {
    "tags": []
   },
   "outputs": [],
   "source": [
    "review_title=[]\n",
    "for i in range(1,11):\n",
    "    review_title.append(driver.find_element(By.XPATH,f'//*[@id=\"mainForm\"]/table/tbody/tr[{i}]/td[2]/a/strong').text)"
   ]
  },
  {
   "cell_type": "markdown",
   "id": "0685760b-94a2-49ca-b067-fe0eac0ba034",
   "metadata": {},
   "source": [
    "#### 별점"
   ]
  },
  {
   "cell_type": "code",
   "execution_count": 11,
   "id": "7321c317-8003-45d8-b62e-bb896e10079d",
   "metadata": {
    "tags": []
   },
   "outputs": [],
   "source": [
    "star=[]\n",
    "for i in range(1,11):\n",
    "    star.append(driver.find_element(By.XPATH,f'//*[@id=\"mainForm\"]/table/tbody/tr[{i}]/td[3]/img').get_attribute('alt'))"
   ]
  },
  {
   "cell_type": "markdown",
   "id": "95110a54-52d4-4bb5-9fc5-5d6658102659",
   "metadata": {},
   "source": [
    "#### 교사명"
   ]
  },
  {
   "cell_type": "code",
   "execution_count": 13,
   "id": "f165234c-77f5-4359-850d-f0260763f420",
   "metadata": {
    "tags": []
   },
   "outputs": [],
   "source": [
    "name=[]\n",
    "for i in range(1,11):\n",
    "    name.append(driver.find_element(By.XPATH,f'//*[@id=\"mainForm\"]/table/tbody/tr[{i}]/td[3]/strong').text.split(' 선생님')[0])"
   ]
  },
  {
   "cell_type": "markdown",
   "id": "f04d47c6-019b-49ed-a0db-6e36eaf95c0b",
   "metadata": {},
   "source": [
    "#### 날짜"
   ]
  },
  {
   "cell_type": "code",
   "execution_count": 15,
   "id": "577b2c21-57a0-4c2a-ad83-5cf0394440a4",
   "metadata": {
    "tags": []
   },
   "outputs": [],
   "source": [
    "date=[]\n",
    "for i in range(1,11):\n",
    "    date.append(driver.find_element(By.XPATH,f'//*[@id=\"mainForm\"]/table/tbody/tr[{i}]/td[3]').text.split('\\n')[-1])"
   ]
  },
  {
   "cell_type": "code",
   "execution_count": 19,
   "id": "dd277d5a-65e0-4bc0-89e2-836a95f5806d",
   "metadata": {
    "tags": []
   },
   "outputs": [],
   "source": [
    "result=pd.DataFrame(columns=['강좌명', '시수', '리뷰제목', '별점', '교사명', '날짜'])\n",
    "page=1\n",
    "page2=1"
   ]
  },
  {
   "cell_type": "markdown",
   "id": "6fbc5e3c",
   "metadata": {},
   "source": [
    "#### 페이지 넘기며 크롤링"
   ]
  },
  {
   "cell_type": "code",
   "execution_count": null,
   "id": "eb0515db-4033-489d-86e6-b3fcb005153a",
   "metadata": {
    "tags": []
   },
   "outputs": [],
   "source": [
    "for p in range(1,19):\n",
    "    time.sleep(0.5)\n",
    "    title=[]\n",
    "    lecture_time=[]\n",
    "    review_title=[]\n",
    "    star=[]\n",
    "    name=[]\n",
    "    date=[]\n",
    "\n",
    "    try:\n",
    "        for i in range(1,11):\n",
    "                title.append(driver.find_element(By.XPATH, f'//*[@id=\"mainForm\"]/table/tbody/tr[{i}]/td[2]/a').text.split('\\n')[0].split('시간 ')[1])\n",
    "                lecture_time.append(driver.find_element(By.XPATH, f'//*[@id=\"mainForm\"]/table/tbody/tr[{i}]/td[2]/a/span').text)\n",
    "                review_title.append(driver.find_element(By.XPATH,f'//*[@id=\"mainForm\"]/table/tbody/tr[{i}]/td[2]/a/strong').text)\n",
    "                star.append(driver.find_element(By.XPATH,f'//*[@id=\"mainForm\"]/table/tbody/tr[{i}]/td[3]/img').get_attribute('alt'))\n",
    "                name.append(driver.find_element(By.XPATH,f'//*[@id=\"mainForm\"]/table/tbody/tr[{i}]/td[3]/strong').text.split(' 선생님')[0])\n",
    "                date.append(driver.find_element(By.XPATH,f'//*[@id=\"mainForm\"]/table/tbody/tr[{i}]/td[3]').text.split('\\n')[-1])\n",
    "        temp=pd.DataFrame([title, lecture_time, review_title, star, name, date], index=['강좌명', '시수', '리뷰제목', '별점', '교사명', '날짜']).T\n",
    "        result=pd.concat([result, temp])\n",
    "\n",
    "        # 페이지 넘김\n",
    "        if page == 10:\n",
    "            driver.find_element(By.XPATH, f'//*[@id=\"mainForm\"]/div[3]/a[{page+1}]').click()\n",
    "            page += 1\n",
    "            page2 += 1\n",
    "            print(\"페이지 넘김\")\n",
    "        elif page == 11:\n",
    "            driver.find_element(By.XPATH, f'//*[@id=\"mainForm\"]/div[3]/a[{page+1}]').click()\n",
    "            page = 1\n",
    "            page2 += 1\n",
    "            print(\"10페이지 넘김\")\n",
    "        else:\n",
    "            driver.find_element(By.XPATH, f'//*[@id=\"mainForm\"]/div[3]/a[{page+2}]').click()\n",
    "            page += 1\n",
    "            page2 += 1\n",
    "            print(\"페이지 넘김\")\n",
    "    except:\n",
    "        break"
   ]
  },
  {
   "cell_type": "code",
   "execution_count": null,
   "id": "a9e48906-b806-4deb-93e8-59dc66bc88ea",
   "metadata": {
    "tags": []
   },
   "outputs": [],
   "source": [
    "# 전체 결과보기\n",
    "result"
   ]
  },
  {
   "cell_type": "code",
   "execution_count": 391,
   "id": "d48b3050-dcdc-4c83-a4e0-f78fabfe5137",
   "metadata": {
    "tags": []
   },
   "outputs": [],
   "source": [
    "# 결과 엑셀로 저장\n",
    "result.to_excel('finall2.xlsx', index=False)"
   ]
  },
  {
   "cell_type": "markdown",
   "id": "4da47bb4",
   "metadata": {},
   "source": [
    "# 교육연수원 크롤링"
   ]
  },
  {
   "cell_type": "code",
   "execution_count": null,
   "id": "876b5896",
   "metadata": {},
   "outputs": [],
   "source": [
    "from bs4 import BeautifulSoup\n",
    "import requests\n",
    "import re"
   ]
  },
  {
   "cell_type": "code",
   "execution_count": null,
   "id": "c807c87e",
   "metadata": {},
   "outputs": [],
   "source": [
    "page=1\n",
    "url=f'https://teacher.i-scream.co.kr/help/afterword/list.do?searchPrgrTimeArr=&searchCrsLCodeList=&searchPrgrTimeArr=&searchCrsLCodeList=&searchPrgrTimeArr=&searchCrsLCodeList=&searchPrgrTimeArr=&searchCrsLCodeList=&searchPrgrTimeArr=&searchCrsLCodeList=&searchPrgrTimeArr=&searchCrsLCodeList=&searchPrgrTimeArr=&searchCrsLCodeList=&searchPrgrTimeArr=&searchCrsLCodeList=&searchPrgrTimeArr=&searchCrsLCodeList=&searchPrgrTimeArr=&searchCrsLCodeList=&{page}Index=2&sso=ok'"
   ]
  },
  {
   "cell_type": "code",
   "execution_count": null,
   "id": "8be60a15",
   "metadata": {},
   "outputs": [],
   "source": [
    "req=requests.get(url)\n",
    "content = req.content \n",
    "soup = BeautifulSoup(content, 'html.parser') "
   ]
  },
  {
   "cell_type": "markdown",
   "id": "b34c4f2f",
   "metadata": {},
   "source": [
    "### 강좌명"
   ]
  },
  {
   "cell_type": "code",
   "execution_count": null,
   "id": "4fc7ac20",
   "metadata": {},
   "outputs": [],
   "source": [
    "title = soup.select('div.head')[0].select('div.tit')[0].text\n",
    "title=re.sub('[\\r\\n\\t]', '', title)"
   ]
  },
  {
   "cell_type": "code",
   "execution_count": null,
   "id": "09ddc1b0",
   "metadata": {},
   "outputs": [],
   "source": [
    "# 강의제목\n",
    "titles=[]\n",
    "\n",
    "for t in soup.select('div.head')[:-1]:\n",
    "    t2=t.select('div.tit')[0].text\n",
    "    t3=re.sub('[\\r\\n\\t]','',t2)\n",
    "    \n",
    "    titles.append(t3)"
   ]
  },
  {
   "cell_type": "markdown",
   "id": "10078590",
   "metadata": {},
   "source": [
    "### 리뷰제목"
   ]
  },
  {
   "cell_type": "code",
   "execution_count": null,
   "id": "2686542e",
   "metadata": {},
   "outputs": [],
   "source": [
    "contents=[]\n",
    "\n",
    "for t in soup.select('div.cont')[:-1]:\n",
    "    t2=t.select('div.tit')[0].text\n",
    "    t3=re.sub('[\\r\\n\\t]','',t2)\n",
    "    \n",
    "    contents.append(t3)"
   ]
  },
  {
   "cell_type": "markdown",
   "id": "ecba50d8",
   "metadata": {},
   "source": [
    "### 리뷰본문"
   ]
  },
  {
   "cell_type": "code",
   "execution_count": null,
   "id": "1cd0c57a",
   "metadata": {},
   "outputs": [],
   "source": [
    "contents2=[]\n",
    "\n",
    "for t in soup.select('div.cont')[:-1]:\n",
    "    t2=t.select('p.text')[0].text\n",
    "    t3=re.sub('[\\r\\n\\t]','',t2)\n",
    "    \n",
    "    contents2.append(t3)"
   ]
  },
  {
   "cell_type": "markdown",
   "id": "88600fab",
   "metadata": {},
   "source": [
    "### 별점 / soup에서 띄어쓰기는 ."
   ]
  },
  {
   "cell_type": "code",
   "execution_count": null,
   "id": "b80b5dc6",
   "metadata": {},
   "outputs": [],
   "source": [
    "star=len(soup.select('div.review-star')[0].select('span.star.checked'))\n",
    "star_rate=[]\n",
    "\n",
    "for i in soup.select('div.review-star'):\n",
    "    star=t.select('span.star.checked')\n",
    "    star_rate.append(len(star))"
   ]
  },
  {
   "cell_type": "markdown",
   "id": "009877cd",
   "metadata": {},
   "source": [
    "### 강의 날짜, 강사명"
   ]
  },
  {
   "cell_type": "code",
   "execution_count": null,
   "id": "e5ff8cb7",
   "metadata": {},
   "outputs": [],
   "source": [
    "date=[]\n",
    "names=[]\n",
    "\n",
    "for t in soup.select('div.h-rt'):\n",
    "    date.append(t.select('span')[-1].text)\n",
    "    names.append(t.select('span')[-2].text[:-4])"
   ]
  }
 ],
 "metadata": {
  "kernelspec": {
   "display_name": "Python 3 (ipykernel)",
   "language": "python",
   "name": "python3"
  },
  "language_info": {
   "codemirror_mode": {
    "name": "ipython",
    "version": 3
   },
   "file_extension": ".py",
   "mimetype": "text/x-python",
   "name": "python",
   "nbconvert_exporter": "python",
   "pygments_lexer": "ipython3",
   "version": "3.11.5"
  }
 },
 "nbformat": 4,
 "nbformat_minor": 5
}
