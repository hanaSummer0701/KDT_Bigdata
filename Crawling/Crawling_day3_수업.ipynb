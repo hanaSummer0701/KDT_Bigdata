{
 "cells": [
  {
   "cell_type": "markdown",
   "id": "494f0a0d-af01-4c2c-bdd3-fe33efae2da4",
   "metadata": {},
   "source": [
    "# DART 크롤링"
   ]
  },
  {
   "cell_type": "code",
   "execution_count": null,
   "id": "ceb938de",
   "metadata": {
    "tags": []
   },
   "outputs": [],
   "source": [
    "import dart_fss as dart\n",
    "import pandas as pd\n",
    "# Open DART API KEY 설정\n",
    "api_key=''\n",
    "dart.set_api_key(api_key=api_key)"
   ]
  },
  {
   "cell_type": "code",
   "execution_count": null,
   "id": "c6d5c740",
   "metadata": {},
   "outputs": [],
   "source": [
    "# DART 에 공시된 회사 리스트 불러오기\n",
    "corp_list = dart.get_corp_list()"
   ]
  },
  {
   "cell_type": "code",
   "execution_count": 9,
   "id": "4fe238aa",
   "metadata": {},
   "outputs": [],
   "source": [
    "# 삼성전자 검색.  exactly=True 정확히 일치하는 정보만 나타나게됨\n",
    "samsung = corp_list.find_by_corp_name('삼성전자', exactly=True)[0]"
   ]
  },
  {
   "cell_type": "code",
   "execution_count": null,
   "id": "9f19f570",
   "metadata": {},
   "outputs": [],
   "source": [
    "# 2012년부터 연간 연결재무제표 불러오기\n",
    "fs = samsung.extract_fs(bgn_de='20120101')"
   ]
  },
  {
   "cell_type": "code",
   "execution_count": null,
   "id": "a7fc517f",
   "metadata": {
    "scrolled": true
   },
   "outputs": [],
   "source": [
    "# 기업리스트에서 '텔레비전 방송업' 섹터에 속하고 'YKN' 시장에 상장된 기업들을 찾습니다.\n",
    "corp_list.find_by_sector(sector='텔레비전 방송업',market='YKN')"
   ]
  },
  {
   "cell_type": "code",
   "execution_count": 29,
   "id": "d178e6a5",
   "metadata": {
    "tags": []
   },
   "outputs": [],
   "source": [
    "# 기업리스트에서 '교육' 제품을 제공하는 기업들을 찾습니다.\n",
    "edu=corp_list.find_by_product(product='교육')"
   ]
  },
  {
   "cell_type": "code",
   "execution_count": 31,
   "id": "d98cc7d4",
   "metadata": {
    "tags": []
   },
   "outputs": [],
   "source": [
    "df_temp=pd.DataFrame() # 빈 데이터프레임 생성\n",
    "# '교육'제품을 제공하는 기업 찾아 데이터프레임에 넣기\n",
    "for c in edu:\n",
    "    dict_temp=c.to_dict() # 현재 반복 중인 c를 딕셔너리로 변환\n",
    "    df_temp2=pd.DataFrame.from_dict(dict_temp, orient='index').T \n",
    "    \n",
    "    #딕셔너리를 데이터프레임으로 변환->from_dict() / 딕셔너리 키를 인덱스로 사용하도록 지정 ->orient=index\n",
    "    \n",
    "    df_temp=pd.concat([df_temp, df_temp2]) # df_temp 데이터프레임과 df_temp2 데이터 프레임을 위아래로 이어 붙임"
   ]
  },
  {
   "cell_type": "code",
   "execution_count": null,
   "id": "acb78b5e",
   "metadata": {},
   "outputs": [],
   "source": [
    "# 기업리스트에서 '교육지원 서비스업'에 해당되는 업종의 기업찾기.\n",
    "edu_list=corp_list.find_by_sector('교육지원 서비스업')"
   ]
  },
  {
   "cell_type": "code",
   "execution_count": null,
   "id": "8fa720f6",
   "metadata": {},
   "outputs": [],
   "source": [
    "# '교육지원 서비스업'에 해당되는 업종의 기업의 이름, 코드 찾아 리스트에 넣기.\n",
    "find_list=[]\n",
    "\n",
    "for e in edu_list:\n",
    "    find_list.append([e.corp_name, e.corp_code])\n",
    "    #e -> edu_list의 각 요소 가리킴"
   ]
  },
  {
   "cell_type": "code",
   "execution_count": null,
   "id": "6955cf75",
   "metadata": {},
   "outputs": [],
   "source": [
    "# 'corp_list' 객체에서 '일반 교습 학원' 섹터에 속하는 기업들을 찾습니다.\n",
    "edu_list = corp_list.find_by_sector('일반 교습 학원')\n",
    "\n",
    "# 기업 이름과 기업 코드를 담을 리스트 초기화\n",
    "find_list = []\n",
    "\n",
    "# 'edu_list'의 각 요소를 순회하며 기업 이름과 기업 코드를 'find_list'에 추가합니다.\n",
    "for e in edu_list:\n",
    "    find_list.append([e.corp_name, e.corp_code])\n",
    "    # e는 'edu_list'의 각 요소를 가리킵니다.\n",
    "\n",
    "# 빈 데이터프레임 생성\n",
    "edu_df = pd.DataFrame()\n",
    "\n",
    "# 'find_list'의 각 요소를 순회합니다.\n",
    "for e in find_list:\n",
    "    e_num = e[1] # e 리스트의 두 번째 요소를 e_num에 할당 = corp_code\n",
    "    \n",
    "    # 'dart.api.filings.get_corp_info' 함수를 사용하여 e_num에 해당하는 기업의 정보를 가져와 temp에 할당합니다.\n",
    "    temp = dart.api.filings.get_corp_info(e_num) \n",
    "    \n",
    "    # temp 딕셔너리를 데이터프레임으로 변환하고 행 방향으로 전치합니다.\n",
    "    edu_temp = pd.DataFrame.from_dict(temp, orient='index').T \n",
    "    \n",
    "    # edu_df와 edu_temp를 결합합니다. - 기업개황에 대한 데이터프레임 생성됨\n",
    "    edu_df = pd.concat([edu_df, edu_temp])\n"
   ]
  },
  {
   "cell_type": "code",
   "execution_count": 73,
   "id": "56f7ce6a-d656-4d22-8d2b-1f818b6a4254",
   "metadata": {
    "tags": []
   },
   "outputs": [],
   "source": [
    "# 기업개황 열이름을 가져오기\n",
    "col_name=pd.read_csv('./기업개황 열이름.csv', encoding='cp949')"
   ]
  },
  {
   "cell_type": "code",
   "execution_count": 74,
   "id": "c1f2a68f-1952-488b-91bd-4c19713f7382",
   "metadata": {
    "tags": []
   },
   "outputs": [],
   "source": [
    "new_columns=[] # 빈 리스트 생성\n",
    "\n",
    "for c in edu_df.columns:\n",
    "    try:\n",
    "        m=col_name['응답키']==c # col_name 데이터프레임에서 응답키 열 값이 현재 열 c와 일치하는지 확인하는 조건 만듦\n",
    "        new_c=col_name[m]['명칭'].iloc[0] # 조건 만족하면 해당 조건에 해당하는 명칭 열의 첫 값 가져와 new_c에 저장\n",
    "        # [m]은 특정 조건 만족하는 행 선택 위한 불리언 마스크. 데이터 프레임에서 특정 조건 충족 행 선택 위해 사용. \n",
    "        # m은 col_name['응답키']==c라는 조건을 담고 있음.\n",
    "        \n",
    "        new_columns.append(new_c) # 새로운 열 이름을 new_columns 리스트에 추가\n",
    "    except:\n",
    "        new_columns.append(c) #c의 데이터 바로 저장 # 예외 발생 시 현재 열 이름 그대로 유지하고 new_columns 리스트에 추가"
   ]
  },
  {
   "cell_type": "code",
   "execution_count": 75,
   "id": "a434c608-7399-4e2c-bb31-19a8ca2a628b",
   "metadata": {
    "tags": []
   },
   "outputs": [],
   "source": [
    "# 'edu_df'의 열 이름을 'new_columns' 리스트의 값들로 변경합니다.\n",
    "edu_df.columns=new_columns"
   ]
  },
  {
   "cell_type": "code",
   "execution_count": 79,
   "id": "24617635-8adf-4706-a1e9-656aea944958",
   "metadata": {
    "tags": []
   },
   "outputs": [
    {
     "data": {
      "text/plain": [
       "['서초구']"
      ]
     },
     "execution_count": 79,
     "metadata": {},
     "output_type": "execute_result"
    }
   ],
   "source": [
    "import re\n",
    "# findall 사용해서 주소에서 '구'만 추출\n",
    "re.findall('[가-힣]+구','서울특별시 서초구')"
   ]
  },
  {
   "cell_type": "code",
   "execution_count": 86,
   "id": "b7c01e35-21fd-4e94-95f3-ec941c1e5934",
   "metadata": {
    "tags": []
   },
   "outputs": [],
   "source": [
    "# 지역(구) 정보 추출\n",
    "edu_df['지역(구)']=edu_df['주소'].apply(lambda x: re.findall('[가-힣]+구', x)[0])"
   ]
  },
  {
   "cell_type": "code",
   "execution_count": 87,
   "id": "ed714a37-081f-42ab-bc7e-38c0787903a4",
   "metadata": {
    "tags": []
   },
   "outputs": [],
   "source": [
    "import matplotlib as mpl\n",
    "import seaborn as sns\n",
    "import matplotlib.pyplot as plt\n",
    "import matplotlib.font_manager as fm\n",
    "\n",
    "sns.set(font_scale=1.4)\n",
    "# 맑은 고딕으로 글꼴 설정하기\n",
    "plt.rc('font', family='Malgun Gothic') \n",
    "# 마이너스 기호 문제 해결하기\n",
    "mpl.rcParams['axes.unicode_minus'] = False"
   ]
  },
  {
   "cell_type": "code",
   "execution_count": 88,
   "id": "5c972629-006a-4691-b6e8-dd5896066c1f",
   "metadata": {
    "tags": []
   },
   "outputs": [
    {
     "data": {
      "image/png": "[encoded data removed]",
      "text/plain": [
       "<Figure size 640x480 with 1 Axes>"
      ]
     },
     "metadata": {},
     "output_type": "display_data"
    }
   ],
   "source": [
    "# 지역별 업체 수 시각화\n",
    "sns.histplot(data=edu_df, x='지역(구)')\n",
    "plt.title('지역별 업체 수')\n",
    "plt.show()"
   ]
  },
  {
   "cell_type": "markdown",
   "id": "2cb2c222-b473-4c9a-9d4f-d7016ef5edb6",
   "metadata": {},
   "source": [
    "# 업종분류별 시각화"
   ]
  },
  {
   "cell_type": "code",
   "execution_count": 110,
   "id": "d9a5cc20-c902-4d02-b28e-f47b96400c3f",
   "metadata": {
    "tags": []
   },
   "outputs": [],
   "source": [
    "code=pd.read_csv('./업종코드.csv', encoding='cp949', index_col=0)\n",
    "# index_col=0 : 첫번째 열을 행 인덱스로 사용"
   ]
  },
  {
   "cell_type": "code",
   "execution_count": 113,
   "id": "c8813108-934b-4e92-953c-ed6dd052f59a",
   "metadata": {
    "tags": []
   },
   "outputs": [],
   "source": [
    "# 빈 리스트 생성\n",
    "new_code = []\n",
    "\n",
    "# 'edu_df'의 '업종코드' 열의 각 값에 대해 반복합니다.\n",
    "for e in edu_df['업종코드']:\n",
    "    try:\n",
    "        # 'code' 데이터프레임에서 '업종명' 열의 값을 가져와 'new_code' 리스트에 추가합니다.\n",
    "        new_code.append(code.loc[int(e), '업종명'])\n",
    "    except:\n",
    "        # 예외가 발생하면 '기타'와 해당 코드 값을 합친 문자열을 'new_code' 리스트에 추가합니다.\n",
    "        new_code.append(f'기타({e})')\n",
    "\n",
    "# 'edu_df'에 '업종' 열을 추가하고, 'new_code' 리스트의 값들로 채웁니다.\n",
    "edu_df['업종'] = new_code\n"
   ]
  },
  {
   "cell_type": "markdown",
   "id": "a9e87073-56bb-44b8-a5d8-34cbdae2b389",
   "metadata": {},
   "source": [
    "# 구글 스칼라 크롤링\n",
    "- 중간에 막혀서 끝까지 수행하지 못함.\n",
    "- 코드만 작성."
   ]
  },
  {
   "cell_type": "code",
   "execution_count": 249,
   "id": "b70b9d37-0479-496c-8ece-3eeb77ded965",
   "metadata": {
    "tags": []
   },
   "outputs": [],
   "source": [
    "from bs4 import BeautifulSoup\n",
    "import pandas as pd\n",
    "import requests"
   ]
  },
  {
   "cell_type": "code",
   "execution_count": null,
   "id": "548f0982",
   "metadata": {},
   "outputs": [],
   "source": [
    "import time\n",
    "import requests\n",
    "from bs4 import BeautifulSoup\n",
    "import pandas as pd\n",
    "import re\n",
    "\n",
    "# 검색 키워드 및 초기 설정\n",
    "keyword = '교육'\n",
    "page = 0\n",
    "ylo = 2023\n",
    "yhi = 2023\n",
    "scholar_data = pd.DataFrame(columns=['제목', '저자', '출간연도', '요약', 'URL'])\n",
    "\n",
    "while True:\n",
    "    # 잠시 대기\n",
    "    time.sleep(0.5)\n",
    "\n",
    "    # 구글 스칼라 URL 설정\n",
    "    scholar = f''\n",
    "    \n",
    "    # HTML 데이터 가져오기\n",
    "    req = requests.get(scholar)\n",
    "    html = req.content\n",
    "    soup = BeautifulSoup(html, 'html.parser')\n",
    "\n",
    "    # 페이지 종료 확인\n",
    "    if soup.select('h3.gs_rt') == []:\n",
    "        break\n",
    "\n",
    "    # 데이터 파싱\n",
    "    title = [t.text for t in soup.select('h3.gs_rt')]\n",
    "    url = [l.find('a')['href'] for l in soup.select('h3.gs_rt')]\n",
    "\n",
    "    author = []\n",
    "    year = []\n",
    "\n",
    "    # 저자 및 출간연도 파싱\n",
    "    for i in soup.select('div.gs_a'):\n",
    "        temp = re.sub('\\s+', ' ', i.text)\n",
    "        author.append(re.sub(', ',',', temp).split('-')[0])\n",
    "        year.append(re.sub(', ',',', temp).split('-')[1])\n",
    "        \n",
    "        # author_year = re.sub('，', ', ', temp).split(' - ')\n",
    "        # author.append(author_year[0])\n",
    "        # year.append(author_year[1] if len(author_year) > 1 else '')\n",
    "\n",
    "    # 요약 파싱\n",
    "    abst = [re.sub('\\s+', ' ', p.text) for p in soup.select('div.gs_rs')]\n",
    "\n",
    "    # 데이터프레임으로 변환\n",
    "    res=pd.DataFrame([title, author, year, abst, url], index=['제목', '저자', '출간연도', '요약', 'url'])\n",
    "    \n",
    "    # 기존 데이터프레임과 결합\n",
    "    scholar_data = pd.concat([scholar_data, res], ignore_index=True)\n",
    "    \n",
    "    # 페이지 번호 업데이트\n",
    "    page += 10\n",
    "\n",
    "# 데이터 저장\n",
    "scholar_data.to_csv('scholar_data.csv', index=False, encoding='cp949')\n"
   ]
  }
 ],
 "metadata": {
  "kernelspec": {
   "display_name": "Python 3 (ipykernel)",
   "language": "python",
   "name": "python3"
  },
  "language_info": {
   "codemirror_mode": {
    "name": "ipython",
    "version": 3
   },
   "file_extension": ".py",
   "mimetype": "text/x-python",
   "name": "python",
   "nbconvert_exporter": "python",
   "pygments_lexer": "ipython3",
   "version": "3.11.5"
  }
 },
 "nbformat": 4,
 "nbformat_minor": 5
}
