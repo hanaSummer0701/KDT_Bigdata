{
 "cells": [
  {
   "cell_type": "code",
   "execution_count": 152,
   "id": "34318b2b",
   "metadata": {
    "tags": []
   },
   "outputs": [],
   "source": [
    "# 패키지 불러오기\n",
    "from selenium import webdriver\n",
    "import pandas as pd\n",
    "from selenium.webdriver.common.by import By\n",
    "import time"
   ]
  },
  {
   "cell_type": "code",
   "execution_count": 153,
   "id": "03c086cf-a7ab-4b2d-9168-7389699165b3",
   "metadata": {
    "tags": []
   },
   "outputs": [],
   "source": [
    "#driver.find_elements --> 값이 있으면 값, 값이 없으면 빈 리스트로 나옴"
   ]
  },
  {
   "cell_type": "code",
   "execution_count": 154,
   "id": "936be189-2c78-4b2c-81ba-40b294018185",
   "metadata": {
    "tags": []
   },
   "outputs": [],
   "source": [
    "driver = webdriver.Chrome() # 사용 브라우저 맞춰서 변경가능\n",
    "# 주소에서 검색어 입력 /?q=검색어"
   ]
  },
  {
   "cell_type": "markdown",
   "id": "7ee41def",
   "metadata": {},
   "source": [
    "# 카카오맵 크롤링"
   ]
  },
  {
   "cell_type": "code",
   "execution_count": 155,
   "id": "65384b62-438f-4e7d-8f68-9a5788573d1a",
   "metadata": {
    "tags": []
   },
   "outputs": [],
   "source": [
    "keyword = '서울 종로구 어학원'\n",
    "kakao_map_search_url = f\"https://map.kakao.com/?q={keyword}\"\n",
    "\n",
    "driver.get(kakao_map_search_url)\n",
    "driver.get(kakao_map_search_url) # 오버레이 뜨는 것을 막기 위해 같은 페이지 두 번 실행"
   ]
  },
  {
   "cell_type": "code",
   "execution_count": 156,
   "id": "17bebedc-ceea-428e-9d4d-049a58db16ac",
   "metadata": {
    "tags": []
   },
   "outputs": [],
   "source": [
    "reult=pd.DataFrame(columns=['업체명', '주소'])\n",
    "page=1\n",
    "page2=1"
   ]
  },
  {
   "cell_type": "code",
   "execution_count": 157,
   "id": "dc7fb55c-55b3-4017-a89a-c6e4504c3ee5",
   "metadata": {
    "tags": []
   },
   "outputs": [],
   "source": [
    "# 반복문 돌릴 코드\n",
    "for p in range(1, 13):\n",
    "    time.sleep(0.1)\n",
    "    place=[]\n",
    "    address=[]\n",
    "\n",
    "    for i in range(1, 16):\n",
    "        place.append(driver.find_element(By.XPATH,f'//*[@id=\"info.search.place.list\"]/li[{i}]/div[3]/strong/a[2]').text)\n",
    "        address.append(driver.find_element(By.XPATH,f'//*[@id=\"info.search.place.list\"]/li[{i}]/div[5]/div[2]/p[1]').text)\n",
    "    temp=pd.DataFrame([place, address], index=['업체명', '주소']).T\n",
    "    result=pd.concat([result, temp])\n",
    "\n",
    "    # 더보기 버튼 있는지 체크. 있으면 클릭 없으면 다음쪽 따로 처리\n",
    "    if driver.find_element(By.XPATH,'//*[@id=\"info.search.place.more\"]').is_displayed():\n",
    "        driver.find_element(By.XPATH,'//*[@id=\"info.search.place.more\"]').click()\n",
    "        page=2\n",
    "        page2=2\n",
    "    else:\n",
    "        if page+1==6:\n",
    "            driver.find_element(By.XPATH,f'//*[@id=\"info.search.page.next\"]').click()\n",
    "            page=1\n",
    "            page2+=1\n",
    "        else:\n",
    "            driver.find_element(By.XPATH,f'//*[@id=\"info.search.page.no{page+1}\"]').click()\n",
    "            page=1\n",
    "            page2+=1"
   ]
  },
  {
   "cell_type": "code",
   "execution_count": null,
   "id": "44217b45-62aa-4c77-815c-031ecba3c0ba",
   "metadata": {
    "tags": []
   },
   "outputs": [],
   "source": [
    "# 결과보기\n",
    "result"
   ]
  },
  {
   "cell_type": "code",
   "execution_count": 68,
   "id": "673ebc4c-3599-4a19-ae0b-83742b0c168f",
   "metadata": {
    "tags": []
   },
   "outputs": [],
   "source": [
    "#업체이름 , 주소, 전화번호 등등 1~마지막쪽까지"
   ]
  },
  {
   "cell_type": "code",
   "execution_count": 107,
   "id": "b7a272ef-0c99-493e-b5ba-76b9ceb398d6",
   "metadata": {
    "tags": []
   },
   "outputs": [],
   "source": [
    "result.to_excel('aaa.xlsx', index=False)\n",
    "#값을 살펴보거나, 클래스(속성)안에 값을 조회할 때는 ()X\n",
    "#함수를 호출할 때만 () 사용!"
   ]
  },
  {
   "cell_type": "code",
   "execution_count": null,
   "id": "1150058f-f17d-4691-b709-893a909c4c9a",
   "metadata": {},
   "outputs": [],
   "source": [
    "### 네이버의 경우 중간에 막히는 이슈 발생으로 끝까지 크롤링을 마치지 못함"
   ]
  },
  {
   "cell_type": "code",
   "execution_count": null,
   "id": "a000e6c9",
   "metadata": {},
   "outputs": [],
   "source": [
    "# 네이버 크롤링 코드 - 업체명 크롤링\n",
    "\n",
    "# 업체명 크롤링\n",
    "names2=[]\n",
    "for i in range(1,51):\n",
    "    if driver.find_elements(By.XPATH, f'//*[@id=\"_pcmap_list_scroll_container\"]/ul/li[{i}]/div[1]/div[2]/a[1]/div/div/span[1]') ==[]:\n",
    "        names2.append(driver.find_element(By.XPATH, f'//*[@id=\"_pcmap_list_scroll_container\"]/ul/li[{i}]/div[1]/div/a[1]/div/div/span[1]').text)\n",
    "    else:\n",
    "        names2.append(driver.find_element(By.XPATH, f'//*[@id=\"_pcmap_list_scroll_container\"]/ul/li[{i}]/div[1]/div[2]/a[1]/div/div/span[1]').text)\n",
    "\n",
    "# 다음 페이지 버튼 처리\n",
    "driver.find_element(By.XPATH,f'//*[@id=\"app-root\"]/div/div[2]/div[2]') # 다음버튼 있는 영역 포커싱\n",
    "driver.find_element(By.XPATH,f'//*[@id=\"app-root\"]/div/div[2]/div[2]/a[6]').click() # 다음버튼 클릭"
   ]
  },
  {
   "cell_type": "code",
   "execution_count": null,
   "id": "1f6f0926",
   "metadata": {},
   "outputs": [],
   "source": [
    "# 페이지 넘기며 크롤링\n",
    "result_naver=[]\n",
    "for p in range(3):\n",
    "    time.sleep(0.5)\n",
    "    names2=[]\n",
    "for i in range(1,11):\n",
    "    if driver.find_elements(By.XPATH, f'//*[@id=\"_pcmap_list_scroll_container\"]/ul/li[{i}]/div[1]/div[2]/a[1]/div/div/span[1]') ==[]:\n",
    "        if driver.find_elements(By.XPATH, f'//*[@id=\"_pcmap_list_scroll_container\"]/ul/li[{i}]/div[1]/div[2]/a[1]/div/div/span[1]') ==[]:\n",
    "        names2.append(driver.find_element(By.XPATH, f'//*[@id=\"_pcmap_list_scroll_container\"]/ul/li[{i}]/div[1]/div/a[1]/div/div/span[1]').text)\n",
    "    else:\n",
    "        names2.append(driver.find_element(By.XPATH, f'//*[@id=\"_pcmap_list_scroll_container\"]/ul/li[{i}]/div[1]/div[2]/a[1]/div/div/span[1]').text)\n",
    "    # 다음 페이지 버튼 처리\n",
    "    driver.find_element(By.XPATH,f'//*[@id=\"app-root\"]/div/div[2]/div[2]') # 다음버튼 있는 영역 포커싱\n",
    "    driver.find_element(By.XPATH,f'//*[@id=\"app-root\"]/div/div[2]/div[2]/a[6]').click() # 다음버튼 클릭|"
   ]
  }
 ],
 "metadata": {
  "kernelspec": {
   "display_name": "Python 3 (ipykernel)",
   "language": "python",
   "name": "python3"
  },
  "language_info": {
   "codemirror_mode": {
    "name": "ipython",
    "version": 3
   },
   "file_extension": ".py",
   "mimetype": "text/x-python",
   "name": "python",
   "nbconvert_exporter": "python",
   "pygments_lexer": "ipython3",
   "version": "3.11.5"
  }
 },
 "nbformat": 4,
 "nbformat_minor": 5
}
