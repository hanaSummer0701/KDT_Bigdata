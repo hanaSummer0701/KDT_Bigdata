{
 "cells": [
  {
   "cell_type": "markdown",
   "id": "88fca8c2",
   "metadata": {},
   "source": [
    "- 시작은 hello, world!로"
   ]
  },
  {
   "cell_type": "code",
   "execution_count": 1,
   "id": "9f59313a",
   "metadata": {
    "scrolled": false
   },
   "outputs": [
    {
     "name": "stdout",
     "output_type": "stream",
     "text": [
      "hello, world!\n"
     ]
    }
   ],
   "source": [
    "print('hello, world!')"
   ]
  },
  {
   "cell_type": "markdown",
   "id": "0944638f",
   "metadata": {},
   "source": [
    "# 파이썬의 자료형\n",
    "- int(정수) -> 1,2,3..\n",
    "- float(실수) -> 47.64..\n",
    "- str(문자열) -> 'hello'\n",
    "- list(리스트) mutable 한 순서O -> [1, 'hello', 0, 2]\n",
    "- tuple(튜플) immutable 한 순서O-> (12, 32)\n",
    "- dict(딕셔너리) key와 value로 구성, 순서X -> {'A': '0123405'}\n",
    "- set(집합) mutable 한 순서X -> {1,2,3}\n",
    "- bool(부울) -> T , F\n",
    "- complex(복소수) -> 6j\n",
    "- function(함수) -> print()\n",
    "- NoneType -> NoneType"
   ]
  },
  {
   "cell_type": "markdown",
   "id": "a7188152",
   "metadata": {},
   "source": [
    "# 파이썬의 연산자\n",
    "- ** --> 제곱\n",
    "- A//B --> A/B의 몫\n",
    "- A%B --> A/B의 나머지\n",
    "- == --> 같다\n",
    "- != --> 다르다\n",
    "- A=B --> A에 B를 할당\n",
    "- A:=B --> A에 B를 할당하고, B를 반환\n",
    "\n",
    "- 숫자 자료형: 모든 연산 가능\n",
    "- 배열 형태 자료형: 덧셈, 곱셈 가능"
   ]
  },
  {
   "cell_type": "code",
   "execution_count": 2,
   "id": "5e531157",
   "metadata": {},
   "outputs": [
    {
     "data": {
      "text/plain": [
       "'hello world!'"
      ]
     },
     "execution_count": 2,
     "metadata": {},
     "output_type": "execute_result"
    }
   ],
   "source": [
    "'hello'+' world!'"
   ]
  },
  {
   "cell_type": "code",
   "execution_count": 3,
   "id": "0af1ed58",
   "metadata": {},
   "outputs": [
    {
     "data": {
      "text/plain": [
       "'hellohello'"
      ]
     },
     "execution_count": 3,
     "metadata": {},
     "output_type": "execute_result"
    }
   ],
   "source": [
    "'hello'*2"
   ]
  },
  {
   "cell_type": "code",
   "execution_count": 4,
   "id": "9bc56105",
   "metadata": {},
   "outputs": [
    {
     "ename": "TypeError",
     "evalue": "unsupported operand type(s) for -: 'str' and 'str'",
     "output_type": "error",
     "traceback": [
      "\u001b[1;31m---------------------------------------------------------------------------\u001b[0m",
      "\u001b[1;31mTypeError\u001b[0m                                 Traceback (most recent call last)",
      "Cell \u001b[1;32mIn[4], line 2\u001b[0m\n\u001b[0;32m      1\u001b[0m \u001b[38;5;66;03m# str타입과 str타입간 연산은 덧셈, 곱셈만 가능\u001b[39;00m\n\u001b[1;32m----> 2\u001b[0m \u001b[38;5;124;43m'\u001b[39;49m\u001b[38;5;124;43m가나다\u001b[39;49m\u001b[38;5;124;43m'\u001b[39;49m\u001b[38;5;241;43m-\u001b[39;49m\u001b[38;5;124;43m'\u001b[39;49m\u001b[38;5;124;43m다\u001b[39;49m\u001b[38;5;124;43m'\u001b[39;49m\n",
      "\u001b[1;31mTypeError\u001b[0m: unsupported operand type(s) for -: 'str' and 'str'"
     ]
    }
   ],
   "source": [
    "# str타입과 str타입간 연산은 덧셈, 곱셈만 가능\n",
    "'가나다'-'다'"
   ]
  },
  {
   "cell_type": "code",
   "execution_count": 5,
   "id": "c8779617",
   "metadata": {},
   "outputs": [
    {
     "data": {
      "text/plain": [
       "'가나다가나다가나다가나다가나다가나다가나다가나다가나다가나다가나다가나다가나다가나다가나다가나다가나다가나다가나다가나다가나다가나다가나다가나다가나다가나다가나다가나다가나다가나다'"
      ]
     },
     "execution_count": 5,
     "metadata": {},
     "output_type": "execute_result"
    }
   ],
   "source": [
    "'가나다'*30"
   ]
  },
  {
   "cell_type": "code",
   "execution_count": 6,
   "id": "6f524fd6",
   "metadata": {},
   "outputs": [
    {
     "data": {
      "text/plain": [
       "246"
      ]
     },
     "execution_count": 6,
     "metadata": {},
     "output_type": "execute_result"
    }
   ],
   "source": [
    "123+123\n"
   ]
  },
  {
   "cell_type": "code",
   "execution_count": 7,
   "id": "29393b75",
   "metadata": {},
   "outputs": [
    {
     "ename": "TypeError",
     "evalue": "unsupported operand type(s) for /: 'list' and 'int'",
     "output_type": "error",
     "traceback": [
      "\u001b[1;31m---------------------------------------------------------------------------\u001b[0m",
      "\u001b[1;31mTypeError\u001b[0m                                 Traceback (most recent call last)",
      "Cell \u001b[1;32mIn[7], line 1\u001b[0m\n\u001b[1;32m----> 1\u001b[0m \u001b[43m[\u001b[49m\u001b[38;5;124;43m'\u001b[39;49m\u001b[38;5;124;43m1\u001b[39;49m\u001b[38;5;124;43m'\u001b[39;49m\u001b[43m,\u001b[49m\u001b[38;5;124;43m'\u001b[39;49m\u001b[38;5;124;43mhello\u001b[39;49m\u001b[38;5;124;43m'\u001b[39;49m\u001b[43m]\u001b[49m\u001b[38;5;241;43m/\u001b[39;49m\u001b[38;5;241;43m123\u001b[39;49m\n",
      "\u001b[1;31mTypeError\u001b[0m: unsupported operand type(s) for /: 'list' and 'int'"
     ]
    }
   ],
   "source": [
    "# 배열 형태의 자료형은 덧셈, 곱셈 연산만 가능\n",
    "['1','hello']/123"
   ]
  },
  {
   "cell_type": "code",
   "execution_count": 10,
   "id": "ba32492b",
   "metadata": {},
   "outputs": [
    {
     "ename": "TypeError",
     "evalue": "unsupported operand type(s) for //: 'list' and 'int'",
     "output_type": "error",
     "traceback": [
      "\u001b[1;31m---------------------------------------------------------------------------\u001b[0m",
      "\u001b[1;31mTypeError\u001b[0m                                 Traceback (most recent call last)",
      "Cell \u001b[1;32mIn[10], line 1\u001b[0m\n\u001b[1;32m----> 1\u001b[0m \u001b[43m[\u001b[49m\u001b[38;5;241;43m1\u001b[39;49m\u001b[43m,\u001b[49m\u001b[43m \u001b[49m\u001b[38;5;124;43m'\u001b[39;49m\u001b[38;5;124;43mhello\u001b[39;49m\u001b[38;5;124;43m'\u001b[39;49m\u001b[43m]\u001b[49m\u001b[38;5;241;43m/\u001b[39;49m\u001b[38;5;241;43m/\u001b[39;49m\u001b[38;5;241;43m123\u001b[39;49m\n",
      "\u001b[1;31mTypeError\u001b[0m: unsupported operand type(s) for //: 'list' and 'int'"
     ]
    }
   ],
   "source": [
    "[1, 'hello']//123"
   ]
  },
  {
   "cell_type": "code",
   "execution_count": 11,
   "id": "e51c6790",
   "metadata": {},
   "outputs": [
    {
     "ename": "TypeError",
     "evalue": "unsupported operand type(s) for ** or pow(): 'list' and 'int'",
     "output_type": "error",
     "traceback": [
      "\u001b[1;31m---------------------------------------------------------------------------\u001b[0m",
      "\u001b[1;31mTypeError\u001b[0m                                 Traceback (most recent call last)",
      "Cell \u001b[1;32mIn[11], line 1\u001b[0m\n\u001b[1;32m----> 1\u001b[0m \u001b[43m[\u001b[49m\u001b[38;5;241;43m1\u001b[39;49m\u001b[43m,\u001b[49m\u001b[43m \u001b[49m\u001b[38;5;124;43m'\u001b[39;49m\u001b[38;5;124;43mhello\u001b[39;49m\u001b[38;5;124;43m'\u001b[39;49m\u001b[43m]\u001b[49m\u001b[38;5;241;43m*\u001b[39;49m\u001b[38;5;241;43m*\u001b[39;49m\u001b[38;5;241;43m12\u001b[39;49m\n",
      "\u001b[1;31mTypeError\u001b[0m: unsupported operand type(s) for ** or pow(): 'list' and 'int'"
     ]
    }
   ],
   "source": [
    "[1, 'hello']**12"
   ]
  },
  {
   "cell_type": "code",
   "execution_count": 12,
   "id": "3e6c33df",
   "metadata": {},
   "outputs": [
    {
     "ename": "TypeError",
     "evalue": "can't multiply sequence by non-int of type 'str'",
     "output_type": "error",
     "traceback": [
      "\u001b[1;31m---------------------------------------------------------------------------\u001b[0m",
      "\u001b[1;31mTypeError\u001b[0m                                 Traceback (most recent call last)",
      "Cell \u001b[1;32mIn[12], line 1\u001b[0m\n\u001b[1;32m----> 1\u001b[0m \u001b[43m[\u001b[49m\u001b[38;5;241;43m1\u001b[39;49m\u001b[43m,\u001b[49m\u001b[43m \u001b[49m\u001b[38;5;124;43m'\u001b[39;49m\u001b[38;5;124;43mhello\u001b[39;49m\u001b[38;5;124;43m'\u001b[39;49m\u001b[43m]\u001b[49m\u001b[38;5;241;43m*\u001b[39;49m\u001b[38;5;124;43m'\u001b[39;49m\u001b[38;5;124;43mhello\u001b[39;49m\u001b[38;5;124;43m'\u001b[39;49m\n",
      "\u001b[1;31mTypeError\u001b[0m: can't multiply sequence by non-int of type 'str'"
     ]
    }
   ],
   "source": [
    "[1, 'hello']*'hello'"
   ]
  },
  {
   "cell_type": "code",
   "execution_count": 13,
   "id": "42526630",
   "metadata": {},
   "outputs": [
    {
     "ename": "TypeError",
     "evalue": "can't multiply sequence by non-int of type 'tuple'",
     "output_type": "error",
     "traceback": [
      "\u001b[1;31m---------------------------------------------------------------------------\u001b[0m",
      "\u001b[1;31mTypeError\u001b[0m                                 Traceback (most recent call last)",
      "Cell \u001b[1;32mIn[13], line 1\u001b[0m\n\u001b[1;32m----> 1\u001b[0m \u001b[43m[\u001b[49m\u001b[38;5;241;43m1\u001b[39;49m\u001b[43m,\u001b[49m\u001b[43m \u001b[49m\u001b[38;5;124;43m'\u001b[39;49m\u001b[38;5;124;43mhello\u001b[39;49m\u001b[38;5;124;43m'\u001b[39;49m\u001b[43m]\u001b[49m\u001b[38;5;241;43m*\u001b[39;49m\u001b[43m(\u001b[49m\u001b[38;5;241;43m12\u001b[39;49m\u001b[43m,\u001b[49m\u001b[38;5;241;43m23\u001b[39;49m\u001b[43m)\u001b[49m\n",
      "\u001b[1;31mTypeError\u001b[0m: can't multiply sequence by non-int of type 'tuple'"
     ]
    }
   ],
   "source": [
    "[1, 'hello']*(12,23)"
   ]
  },
  {
   "cell_type": "code",
   "execution_count": 14,
   "id": "1c70cd16",
   "metadata": {},
   "outputs": [
    {
     "ename": "TypeError",
     "evalue": "'>' not supported between instances of 'str' and 'int'",
     "output_type": "error",
     "traceback": [
      "\u001b[1;31m---------------------------------------------------------------------------\u001b[0m",
      "\u001b[1;31mTypeError\u001b[0m                                 Traceback (most recent call last)",
      "Cell \u001b[1;32mIn[14], line 1\u001b[0m\n\u001b[1;32m----> 1\u001b[0m \u001b[38;5;124;43m'\u001b[39;49m\u001b[38;5;124;43mhello\u001b[39;49m\u001b[38;5;124;43m'\u001b[39;49m\u001b[38;5;241;43m>\u001b[39;49m\u001b[38;5;241;43m44\u001b[39;49m\n",
      "\u001b[1;31mTypeError\u001b[0m: '>' not supported between instances of 'str' and 'int'"
     ]
    }
   ],
   "source": [
    "'hello'>44"
   ]
  },
  {
   "cell_type": "code",
   "execution_count": 15,
   "id": "db05e213",
   "metadata": {},
   "outputs": [
    {
     "data": {
      "text/plain": [
       "False"
      ]
     },
     "execution_count": 15,
     "metadata": {},
     "output_type": "execute_result"
    }
   ],
   "source": [
    "12>44"
   ]
  },
  {
   "cell_type": "code",
   "execution_count": 16,
   "id": "d7e915fd",
   "metadata": {},
   "outputs": [
    {
     "data": {
      "text/plain": [
       "True"
      ]
     },
     "execution_count": 16,
     "metadata": {},
     "output_type": "execute_result"
    }
   ],
   "source": [
    "12!=34"
   ]
  },
  {
   "cell_type": "code",
   "execution_count": 17,
   "id": "a0b04adb",
   "metadata": {},
   "outputs": [
    {
     "data": {
      "text/plain": [
       "False"
      ]
     },
     "execution_count": 17,
     "metadata": {},
     "output_type": "execute_result"
    }
   ],
   "source": [
    "12!=12"
   ]
  },
  {
   "cell_type": "code",
   "execution_count": 18,
   "id": "52f25fc4",
   "metadata": {},
   "outputs": [
    {
     "data": {
      "text/plain": [
       "True"
      ]
     },
     "execution_count": 18,
     "metadata": {},
     "output_type": "execute_result"
    }
   ],
   "source": [
    "12==12"
   ]
  },
  {
   "cell_type": "code",
   "execution_count": 19,
   "id": "cfe22679",
   "metadata": {},
   "outputs": [
    {
     "data": {
      "text/plain": [
       "False"
      ]
     },
     "execution_count": 19,
     "metadata": {},
     "output_type": "execute_result"
    }
   ],
   "source": [
    "12==14"
   ]
  },
  {
   "cell_type": "code",
   "execution_count": 20,
   "id": "2f46c7a4",
   "metadata": {},
   "outputs": [
    {
     "data": {
      "text/plain": [
       "(-34.2+6j)"
      ]
     },
     "execution_count": 20,
     "metadata": {},
     "output_type": "execute_result"
    }
   ],
   "source": [
    "6j-34.2"
   ]
  },
  {
   "cell_type": "code",
   "execution_count": 21,
   "id": "c8457d7d",
   "metadata": {},
   "outputs": [
    {
     "ename": "TypeError",
     "evalue": "unsupported operand type(s) for +: 'set' and 'float'",
     "output_type": "error",
     "traceback": [
      "\u001b[1;31m---------------------------------------------------------------------------\u001b[0m",
      "\u001b[1;31mTypeError\u001b[0m                                 Traceback (most recent call last)",
      "Cell \u001b[1;32mIn[21], line 1\u001b[0m\n\u001b[1;32m----> 1\u001b[0m \u001b[43m{\u001b[49m\u001b[38;5;241;43m1\u001b[39;49m\u001b[43m,\u001b[49m\u001b[38;5;241;43m2\u001b[39;49m\u001b[43m,\u001b[49m\u001b[38;5;241;43m3\u001b[39;49m\u001b[43m}\u001b[49m\u001b[38;5;241;43m+\u001b[39;49m\u001b[43m(\u001b[49m\u001b[38;5;241;43m12.34\u001b[39;49m\u001b[43m)\u001b[49m\n",
      "\u001b[1;31mTypeError\u001b[0m: unsupported operand type(s) for +: 'set' and 'float'"
     ]
    }
   ],
   "source": [
    "# 집합 + 실수는 연산 불가\n",
    "{1,2,3}+(12.34)"
   ]
  },
  {
   "cell_type": "code",
   "execution_count": 23,
   "id": "e9557ba1",
   "metadata": {},
   "outputs": [
    {
     "ename": "TypeError",
     "evalue": "unsupported operand type(s) for -: 'set' and 'list'",
     "output_type": "error",
     "traceback": [
      "\u001b[1;31m---------------------------------------------------------------------------\u001b[0m",
      "\u001b[1;31mTypeError\u001b[0m                                 Traceback (most recent call last)",
      "Cell \u001b[1;32mIn[23], line 2\u001b[0m\n\u001b[0;32m      1\u001b[0m \u001b[38;5;66;03m# 집합 - 실수는 연산 불가\u001b[39;00m\n\u001b[1;32m----> 2\u001b[0m \u001b[43m{\u001b[49m\u001b[38;5;241;43m1\u001b[39;49m\u001b[43m,\u001b[49m\u001b[38;5;241;43m2\u001b[39;49m\u001b[43m,\u001b[49m\u001b[38;5;241;43m3\u001b[39;49m\u001b[43m}\u001b[49m\u001b[38;5;241;43m-\u001b[39;49m\u001b[43m[\u001b[49m\u001b[38;5;241;43m123\u001b[39;49m\u001b[43m]\u001b[49m\n",
      "\u001b[1;31mTypeError\u001b[0m: unsupported operand type(s) for -: 'set' and 'list'"
     ]
    }
   ],
   "source": [
    "# 집합 - 리스트는 연산 불가\n",
    "{1,2,3}-[123]"
   ]
  },
  {
   "cell_type": "code",
   "execution_count": 46,
   "id": "1a0b0d05",
   "metadata": {},
   "outputs": [
    {
     "ename": "TypeError",
     "evalue": "unsupported operand type(s) for +: 'set' and 'str'",
     "output_type": "error",
     "traceback": [
      "\u001b[1;31m---------------------------------------------------------------------------\u001b[0m",
      "\u001b[1;31mTypeError\u001b[0m                                 Traceback (most recent call last)",
      "Cell \u001b[1;32mIn[46], line 1\u001b[0m\n\u001b[1;32m----> 1\u001b[0m {\u001b[38;5;241m1\u001b[39m,\u001b[38;5;241m2\u001b[39m,\u001b[38;5;241m3\u001b[39m}\u001b[38;5;241m+\u001b[39m\u001b[38;5;124m'\u001b[39m\u001b[38;5;124m1\u001b[39m\u001b[38;5;124m'\u001b[39m\n",
      "\u001b[1;31mTypeError\u001b[0m: unsupported operand type(s) for +: 'set' and 'str'"
     ]
    }
   ],
   "source": [
    "# 집합 - 문자열은 연산 불가\n",
    "{1,2,3}+'1'"
   ]
  },
  {
   "cell_type": "code",
   "execution_count": 26,
   "id": "2363ed24",
   "metadata": {},
   "outputs": [
    {
     "ename": "TypeError",
     "evalue": "unsupported operand type(s) for +: 'set' and 'int'",
     "output_type": "error",
     "traceback": [
      "\u001b[1;31m---------------------------------------------------------------------------\u001b[0m",
      "\u001b[1;31mTypeError\u001b[0m                                 Traceback (most recent call last)",
      "Cell \u001b[1;32mIn[26], line 2\u001b[0m\n\u001b[0;32m      1\u001b[0m \u001b[38;5;66;03m# 집합 + 정수는 연산 불가\u001b[39;00m\n\u001b[1;32m----> 2\u001b[0m \u001b[43m{\u001b[49m\u001b[38;5;241;43m1\u001b[39;49m\u001b[43m,\u001b[49m\u001b[38;5;241;43m2\u001b[39;49m\u001b[43m,\u001b[49m\u001b[38;5;241;43m3\u001b[39;49m\u001b[43m}\u001b[49m\u001b[38;5;241;43m+\u001b[39;49m\u001b[38;5;241;43m123\u001b[39;49m\n",
      "\u001b[1;31mTypeError\u001b[0m: unsupported operand type(s) for +: 'set' and 'int'"
     ]
    }
   ],
   "source": [
    "# 집합 + 정수는 연산 불가\n",
    "{1,2,3}+123"
   ]
  },
  {
   "cell_type": "code",
   "execution_count": 25,
   "id": "63d10ca9",
   "metadata": {
    "scrolled": true
   },
   "outputs": [
    {
     "data": {
      "text/plain": [
       "246"
      ]
     },
     "execution_count": 25,
     "metadata": {},
     "output_type": "execute_result"
    }
   ],
   "source": [
    "(123)+123"
   ]
  },
  {
   "cell_type": "code",
   "execution_count": 53,
   "id": "4503a713",
   "metadata": {},
   "outputs": [
    {
     "data": {
      "text/plain": [
       "'hellohellohellohellohellohellohellohellohellohello'"
      ]
     },
     "execution_count": 53,
     "metadata": {},
     "output_type": "execute_result"
    }
   ],
   "source": [
    "'hello'*10"
   ]
  },
  {
   "cell_type": "markdown",
   "id": "1e2c2af1",
   "metadata": {},
   "source": [
    "# 변수 사용하기\n",
    "- 변수는 숫자 그 자체가 아님.\n",
    "- 변수는 할당된 값을 불러오기 위한 주소 개념"
   ]
  },
  {
   "cell_type": "code",
   "execution_count": 101,
   "id": "4db7ffe6",
   "metadata": {},
   "outputs": [],
   "source": [
    "a=[1,2,3]"
   ]
  },
  {
   "cell_type": "code",
   "execution_count": 102,
   "id": "94f034e7",
   "metadata": {},
   "outputs": [],
   "source": [
    "b=a"
   ]
  },
  {
   "cell_type": "code",
   "execution_count": 103,
   "id": "18a7a527",
   "metadata": {},
   "outputs": [],
   "source": [
    "a[1]=0"
   ]
  },
  {
   "cell_type": "code",
   "execution_count": 104,
   "id": "38efc6ce",
   "metadata": {},
   "outputs": [
    {
     "data": {
      "text/plain": [
       "[1, 0, 3]"
      ]
     },
     "execution_count": 104,
     "metadata": {},
     "output_type": "execute_result"
    }
   ],
   "source": [
    "a"
   ]
  },
  {
   "cell_type": "code",
   "execution_count": 105,
   "id": "f973d9fe",
   "metadata": {},
   "outputs": [
    {
     "data": {
      "text/plain": [
       "[1, 0, 3]"
      ]
     },
     "execution_count": 105,
     "metadata": {},
     "output_type": "execute_result"
    }
   ],
   "source": [
    "b"
   ]
  },
  {
   "cell_type": "code",
   "execution_count": 106,
   "id": "b5e73845",
   "metadata": {},
   "outputs": [],
   "source": [
    "a=b.copy()"
   ]
  },
  {
   "cell_type": "code",
   "execution_count": 107,
   "id": "d1531573",
   "metadata": {},
   "outputs": [
    {
     "data": {
      "text/plain": [
       "[1, 0, 3]"
      ]
     },
     "execution_count": 107,
     "metadata": {},
     "output_type": "execute_result"
    }
   ],
   "source": [
    "a"
   ]
  },
  {
   "cell_type": "code",
   "execution_count": 108,
   "id": "46e3949f",
   "metadata": {},
   "outputs": [
    {
     "data": {
      "text/plain": [
       "[1, 0, 3]"
      ]
     },
     "execution_count": 108,
     "metadata": {},
     "output_type": "execute_result"
    }
   ],
   "source": [
    "b"
   ]
  },
  {
   "cell_type": "code",
   "execution_count": 109,
   "id": "d49e3b34",
   "metadata": {},
   "outputs": [],
   "source": [
    "s=[a,b,c]"
   ]
  },
  {
   "cell_type": "code",
   "execution_count": 110,
   "id": "2d758c20",
   "metadata": {},
   "outputs": [],
   "source": [
    "d=s"
   ]
  },
  {
   "cell_type": "code",
   "execution_count": 111,
   "id": "f62a1b80",
   "metadata": {},
   "outputs": [],
   "source": [
    "s[1]=0"
   ]
  },
  {
   "cell_type": "code",
   "execution_count": 112,
   "id": "5fab177b",
   "metadata": {},
   "outputs": [
    {
     "data": {
      "text/plain": [
       "[[1, 0, 3], 0, [1, 2, 3]]"
      ]
     },
     "execution_count": 112,
     "metadata": {},
     "output_type": "execute_result"
    }
   ],
   "source": [
    "s"
   ]
  },
  {
   "cell_type": "code",
   "execution_count": 113,
   "id": "1386d77d",
   "metadata": {},
   "outputs": [
    {
     "data": {
      "text/plain": [
       "[[1, 0, 3], 0, [1, 2, 3]]"
      ]
     },
     "execution_count": 113,
     "metadata": {},
     "output_type": "execute_result"
    }
   ],
   "source": [
    "d"
   ]
  },
  {
   "cell_type": "code",
   "execution_count": 114,
   "id": "c3277993",
   "metadata": {},
   "outputs": [],
   "source": [
    "s=d.copy()"
   ]
  },
  {
   "cell_type": "code",
   "execution_count": 115,
   "id": "33568d3c",
   "metadata": {},
   "outputs": [
    {
     "data": {
      "text/plain": [
       "[[1, 0, 3], 0, [1, 2, 3]]"
      ]
     },
     "execution_count": 115,
     "metadata": {},
     "output_type": "execute_result"
    }
   ],
   "source": [
    "s"
   ]
  },
  {
   "cell_type": "code",
   "execution_count": 116,
   "id": "f67def6f",
   "metadata": {},
   "outputs": [
    {
     "data": {
      "text/plain": [
       "[[1, 0, 3], 0, [1, 2, 3]]"
      ]
     },
     "execution_count": 116,
     "metadata": {},
     "output_type": "execute_result"
    }
   ],
   "source": [
    "d"
   ]
  },
  {
   "cell_type": "code",
   "execution_count": 117,
   "id": "7292f951",
   "metadata": {},
   "outputs": [],
   "source": [
    "s[2]=5"
   ]
  },
  {
   "cell_type": "code",
   "execution_count": 118,
   "id": "4d3a9c09",
   "metadata": {},
   "outputs": [
    {
     "data": {
      "text/plain": [
       "[[1, 0, 3], 0, 5]"
      ]
     },
     "execution_count": 118,
     "metadata": {},
     "output_type": "execute_result"
    }
   ],
   "source": [
    "s"
   ]
  },
  {
   "cell_type": "code",
   "execution_count": 119,
   "id": "31f006ef",
   "metadata": {},
   "outputs": [
    {
     "data": {
      "text/plain": [
       "[[1, 0, 3], 0, [1, 2, 3]]"
      ]
     },
     "execution_count": 119,
     "metadata": {},
     "output_type": "execute_result"
    }
   ],
   "source": [
    "d"
   ]
  },
  {
   "cell_type": "markdown",
   "id": "00103aaf",
   "metadata": {},
   "source": [
    "# 파이썬 내장 함수\n",
    "- join: 두 문자열을 구분자 중심 합침.\n",
    "- split: 문자열을 구분자 기준으로 나눔.\n",
    "- strip: 문자열 좌우에 대상 문자열이 있을 경우, 지움.\n",
    "- lstrip: strip 함수를 왼쪽만 실행.\n",
    "- rstrip: strip 함수를 오른쪽만 실행.\n",
    "- replace: 특정 문자 대체"
   ]
  },
  {
   "cell_type": "code",
   "execution_count": 138,
   "id": "ee32634e",
   "metadata": {},
   "outputs": [
    {
     "data": {
      "text/plain": [
       "['rabbit', 'banana']"
      ]
     },
     "execution_count": 138,
     "metadata": {},
     "output_type": "execute_result"
    }
   ],
   "source": [
    "'rabbit and banana'.split(' and ')"
   ]
  },
  {
   "cell_type": "code",
   "execution_count": 133,
   "id": "3e164271",
   "metadata": {},
   "outputs": [
    {
     "data": {
      "text/plain": [
       "'rabbit-banana'"
      ]
     },
     "execution_count": 133,
     "metadata": {},
     "output_type": "execute_result"
    }
   ],
   "source": [
    "'-'.join(['rabbit','banana'])"
   ]
  },
  {
   "cell_type": "code",
   "execution_count": 135,
   "id": "dfde05d6",
   "metadata": {},
   "outputs": [
    {
     "data": {
      "text/plain": [
       "'Red apple'"
      ]
     },
     "execution_count": 135,
     "metadata": {},
     "output_type": "execute_result"
    }
   ],
   "source": [
    "'red apple'.replace('red','Red')"
   ]
  },
  {
   "cell_type": "code",
   "execution_count": 136,
   "id": "f081677d",
   "metadata": {},
   "outputs": [
    {
     "data": {
      "text/plain": [
       "'rabbit AND banana'"
      ]
     },
     "execution_count": 136,
     "metadata": {},
     "output_type": "execute_result"
    }
   ],
   "source": [
    "'rabbit and banana'.replace('and', 'AND')"
   ]
  },
  {
   "cell_type": "code",
   "execution_count": 157,
   "id": "9424f254",
   "metadata": {},
   "outputs": [
    {
     "data": {
      "text/plain": [
       "'rabb1 and banana'"
      ]
     },
     "execution_count": 157,
     "metadata": {},
     "output_type": "execute_result"
    }
   ],
   "source": [
    "'rabbit and banana'.replace('it', '1')"
   ]
  },
  {
   "cell_type": "code",
   "execution_count": 143,
   "id": "7ba009b5",
   "metadata": {},
   "outputs": [
    {
     "data": {
      "text/plain": [
       "'HELLOxoxoxo'"
      ]
     },
     "execution_count": 143,
     "metadata": {},
     "output_type": "execute_result"
    }
   ],
   "source": [
    "'xoxoxoHELLOxoxoxo'.lstrip('xo')"
   ]
  },
  {
   "cell_type": "code",
   "execution_count": 181,
   "id": "66c3b17c",
   "metadata": {},
   "outputs": [
    {
     "data": {
      "text/plain": [
       "'HELLO'"
      ]
     },
     "execution_count": 181,
     "metadata": {},
     "output_type": "execute_result"
    }
   ],
   "source": [
    "'x1oxoxoHExoxoxoLLOxoxoxo'.replace('xo','').replace('x1o','')"
   ]
  },
  {
   "cell_type": "code",
   "execution_count": 184,
   "id": "e27819b4",
   "metadata": {},
   "outputs": [
    {
     "data": {
      "text/plain": [
       "'HELLO'"
      ]
     },
     "execution_count": 184,
     "metadata": {},
     "output_type": "execute_result"
    }
   ],
   "source": [
    "'x1oxoxoHExoxoxoLLOxoxoxo'.strip('x1o').replace('xo','')"
   ]
  },
  {
   "cell_type": "code",
   "execution_count": 27,
   "id": "a2148f40",
   "metadata": {},
   "outputs": [
    {
     "ename": "ZeroDivisionError",
     "evalue": "division by zero",
     "output_type": "error",
     "traceback": [
      "\u001b[1;31m---------------------------------------------------------------------------\u001b[0m",
      "\u001b[1;31mZeroDivisionError\u001b[0m                         Traceback (most recent call last)",
      "Cell \u001b[1;32mIn[27], line 1\u001b[0m\n\u001b[1;32m----> 1\u001b[0m \u001b[38;5;241;43m123\u001b[39;49m\u001b[38;5;241;43m/\u001b[39;49m\u001b[38;5;241;43m0\u001b[39;49m\n",
      "\u001b[1;31mZeroDivisionError\u001b[0m: division by zero"
     ]
    }
   ],
   "source": [
    "# 0과의 나누기는 안됨.\n",
    "123/0"
   ]
  },
  {
   "cell_type": "code",
   "execution_count": 190,
   "id": "bb1e60f0",
   "metadata": {},
   "outputs": [
    {
     "ename": "SyntaxError",
     "evalue": "invalid syntax (782626641.py, line 1)",
     "output_type": "error",
     "traceback": [
      "\u001b[1;36m  Cell \u001b[1;32mIn[190], line 1\u001b[1;36m\u001b[0m\n\u001b[1;33m    '123'456'789'\u001b[0m\n\u001b[1;37m         ^\u001b[0m\n\u001b[1;31mSyntaxError\u001b[0m\u001b[1;31m:\u001b[0m invalid syntax\n"
     ]
    }
   ],
   "source": [
    "'123'456'789'"
   ]
  },
  {
   "cell_type": "code",
   "execution_count": 199,
   "id": "6efd92fc",
   "metadata": {},
   "outputs": [
    {
     "ename": "NameError",
     "evalue": "name 'hello' is not defined",
     "output_type": "error",
     "traceback": [
      "\u001b[1;31m---------------------------------------------------------------------------\u001b[0m",
      "\u001b[1;31mNameError\u001b[0m                                 Traceback (most recent call last)",
      "Cell \u001b[1;32mIn[199], line 1\u001b[0m\n\u001b[1;32m----> 1\u001b[0m \u001b[38;5;28mprint\u001b[39m(hello, python)\n",
      "\u001b[1;31mNameError\u001b[0m: name 'hello' is not defined"
     ]
    }
   ],
   "source": [
    "print(hello, python)"
   ]
  },
  {
   "cell_type": "code",
   "execution_count": 200,
   "id": "ee353a69",
   "metadata": {},
   "outputs": [
    {
     "name": "stdout",
     "output_type": "stream",
     "text": [
      "hello, python\n"
     ]
    }
   ],
   "source": [
    "print('hello, python')"
   ]
  },
  {
   "cell_type": "code",
   "execution_count": 202,
   "id": "340092bf",
   "metadata": {},
   "outputs": [
    {
     "name": "stdout",
     "output_type": "stream",
     "text": [
      "hello, python\n"
     ]
    }
   ],
   "source": [
    "print('hello, python')"
   ]
  },
  {
   "cell_type": "markdown",
   "id": "5f10a156",
   "metadata": {},
   "source": [
    "# Try-Except 구문"
   ]
  },
  {
   "cell_type": "code",
   "execution_count": 208,
   "id": "16b373c9",
   "metadata": {},
   "outputs": [
    {
     "name": "stdout",
     "output_type": "stream",
     "text": [
      "!inf\n"
     ]
    }
   ],
   "source": [
    "try:\n",
    "    print(123/0)\n",
    "    \n",
    "except:\n",
    "   print('!inf') "
   ]
  },
  {
   "cell_type": "code",
   "execution_count": 209,
   "id": "1c427e22",
   "metadata": {
    "scrolled": true
   },
   "outputs": [
    {
     "name": "stdout",
     "output_type": "stream",
     "text": [
      "246.0\n"
     ]
    }
   ],
   "source": [
    "try:\n",
    "    print(123/0.5)\n",
    "    \n",
    "except:\n",
    "   print('!inf') "
   ]
  },
  {
   "cell_type": "markdown",
   "id": "8724de81",
   "metadata": {},
   "source": [
    "# 정규 표현식\n",
    "- \\d [0-9] : 십진 숫자\n",
    "- \\D [^0-9] : 비 숫자 문자\n",
    "- \\s [ \\t\\n\\r\\f\\v] : 공백문자\n",
    "- \\S [^ \\t\\n\\r\\f\\v] : 비 공백문자\n",
    "- \\w [a-zA-Z0-9_] : 영숫자\n",
    "- \\W [^a-zA-Z0-9_] : 비 영숫자\n",
    "- [가-힣] : 한글"
   ]
  },
  {
   "cell_type": "markdown",
   "id": "455a90ea",
   "metadata": {},
   "source": [
    "## re 패키지\n",
    "- match(): 문자열 시작 부분 일치 판단\n",
    "- search(): 일치 문자 검색\n",
    "- findall(): 일치 문자 리스트로 반환\n",
    "- finditer(): 일치 문자 이터레이터로 반환"
   ]
  },
  {
   "cell_type": "code",
   "execution_count": 210,
   "id": "f00a6fef",
   "metadata": {},
   "outputs": [],
   "source": [
    "import re"
   ]
  },
  {
   "cell_type": "code",
   "execution_count": 213,
   "id": "ed5df987",
   "metadata": {},
   "outputs": [
    {
     "data": {
      "text/plain": [
       "<re.Match object; span=(0, 1), match='H'>"
      ]
     },
     "execution_count": 213,
     "metadata": {},
     "output_type": "execute_result"
    }
   ],
   "source": [
    "re.match('H', 'HELLO123&&*')"
   ]
  },
  {
   "cell_type": "code",
   "execution_count": 214,
   "id": "6f06aeb5",
   "metadata": {},
   "outputs": [
    {
     "data": {
      "text/plain": [
       "<re.Match object; span=(2, 3), match='L'>"
      ]
     },
     "execution_count": 214,
     "metadata": {},
     "output_type": "execute_result"
    }
   ],
   "source": [
    "re.search('L', 'HELLO123&&*')"
   ]
  },
  {
   "cell_type": "code",
   "execution_count": 215,
   "id": "8c57ab48",
   "metadata": {},
   "outputs": [
    {
     "data": {
      "text/plain": [
       "['&', '&']"
      ]
     },
     "execution_count": 215,
     "metadata": {},
     "output_type": "execute_result"
    }
   ],
   "source": [
    "re.findall('&', 'HELLO123&&*')"
   ]
  },
  {
   "cell_type": "code",
   "execution_count": 216,
   "id": "0a02578d",
   "metadata": {},
   "outputs": [
    {
     "data": {
      "text/plain": [
       "'hello~ 123456python'"
      ]
     },
     "execution_count": 216,
     "metadata": {},
     "output_type": "execute_result"
    }
   ],
   "source": [
    "re.sub('000000','123456','hello~ 000000python')"
   ]
  },
  {
   "cell_type": "code",
   "execution_count": 219,
   "id": "3f24f59c",
   "metadata": {},
   "outputs": [
    {
     "data": {
      "text/plain": [
       "'hello~ 123456python'"
      ]
     },
     "execution_count": 219,
     "metadata": {},
     "output_type": "execute_result"
    }
   ],
   "source": [
    "re.sub('456789','123456','hello~ 456789python')"
   ]
  },
  {
   "cell_type": "code",
   "execution_count": 222,
   "id": "52cf1ccb",
   "metadata": {},
   "outputs": [
    {
     "data": {
      "text/plain": [
       "['123', '123']"
      ]
     },
     "execution_count": 222,
     "metadata": {},
     "output_type": "execute_result"
    }
   ],
   "source": [
    "re.findall('123','hello~ 123-123python')"
   ]
  },
  {
   "cell_type": "code",
   "execution_count": 240,
   "id": "c0360b83",
   "metadata": {},
   "outputs": [
    {
     "data": {
      "text/plain": [
       "['1', '2', '3', '1', '2', '3']"
      ]
     },
     "execution_count": 240,
     "metadata": {},
     "output_type": "execute_result"
    }
   ],
   "source": [
    "re.findall('\\d', 'hello~123-123python')"
   ]
  },
  {
   "cell_type": "code",
   "execution_count": 258,
   "id": "daccfc57",
   "metadata": {},
   "outputs": [],
   "source": [
    "str1='hello~ 000000python'"
   ]
  },
  {
   "cell_type": "code",
   "execution_count": 262,
   "id": "88d5025a",
   "metadata": {},
   "outputs": [
    {
     "data": {
      "text/plain": [
       "'hello~ 123456python'"
      ]
     },
     "execution_count": 262,
     "metadata": {},
     "output_type": "execute_result"
    }
   ],
   "source": [
    "re.sub('\\d\\d\\d\\d\\d\\d', '123456', str1)"
   ]
  },
  {
   "cell_type": "code",
   "execution_count": 264,
   "id": "3ec2c9e4",
   "metadata": {},
   "outputs": [
    {
     "data": {
      "text/plain": [
       "'hello~ 456789python'"
      ]
     },
     "execution_count": 264,
     "metadata": {},
     "output_type": "execute_result"
    }
   ],
   "source": [
    "re.sub('\\d\\d\\d\\d\\d\\d', '456789', str1)"
   ]
  },
  {
   "cell_type": "code",
   "execution_count": 266,
   "id": "22a697aa",
   "metadata": {},
   "outputs": [],
   "source": [
    "str3='hello~ 123-456python'"
   ]
  },
  {
   "cell_type": "code",
   "execution_count": 267,
   "id": "c3278aa5",
   "metadata": {},
   "outputs": [
    {
     "data": {
      "text/plain": [
       "['123', '456']"
      ]
     },
     "execution_count": 267,
     "metadata": {},
     "output_type": "execute_result"
    }
   ],
   "source": [
    "re.findall('\\d\\d\\d', str3)"
   ]
  },
  {
   "cell_type": "code",
   "execution_count": 270,
   "id": "94665e3c",
   "metadata": {},
   "outputs": [
    {
     "data": {
      "text/plain": [
       "'hello~a00000python'"
      ]
     },
     "execution_count": 270,
     "metadata": {},
     "output_type": "execute_result"
    }
   ],
   "source": [
    "re.sub('\\ \\d', 'a', str1)"
   ]
  },
  {
   "cell_type": "markdown",
   "id": "a31e2d80",
   "metadata": {},
   "source": [
    "# 개행문자"
   ]
  },
  {
   "cell_type": "code",
   "execution_count": 271,
   "id": "2ff6cf31",
   "metadata": {},
   "outputs": [
    {
     "name": "stdout",
     "output_type": "stream",
     "text": [
      "안녕\n",
      "하세요\n"
     ]
    }
   ],
   "source": [
    "print('안녕\\n하세요')"
   ]
  },
  {
   "cell_type": "code",
   "execution_count": 272,
   "id": "7e8980dd",
   "metadata": {},
   "outputs": [
    {
     "name": "stdout",
     "output_type": "stream",
     "text": [
      "안녕\n",
      "하세요\n"
     ]
    }
   ],
   "source": [
    "print('''안녕\n",
    "하세요''')"
   ]
  },
  {
   "cell_type": "code",
   "execution_count": 278,
   "id": "024118f3",
   "metadata": {},
   "outputs": [
    {
     "name": "stdout",
     "output_type": "stream",
     "text": [
      "안녕\n",
      "하세요\r\n",
      "여러분\n"
     ]
    }
   ],
   "source": [
    "print('안녕\\n하세요\\r여러분')"
   ]
  },
  {
   "cell_type": "code",
   "execution_count": 280,
   "id": "0c3706ff",
   "metadata": {},
   "outputs": [
    {
     "name": "stdout",
     "output_type": "stream",
     "text": [
      "파이썬\t이스케이프\t문자\t실습\n"
     ]
    }
   ],
   "source": [
    "print('파이썬\\t이스케이프\\t문자\\t실습')"
   ]
  },
  {
   "cell_type": "code",
   "execution_count": 281,
   "id": "c8a7217b",
   "metadata": {},
   "outputs": [
    {
     "name": "stdout",
     "output_type": "stream",
     "text": [
      "파이썬\n",
      "이스케\n",
      "이프문\n",
      "자실습\n"
     ]
    }
   ],
   "source": [
    "print('파이썬\\n이스케\\n이프문\\n자실습')"
   ]
  },
  {
   "cell_type": "code",
   "execution_count": 282,
   "id": "0ba5ee30",
   "metadata": {
    "scrolled": true
   },
   "outputs": [
    {
     "name": "stdout",
     "output_type": "stream",
     "text": [
      "파이썬\n",
      "이스케\n",
      "이프문\n",
      "자실습\n"
     ]
    }
   ],
   "source": [
    "print('''파이썬\n",
    "이스케\n",
    "이프문\n",
    "자실습''')"
   ]
  },
  {
   "cell_type": "code",
   "execution_count": 283,
   "id": "edb4f5f4",
   "metadata": {},
   "outputs": [],
   "source": [
    "txt='파이썬오늘은\\t문자열을\\t배웠고,\\t그\\t지식을\\t이용해서\\t문자열\\t수정을\\t해\\t봅시다.\\n파이썬'"
   ]
  },
  {
   "cell_type": "code",
   "execution_count": 285,
   "id": "fecc1ff3",
   "metadata": {},
   "outputs": [
    {
     "name": "stdout",
     "output_type": "stream",
     "text": [
      "파이썬오늘은\t문자열을\t배웠고,\t그\t지식을\t이용해서\t문자열\t수정을\t해\t봅시다.\n",
      "파이썬\n"
     ]
    }
   ],
   "source": [
    "print(txt)"
   ]
  },
  {
   "cell_type": "code",
   "execution_count": 356,
   "id": "8ecdc9f3",
   "metadata": {},
   "outputs": [
    {
     "name": "stdout",
     "output_type": "stream",
     "text": [
      "파이썬오늘은\t문자열을\t배웠고,\n",
      "\t그\t지식을\t이용해서\t문자열\t수정을\t해\t봅시다.\n",
      "파이썬\n"
     ]
    }
   ],
   "source": [
    "print('파이썬오늘은\\t문자열을\\t배웠고,\\n\\t그\\t지식을\\t이용해서\\t문자열\\t수정을\\t해\\t봅시다.\\n파이썬')"
   ]
  },
  {
   "cell_type": "code",
   "execution_count": 381,
   "id": "fb0c7527",
   "metadata": {
    "scrolled": true
   },
   "outputs": [],
   "source": [
    "txt3='파이썬\\r오늘은\\t문자열을\\t배웠고,\\t그\\t지식을\\t이용해서\\t문자열\\t수정을\\t해\\t봅시다.\\n파\\b이\\b썬\\b'"
   ]
  },
  {
   "cell_type": "code",
   "execution_count": 382,
   "id": "d2936aa7",
   "metadata": {},
   "outputs": [
    {
     "name": "stdout",
     "output_type": "stream",
     "text": [
      "파이썬\r\n",
      "오늘은\t문자열을\t배웠고,\t그\t지식을\t이용해서\t문자열\t수정을\t해\t봅시다.\n",
      "파\b이\b썬\b\n"
     ]
    }
   ],
   "source": [
    "print(txt3)"
   ]
  },
  {
   "cell_type": "code",
   "execution_count": 383,
   "id": "be477196",
   "metadata": {},
   "outputs": [],
   "source": [
    "txt2='파이썬오늘은\\t문자열을\\t배웠고,\\t\\n그\\t지식을\\t이용해서\\t문자열\\t수정을\\t해\\t봅시다.\\n파이썬'"
   ]
  },
  {
   "cell_type": "code",
   "execution_count": 384,
   "id": "f5fc3210",
   "metadata": {
    "scrolled": true
   },
   "outputs": [
    {
     "name": "stdout",
     "output_type": "stream",
     "text": [
      "오늘은% 문자열을% 배웠고,% \n",
      "그% 지식을% 이용해서% 문자열% 수정을% 해% 봅시다.\n",
      "\n"
     ]
    }
   ],
   "source": [
    "print(txt2.replace('\\t', '% ').replace('파이썬',''))"
   ]
  },
  {
   "cell_type": "markdown",
   "id": "83c4720a",
   "metadata": {},
   "source": [
    "## 어려웠던 부분 복습"
   ]
  },
  {
   "cell_type": "code",
   "execution_count": 385,
   "id": "1840e540",
   "metadata": {},
   "outputs": [],
   "source": [
    "a=[1,2,3]"
   ]
  },
  {
   "cell_type": "code",
   "execution_count": 386,
   "id": "e2689d64",
   "metadata": {},
   "outputs": [],
   "source": [
    "b=a"
   ]
  },
  {
   "cell_type": "code",
   "execution_count": 387,
   "id": "e595ee6f",
   "metadata": {},
   "outputs": [],
   "source": [
    "a[0]='g'"
   ]
  },
  {
   "cell_type": "code",
   "execution_count": 388,
   "id": "5b917e47",
   "metadata": {},
   "outputs": [
    {
     "data": {
      "text/plain": [
       "['g', 2, 3]"
      ]
     },
     "execution_count": 388,
     "metadata": {},
     "output_type": "execute_result"
    }
   ],
   "source": [
    "a"
   ]
  },
  {
   "cell_type": "code",
   "execution_count": 389,
   "id": "2e487eb8",
   "metadata": {},
   "outputs": [
    {
     "data": {
      "text/plain": [
       "['g', 2, 3]"
      ]
     },
     "execution_count": 389,
     "metadata": {},
     "output_type": "execute_result"
    }
   ],
   "source": [
    "b"
   ]
  },
  {
   "cell_type": "code",
   "execution_count": 390,
   "id": "83491b6e",
   "metadata": {},
   "outputs": [],
   "source": [
    "b=a.copy()"
   ]
  },
  {
   "cell_type": "code",
   "execution_count": 391,
   "id": "36fd15e3",
   "metadata": {},
   "outputs": [],
   "source": [
    "a[0]=100"
   ]
  },
  {
   "cell_type": "code",
   "execution_count": 392,
   "id": "779f5cea",
   "metadata": {},
   "outputs": [
    {
     "data": {
      "text/plain": [
       "[100, 2, 3]"
      ]
     },
     "execution_count": 392,
     "metadata": {},
     "output_type": "execute_result"
    }
   ],
   "source": [
    "a"
   ]
  },
  {
   "cell_type": "code",
   "execution_count": 393,
   "id": "289c56be",
   "metadata": {},
   "outputs": [
    {
     "data": {
      "text/plain": [
       "['g', 2, 3]"
      ]
     },
     "execution_count": 393,
     "metadata": {},
     "output_type": "execute_result"
    }
   ],
   "source": [
    "b"
   ]
  },
  {
   "cell_type": "code",
   "execution_count": 398,
   "id": "2d1d35cd",
   "metadata": {},
   "outputs": [],
   "source": [
    "A=['Z','X','C']"
   ]
  },
  {
   "cell_type": "code",
   "execution_count": 399,
   "id": "9d5832fd",
   "metadata": {},
   "outputs": [],
   "source": [
    "B=A"
   ]
  },
  {
   "cell_type": "code",
   "execution_count": 400,
   "id": "975081f7",
   "metadata": {},
   "outputs": [],
   "source": [
    "A[0]='H'"
   ]
  },
  {
   "cell_type": "code",
   "execution_count": 401,
   "id": "f585e35a",
   "metadata": {},
   "outputs": [
    {
     "data": {
      "text/plain": [
       "['H', 'X', 'C']"
      ]
     },
     "execution_count": 401,
     "metadata": {},
     "output_type": "execute_result"
    }
   ],
   "source": [
    "A"
   ]
  },
  {
   "cell_type": "code",
   "execution_count": 402,
   "id": "3f3d2f11",
   "metadata": {},
   "outputs": [
    {
     "data": {
      "text/plain": [
       "['H', 'X', 'C']"
      ]
     },
     "execution_count": 402,
     "metadata": {},
     "output_type": "execute_result"
    }
   ],
   "source": [
    "B"
   ]
  },
  {
   "cell_type": "code",
   "execution_count": 403,
   "id": "e0e4b692",
   "metadata": {},
   "outputs": [],
   "source": [
    "B=A.copy()"
   ]
  },
  {
   "cell_type": "code",
   "execution_count": 407,
   "id": "e7b15ff2",
   "metadata": {},
   "outputs": [],
   "source": [
    "A[0]='G'"
   ]
  },
  {
   "cell_type": "code",
   "execution_count": 408,
   "id": "2a46bd88",
   "metadata": {},
   "outputs": [
    {
     "data": {
      "text/plain": [
       "['G', 'X', 'C']"
      ]
     },
     "execution_count": 408,
     "metadata": {},
     "output_type": "execute_result"
    }
   ],
   "source": [
    "A"
   ]
  },
  {
   "cell_type": "code",
   "execution_count": 435,
   "id": "105eed28",
   "metadata": {},
   "outputs": [
    {
     "data": {
      "text/plain": [
       "['H', 'X', 'C']"
      ]
     },
     "execution_count": 435,
     "metadata": {},
     "output_type": "execute_result"
    }
   ],
   "source": [
    "B"
   ]
  },
  {
   "cell_type": "code",
   "execution_count": 416,
   "id": "31abc0f2",
   "metadata": {},
   "outputs": [],
   "source": [
    "a=[4,5,6]"
   ]
  },
  {
   "cell_type": "code",
   "execution_count": 417,
   "id": "79a883c3",
   "metadata": {},
   "outputs": [],
   "source": [
    "b=a"
   ]
  },
  {
   "cell_type": "code",
   "execution_count": 418,
   "id": "b188b874",
   "metadata": {},
   "outputs": [],
   "source": [
    "a[1]=200"
   ]
  },
  {
   "cell_type": "code",
   "execution_count": 419,
   "id": "11e4ca63",
   "metadata": {},
   "outputs": [
    {
     "data": {
      "text/plain": [
       "[4, 200, 6]"
      ]
     },
     "execution_count": 419,
     "metadata": {},
     "output_type": "execute_result"
    }
   ],
   "source": [
    "a"
   ]
  },
  {
   "cell_type": "code",
   "execution_count": 420,
   "id": "ab497733",
   "metadata": {},
   "outputs": [
    {
     "data": {
      "text/plain": [
       "[4, 200, 6]"
      ]
     },
     "execution_count": 420,
     "metadata": {},
     "output_type": "execute_result"
    }
   ],
   "source": [
    "b"
   ]
  },
  {
   "cell_type": "code",
   "execution_count": 421,
   "id": "43fd18da",
   "metadata": {},
   "outputs": [],
   "source": [
    "b=a.copy()"
   ]
  },
  {
   "cell_type": "code",
   "execution_count": 431,
   "id": "30c831da",
   "metadata": {},
   "outputs": [],
   "source": [
    "a[0]=4"
   ]
  },
  {
   "cell_type": "code",
   "execution_count": 432,
   "id": "ed3450f9",
   "metadata": {},
   "outputs": [],
   "source": [
    "a[1]=300"
   ]
  },
  {
   "cell_type": "code",
   "execution_count": 433,
   "id": "a6c50aae",
   "metadata": {},
   "outputs": [
    {
     "data": {
      "text/plain": [
       "[4, 300, 6]"
      ]
     },
     "execution_count": 433,
     "metadata": {},
     "output_type": "execute_result"
    }
   ],
   "source": [
    "a"
   ]
  },
  {
   "cell_type": "code",
   "execution_count": 434,
   "id": "0237ea87",
   "metadata": {},
   "outputs": [
    {
     "data": {
      "text/plain": [
       "[4, 200, 6]"
      ]
     },
     "execution_count": 434,
     "metadata": {},
     "output_type": "execute_result"
    }
   ],
   "source": [
    "b"
   ]
  },
  {
   "cell_type": "code",
   "execution_count": null,
   "id": "3ffcb8a1",
   "metadata": {},
   "outputs": [],
   "source": []
  }
 ],
 "metadata": {
  "kernelspec": {
   "display_name": "Python 3 (ipykernel)",
   "language": "python",
   "name": "python3"
  },
  "language_info": {
   "codemirror_mode": {
    "name": "ipython",
    "version": 3
   },
   "file_extension": ".py",
   "mimetype": "text/x-python",
   "name": "python",
   "nbconvert_exporter": "python",
   "pygments_lexer": "ipython3",
   "version": "3.11.9"
  }
 },
 "nbformat": 4,
 "nbformat_minor": 5
}
