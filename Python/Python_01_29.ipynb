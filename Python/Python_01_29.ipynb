{
 "cells": [
  {
   "cell_type": "markdown",
   "id": "98542da0",
   "metadata": {},
   "source": [
    "# 반복문\n",
    "- 에러 확률 감소, 불필요한 작업 감수 위함.\n",
    "\n",
    "for 반복문\n",
    "- for→각각의 상황에서 라는 의미로 사용됨.\n",
    "- ‘for 변수 in 범위’ 가 기본형태 / 범위=반복할 범위, 횟수로 설정x\n",
    "- : → 다음 단락에 코드블럭이 올 것임을 예언하는 표시"
   ]
  },
  {
   "cell_type": "code",
   "execution_count": 7,
   "id": "b9151c8d",
   "metadata": {
    "scrolled": true
   },
   "outputs": [
    {
     "name": "stdout",
     "output_type": "stream",
     "text": [
      "123\n",
      "456\n",
      "789\n",
      "123\n",
      "456\n",
      "789\n",
      "123\n",
      "456\n",
      "789\n",
      "123\n",
      "456\n",
      "789\n",
      "123\n",
      "456\n",
      "789\n"
     ]
    }
   ],
   "source": [
    "for i in range(1,6):\n",
    "    print(123)\n",
    "    print(456)\n",
    "    print(789)"
   ]
  },
  {
   "cell_type": "code",
   "execution_count": 10,
   "id": "1231e506",
   "metadata": {},
   "outputs": [
    {
     "ename": "IndentationError",
     "evalue": "unexpected indent (317452299.py, line 4)",
     "output_type": "error",
     "traceback": [
      "\u001b[1;36m  Cell \u001b[1;32mIn[10], line 4\u001b[1;36m\u001b[0m\n\u001b[1;33m    print(789)\u001b[0m\n\u001b[1;37m    ^\u001b[0m\n\u001b[1;31mIndentationError\u001b[0m\u001b[1;31m:\u001b[0m unexpected indent\n"
     ]
    }
   ],
   "source": [
    "# IndentationError → 들여쓰기 에러\n",
    "for i in range(1,6):\n",
    "    print(123)\n",
    "print(456)\n",
    "    print(789)"
   ]
  },
  {
   "cell_type": "code",
   "execution_count": 11,
   "id": "58f613d4",
   "metadata": {},
   "outputs": [
    {
     "name": "stdout",
     "output_type": "stream",
     "text": [
      "123\n",
      "123\n",
      "123\n",
      "123\n",
      "123\n",
      "456\n",
      "789\n"
     ]
    }
   ],
   "source": [
    "for i in range(1,6):\n",
    "    print(123)\n",
    "print(456)\n",
    "print(789)"
   ]
  },
  {
   "cell_type": "code",
   "execution_count": 12,
   "id": "de2effb1",
   "metadata": {},
   "outputs": [
    {
     "name": "stdout",
     "output_type": "stream",
     "text": [
      "9\n",
      "8\n",
      "5\n",
      "2\n",
      "1\n"
     ]
    }
   ],
   "source": [
    "for i in[9,8,5,2,1]:\n",
    "    print(i)"
   ]
  },
  {
   "cell_type": "markdown",
   "id": "b1a4aa21",
   "metadata": {},
   "source": [
    "range 함수 → for 반복문 사용 시 가장 많이 사용(거의 대부분)\n",
    "- 파이썬에서 기본값은 생략 가능한 표현\n",
    "- stop: 파이썬에서 (n,n-1)로 범위 인식하기에 n+1로 입력해야 함.\n",
    "- 펼쳐보기 → for 반복문에 넣기, list함수 안에 넣기\n",
    "- start 없이, stop, step 만 사용x / 셋다 적기, stop만 적기 start, stop만 적기\n",
    "- 실수x 정수만 입력 가능\n",
    "- input함수는 문자열로만 인식\n",
    "\n"
   ]
  },
  {
   "cell_type": "code",
   "execution_count": 1,
   "id": "5aca3ed4",
   "metadata": {},
   "outputs": [
    {
     "data": {
      "text/plain": [
       "[1, 3, 5, 7, 9]"
      ]
     },
     "execution_count": 1,
     "metadata": {},
     "output_type": "execute_result"
    }
   ],
   "source": [
    "# [9,5,4,2] list를 range 함수 대신 사용 가능.\n",
    "list(range(1,11,2))"
   ]
  },
  {
   "cell_type": "code",
   "execution_count": 18,
   "id": "9f216767",
   "metadata": {},
   "outputs": [
    {
     "data": {
      "text/plain": [
       "[0, 1, 2, 3, 4, 5, 6, 7, 8, 9]"
      ]
     },
     "execution_count": 18,
     "metadata": {},
     "output_type": "execute_result"
    }
   ],
   "source": [
    "list(range(10))"
   ]
  },
  {
   "cell_type": "code",
   "execution_count": 22,
   "id": "9c21911a",
   "metadata": {},
   "outputs": [
    {
     "data": {
      "text/plain": [
       "[2, 4, 6, 8, 10, 12, 14, 16, 18, 20, 22, 24]"
      ]
     },
     "execution_count": 22,
     "metadata": {},
     "output_type": "execute_result"
    }
   ],
   "source": [
    "list(range(2, 25, 2))"
   ]
  },
  {
   "cell_type": "code",
   "execution_count": 24,
   "id": "6acf9ae7",
   "metadata": {},
   "outputs": [
    {
     "data": {
      "text/plain": [
       "[-13, -12, -11, -10, -9, -8]"
      ]
     },
     "execution_count": 24,
     "metadata": {},
     "output_type": "execute_result"
    }
   ],
   "source": [
    "list(range(-13, -7))"
   ]
  },
  {
   "cell_type": "code",
   "execution_count": 25,
   "id": "b0ce790e",
   "metadata": {},
   "outputs": [
    {
     "data": {
      "text/plain": [
       "[3, 6, 9, 12, 15, 18, 21, 24, 27]"
      ]
     },
     "execution_count": 25,
     "metadata": {},
     "output_type": "execute_result"
    }
   ],
   "source": [
    "list(range(3, 29, 3))"
   ]
  },
  {
   "cell_type": "code",
   "execution_count": 49,
   "id": "93c55866",
   "metadata": {},
   "outputs": [
    {
     "name": "stdout",
     "output_type": "stream",
     "text": [
      "2\n",
      "4\n",
      "6\n",
      "8\n",
      "10\n",
      "12\n",
      "14\n",
      "16\n",
      "18\n",
      "20\n",
      "22\n",
      "24\n"
     ]
    }
   ],
   "source": [
    "# 실습1: 25이하 자연수, 2배수로 / 2: -8~-13까지 정수 / 3: 29까지 자연수, 3의 배수 / 4: 0.1~0.5 순서대로 표현\n",
    "for i in(range(2, 26, 2)):\n",
    "    print(i)"
   ]
  },
  {
   "cell_type": "code",
   "execution_count": 31,
   "id": "fca5a90e",
   "metadata": {},
   "outputs": [
    {
     "name": "stdout",
     "output_type": "stream",
     "text": [
      "-13\n",
      "-12\n",
      "-11\n",
      "-10\n",
      "-9\n",
      "-8\n"
     ]
    }
   ],
   "source": [
    "for i in(range(-13,-7)):\n",
    "    print(i)"
   ]
  },
  {
   "cell_type": "code",
   "execution_count": 50,
   "id": "14f2ac08",
   "metadata": {
    "scrolled": true
   },
   "outputs": [
    {
     "name": "stdout",
     "output_type": "stream",
     "text": [
      "-8\n",
      "-9\n",
      "-10\n",
      "-11\n",
      "-12\n",
      "-13\n"
     ]
    }
   ],
   "source": [
    "for i in(range(-8, -14, -1)):\n",
    "    print(i)"
   ]
  },
  {
   "cell_type": "code",
   "execution_count": 54,
   "id": "8313a302",
   "metadata": {},
   "outputs": [
    {
     "name": "stdout",
     "output_type": "stream",
     "text": [
      "3\n",
      "6\n",
      "9\n",
      "12\n",
      "15\n",
      "18\n",
      "21\n",
      "24\n",
      "27\n"
     ]
    }
   ],
   "source": [
    "for i in(range(3, 30, 3)):\n",
    "    print(i)"
   ]
  },
  {
   "cell_type": "code",
   "execution_count": 67,
   "id": "0e238c24",
   "metadata": {},
   "outputs": [
    {
     "name": "stdout",
     "output_type": "stream",
     "text": [
      "0.1\n",
      "0.2\n",
      "0.3\n",
      "0.4\n",
      "0.5\n"
     ]
    }
   ],
   "source": [
    "for i in(range(1 ,6, 1)):\n",
    "    print(i/10)"
   ]
  },
  {
   "cell_type": "code",
   "execution_count": 68,
   "id": "04e3debc",
   "metadata": {},
   "outputs": [
    {
     "name": "stdout",
     "output_type": "stream",
     "text": [
      "0.1\n",
      "0.2\n",
      "0.3\n",
      "0.4\n",
      "0.5\n"
     ]
    }
   ],
   "source": [
    "for i in [0.1, 0.2, 0.3, 0.4 , 0.5]:\n",
    "    print(i)"
   ]
  },
  {
   "cell_type": "code",
   "execution_count": 90,
   "id": "e244e03a",
   "metadata": {},
   "outputs": [
    {
     "name": "stdout",
     "output_type": "stream",
     "text": [
      "숫자 하나를 입력해 주세요:12\n",
      "2\n",
      "4\n",
      "6\n",
      "8\n",
      "10\n",
      "12\n"
     ]
    }
   ],
   "source": [
    "input_number=int(input('숫자 하나를 입력해 주세요:'))\n",
    "\n",
    "for i in range(2, input_number+1, 2):\n",
    "    print(i)"
   ]
  },
  {
   "cell_type": "markdown",
   "id": "fca69f2d",
   "metadata": {},
   "source": [
    "while 반복문\n",
    "- 트리거x는 무한 반복\n",
    "- ind → 자유롭게 편한 문자로 변경 가능\n",
    "- while ‘지정 문자’ “관계비교(같다, 크다, 작다, 크거나 같다 등)” ‘지정 문자’:\n",
    "- vs for은 범위 조절 0\n",
    "- 공통 명령문 → 현재 상황과 관계 없이 명령 실행 / 명령어만 단락에 작성\n",
    "- True, False로만 조건 판단 가능, for 같이 범위 조건 판단 불가능하기에 조건문을 추가로 작성해주어야 함.\n"
   ]
  },
  {
   "cell_type": "code",
   "execution_count": 91,
   "id": "e6be7f49",
   "metadata": {},
   "outputs": [
    {
     "name": "stdout",
     "output_type": "stream",
     "text": [
      "hello\n",
      "hello\n",
      "hello\n",
      "hello\n",
      "hello\n",
      "hello\n",
      "hello\n",
      "hello\n",
      "hello\n",
      "hello\n"
     ]
    }
   ],
   "source": [
    "ind = 0\n",
    "\n",
    "while ind < 10:\n",
    "    print('hello')\n",
    "    ind+= 1"
   ]
  },
  {
   "cell_type": "code",
   "execution_count": 109,
   "id": "d0b5c3c9",
   "metadata": {},
   "outputs": [
    {
     "name": "stdout",
     "output_type": "stream",
     "text": [
      "숫자 하나를 입력해 주세요:20\n",
      "2\n",
      "4\n",
      "6\n",
      "8\n",
      "10\n",
      "12\n",
      "14\n",
      "16\n",
      "18\n",
      "20\n"
     ]
    }
   ],
   "source": [
    "input_number=int(input('숫자 하나를 입력해 주세요:'))\n",
    "\n",
    "start_number = 2\n",
    "while start_number <= input_number:\n",
    "    print(start_number)\n",
    "    start_number+=2"
   ]
  },
  {
   "cell_type": "markdown",
   "id": "d2ef46d0",
   "metadata": {},
   "source": [
    "- continue: 뒤에  코드 무시하고 다음 루프 실행 / 특정 상황에서만 실행되는 코드 만들 때 사용\n",
    "- break: 뒤에 코드 무시하고 무조건 종료 / while 반복문 컨트롤하기 위해 사용\n",
    "- pass: 아무것도 안함..(원래 코드 그대로 실행) \n",
    "/ 아무것도 안함을 명시하기 위해 사용, 코드가 완성되지 않은 상황에서 에러를 내지 않고 임시로 코드 동작 위해(가독성)"
   ]
  },
  {
   "cell_type": "code",
   "execution_count": 113,
   "id": "873cf245",
   "metadata": {},
   "outputs": [
    {
     "name": "stdout",
     "output_type": "stream",
     "text": [
      "1\n",
      "---\n",
      "2\n",
      "---\n",
      "3\n",
      "---\n",
      "4\n",
      "---\n",
      "5\n",
      "---\n",
      "6\n",
      "---\n",
      "7\n",
      "---\n",
      "8\n",
      "---\n",
      "9\n",
      "---\n",
      "10\n",
      "---\n"
     ]
    }
   ],
   "source": [
    "for i in range(1,11):\n",
    "    print(i)\n",
    "    pass\n",
    "    print('---')"
   ]
  },
  {
   "cell_type": "markdown",
   "id": "c7c2ea32",
   "metadata": {},
   "source": [
    "# 다중 루프"
   ]
  },
  {
   "cell_type": "code",
   "execution_count": 119,
   "id": "c8df4f20",
   "metadata": {},
   "outputs": [
    {
     "name": "stdout",
     "output_type": "stream",
     "text": [
      "9\n",
      "9\n",
      "8\n",
      "7\n",
      "8\n",
      "9\n",
      "8\n",
      "7\n",
      "7\n",
      "9\n",
      "8\n",
      "7\n"
     ]
    }
   ],
   "source": [
    "for i in range(9,6,-1):\n",
    "    print(i)\n",
    "    \n",
    "    for j in range(9,6,-1):\n",
    "        print(j)"
   ]
  },
  {
   "cell_type": "code",
   "execution_count": 122,
   "id": "735c1865",
   "metadata": {},
   "outputs": [
    {
     "name": "stdout",
     "output_type": "stream",
     "text": [
      "0\n",
      "5\n",
      "4\n",
      "1\n",
      "5\n",
      "4\n",
      "2\n",
      "5\n",
      "4\n"
     ]
    }
   ],
   "source": [
    "i=0\n",
    "\n",
    "while i < 3:\n",
    "    print(i)\n",
    "    i+=1\n",
    "    \n",
    "    j=5\n",
    "    while j>3:\n",
    "        print(j)\n",
    "        j-=1"
   ]
  },
  {
   "cell_type": "code",
   "execution_count": 141,
   "id": "46d8d049",
   "metadata": {},
   "outputs": [],
   "source": [
    "list1= [[1, 2, 3], [4, 5, 6], [7, 8, 9]]"
   ]
  },
  {
   "cell_type": "code",
   "execution_count": 150,
   "id": "0dab5949",
   "metadata": {},
   "outputs": [
    {
     "data": {
      "text/plain": [
       "2"
      ]
     },
     "execution_count": 150,
     "metadata": {},
     "output_type": "execute_result"
    }
   ],
   "source": [
    "list1[0][1]"
   ]
  },
  {
   "cell_type": "code",
   "execution_count": 186,
   "id": "2e0fcfe0",
   "metadata": {},
   "outputs": [
    {
     "name": "stdout",
     "output_type": "stream",
     "text": [
      "1 2 3 4 5 6 7 8 9 "
     ]
    }
   ],
   "source": [
    "for i in list1:\n",
    "    for j in i:\n",
    "        print(j, end=' ')"
   ]
  },
  {
   "cell_type": "code",
   "execution_count": 173,
   "id": "093e3597",
   "metadata": {},
   "outputs": [
    {
     "name": "stdout",
     "output_type": "stream",
     "text": [
      "1 2 3 \n",
      "4 5 6 \n",
      "7 8 9 \n"
     ]
    }
   ],
   "source": [
    "for i in list1:\n",
    "    for j in i:\n",
    "        print(j, end=' ')\n",
    "        \n",
    "    print()"
   ]
  },
  {
   "cell_type": "code",
   "execution_count": 191,
   "id": "7a1aeef7",
   "metadata": {
    "scrolled": false
   },
   "outputs": [
    {
     "name": "stdout",
     "output_type": "stream",
     "text": [
      "3\n",
      "\n",
      "3\n"
     ]
    }
   ],
   "source": [
    "print(3)\n",
    "print()\n",
    "print(3)"
   ]
  },
  {
   "cell_type": "code",
   "execution_count": 240,
   "id": "1b2303a5",
   "metadata": {},
   "outputs": [
    {
     "name": "stdout",
     "output_type": "stream",
     "text": [
      "1 2 3 \n",
      "4 5 6 \n",
      "7 8 9 \n"
     ]
    }
   ],
   "source": [
    "for i in list1:\n",
    "    for j in i:\n",
    "        print(j, end=' ')\n",
    "        \n",
    "    print()\n",
    "    "
   ]
  },
  {
   "cell_type": "markdown",
   "id": "1b4860f3",
   "metadata": {},
   "source": [
    "# 조건문(if)\n",
    "- elif: 그게 아니고 ~라면\n",
    "- if문 몇 개든 사용 숫자는 상관 없지만, if-elif-else 순으로 작성되어야 함. 앞에 if문 없으면 뒤 함수 사용 불가\n",
    "- if문+not: not의 경우 해당 논리 반대로 해석.\n",
    "- if not a==100 → a는 100과 일치하지 않는다.\n"
   ]
  },
  {
   "cell_type": "code",
   "execution_count": 261,
   "id": "d633762c",
   "metadata": {},
   "outputs": [],
   "source": [
    "x=12345"
   ]
  },
  {
   "cell_type": "code",
   "execution_count": 262,
   "id": "5a8fb7e6",
   "metadata": {},
   "outputs": [
    {
     "name": "stdout",
     "output_type": "stream",
     "text": [
      "둘 다 아님!\n"
     ]
    }
   ],
   "source": [
    "if x==123:\n",
    "    print('x는 123입니다')\n",
    "    \n",
    "elif x== 1234:\n",
    "    print('x는 1234임')\n",
    "    \n",
    "else:\n",
    "    print('둘 다 아님!')"
   ]
  },
  {
   "cell_type": "code",
   "execution_count": 263,
   "id": "9c2b81b2",
   "metadata": {},
   "outputs": [],
   "source": [
    "a=99\n",
    "b=88"
   ]
  },
  {
   "cell_type": "code",
   "execution_count": 265,
   "id": "b383c156",
   "metadata": {},
   "outputs": [
    {
     "name": "stdout",
     "output_type": "stream",
     "text": [
      "99와 88이 있어요\n"
     ]
    }
   ],
   "source": [
    "if a==99 and b==88:\n",
    "    print('99와 88이 있어요')"
   ]
  },
  {
   "cell_type": "code",
   "execution_count": 267,
   "id": "747fcd6b",
   "metadata": {},
   "outputs": [
    {
     "name": "stdout",
     "output_type": "stream",
     "text": [
      "둘 중 하나는 88이다\n"
     ]
    }
   ],
   "source": [
    "if a==99 or b==88:\n",
    "    print('둘 중 하나는 88이다')"
   ]
  },
  {
   "cell_type": "code",
   "execution_count": 269,
   "id": "8e681a87",
   "metadata": {},
   "outputs": [
    {
     "name": "stdout",
     "output_type": "stream",
     "text": [
      "100\n"
     ]
    }
   ],
   "source": [
    "if not a==100:\n",
    "    print('100')"
   ]
  },
  {
   "cell_type": "code",
   "execution_count": 305,
   "id": "41653980",
   "metadata": {},
   "outputs": [],
   "source": [
    "x=1"
   ]
  },
  {
   "cell_type": "code",
   "execution_count": 306,
   "id": "2b55d32c",
   "metadata": {},
   "outputs": [],
   "source": [
    "for i in range(1,6):\n",
    "    x*=i"
   ]
  },
  {
   "cell_type": "code",
   "execution_count": 307,
   "id": "1c62033b",
   "metadata": {},
   "outputs": [
    {
     "data": {
      "text/plain": [
       "120"
      ]
     },
     "execution_count": 307,
     "metadata": {},
     "output_type": "execute_result"
    }
   ],
   "source": [
    "x"
   ]
  },
  {
   "cell_type": "code",
   "execution_count": 309,
   "id": "b1ffe358",
   "metadata": {},
   "outputs": [
    {
     "name": "stdout",
     "output_type": "stream",
     "text": [
      "숫자 하나:6\n"
     ]
    }
   ],
   "source": [
    "y=int(input('숫자 하나:'))"
   ]
  },
  {
   "cell_type": "code",
   "execution_count": 312,
   "id": "8b5c43ca",
   "metadata": {},
   "outputs": [
    {
     "name": "stdout",
     "output_type": "stream",
     "text": [
      "숫자 하나:6\n",
      "2!의 값은 2입니다\n",
      "4!의 값은 24입니다\n",
      "6!의 값은 720입니다\n"
     ]
    }
   ],
   "source": [
    "y=int(input('숫자 하나:'))\n",
    "\n",
    "for i in range(2, y+1, 2):\n",
    "    x=1\n",
    "    for j in range(1, i+1):\n",
    "        x*=j\n",
    "    print(f'{i}!의 값은 {x}입니다')"
   ]
  },
  {
   "cell_type": "markdown",
   "id": "86299262",
   "metadata": {},
   "source": [
    "# 포맷팅\n",
    "- 변수를 직접 변화 없이 실시간 변경 가능하게 함."
   ]
  },
  {
   "cell_type": "code",
   "execution_count": 315,
   "id": "540d4b1e",
   "metadata": {},
   "outputs": [],
   "source": [
    "x=124\n",
    "y=45.67\n",
    "z=['a','s','d','f']"
   ]
  },
  {
   "cell_type": "code",
   "execution_count": 318,
   "id": "27a20182",
   "metadata": {},
   "outputs": [
    {
     "name": "stdout",
     "output_type": "stream",
     "text": [
      "x는 124 이고, y는  45.67 이고 z는  ['a', 's', 'd', 'f'] 입니다.\n"
     ]
    }
   ],
   "source": [
    "print(\"x는\",x,\"이고, y는 \", y, \"이고 z는 \", z ,\"입니다.\")"
   ]
  },
  {
   "cell_type": "code",
   "execution_count": 329,
   "id": "c300531d",
   "metadata": {},
   "outputs": [
    {
     "name": "stdout",
     "output_type": "stream",
     "text": [
      "x는 124이고, y는 45.67이고, z는 ['a', 's', 'd', 'f']입니다.\n"
     ]
    }
   ],
   "source": [
    "print('x는 %d이고, y는 %.2f이고, z는 %s입니다.' %(x,y,z))"
   ]
  },
  {
   "cell_type": "code",
   "execution_count": 322,
   "id": "ed4c77a0",
   "metadata": {},
   "outputs": [
    {
     "name": "stdout",
     "output_type": "stream",
     "text": [
      "x는 124이고, y는 45.67이고, z는 ['a', 's', 'd', 'f']입니다.\n"
     ]
    }
   ],
   "source": [
    "print(\"x는 {}이고, y는 {}이고, z는 {}입니다.\" .format(x,y,z))"
   ]
  },
  {
   "cell_type": "code",
   "execution_count": 325,
   "id": "73c2f4bd",
   "metadata": {},
   "outputs": [
    {
     "name": "stdout",
     "output_type": "stream",
     "text": [
      "x는 124이고, y는 45.67이고, z는 ['a', 's', 'd', 'f']입니다.\n"
     ]
    }
   ],
   "source": [
    "print(\"x는 {}이고, y는 {}이고, z는 {}입니다.\" .format(x,y,z))"
   ]
  },
  {
   "cell_type": "code",
   "execution_count": 326,
   "id": "a3f9b8d8",
   "metadata": {},
   "outputs": [
    {
     "name": "stdout",
     "output_type": "stream",
     "text": [
      "x는 124이고, y는 45.67이고, z는 ['a', 's', 'd', 'f']입니다.\n"
     ]
    }
   ],
   "source": [
    "print(f\"x는 {x}이고, y는 {y}이고, z는 {z}입니다.\")"
   ]
  },
  {
   "cell_type": "markdown",
   "id": "6ef14983",
   "metadata": {},
   "source": [
    "# 넘파이\n",
    "- 정적 배열, 사이즈가 정해져있음. 확장, 축소x / 자료형 통일 ex) 한 개 실수면 데이터 전체 실수 / 브로드캐스팅(일괄 연산) 지원됨"
   ]
  },
  {
   "cell_type": "code",
   "execution_count": 330,
   "id": "03c38bfb",
   "metadata": {},
   "outputs": [],
   "source": [
    "import numpy as np"
   ]
  },
  {
   "cell_type": "code",
   "execution_count": 333,
   "id": "21df77b6",
   "metadata": {},
   "outputs": [],
   "source": [
    "arr=np.array([1,2,3,4,5])"
   ]
  },
  {
   "cell_type": "code",
   "execution_count": 334,
   "id": "d626c268",
   "metadata": {},
   "outputs": [
    {
     "data": {
      "text/plain": [
       "numpy.ndarray"
      ]
     },
     "execution_count": 334,
     "metadata": {},
     "output_type": "execute_result"
    }
   ],
   "source": [
    "type(arr)"
   ]
  },
  {
   "cell_type": "code",
   "execution_count": 335,
   "id": "355d13cc",
   "metadata": {},
   "outputs": [
    {
     "data": {
      "text/plain": [
       "3"
      ]
     },
     "execution_count": 335,
     "metadata": {},
     "output_type": "execute_result"
    }
   ],
   "source": [
    "arr[2]"
   ]
  },
  {
   "cell_type": "code",
   "execution_count": 336,
   "id": "7587d337",
   "metadata": {},
   "outputs": [
    {
     "data": {
      "text/plain": [
       "array([2, 3, 4, 5])"
      ]
     },
     "execution_count": 336,
     "metadata": {},
     "output_type": "execute_result"
    }
   ],
   "source": [
    "arr[1:5]"
   ]
  },
  {
   "cell_type": "code",
   "execution_count": 337,
   "id": "787c7838",
   "metadata": {},
   "outputs": [
    {
     "data": {
      "text/plain": [
       "array([ 4,  8, 12, 16, 20])"
      ]
     },
     "execution_count": 337,
     "metadata": {},
     "output_type": "execute_result"
    }
   ],
   "source": [
    "arr*4"
   ]
  },
  {
   "cell_type": "code",
   "execution_count": 338,
   "id": "82de909a",
   "metadata": {},
   "outputs": [],
   "source": [
    "arr2=np.array([[1,2,3],[4,5,6],[7,8,9]])\n",
    "arr3=np.array([5,6,7])"
   ]
  },
  {
   "cell_type": "code",
   "execution_count": 339,
   "id": "941643f4",
   "metadata": {},
   "outputs": [
    {
     "data": {
      "text/plain": [
       "array([ 38,  92, 146])"
      ]
     },
     "execution_count": 339,
     "metadata": {},
     "output_type": "execute_result"
    }
   ],
   "source": [
    "arr2.dot(arr3)"
   ]
  },
  {
   "cell_type": "markdown",
   "id": "fb0025c7",
   "metadata": {},
   "source": [
    "인덱싱 / 슬라이싱\n",
    "- 인덱싱→ 원소 1개 추출(해당 좌표를 찾음)/ 슬라이싱 → 원소 여러 개 추출(=범위 추출/a좌표부터b좌표까지 해당되는 모든 값을 찾을 수 있도록 하는 데이터)\n",
    "- 슬라이싱[시작 인덱스, 종료 인덱스, 인덱스 간격] / :: → 전 구간 포함\n",
    "\n"
   ]
  },
  {
   "cell_type": "code",
   "execution_count": 342,
   "id": "a82eb34e",
   "metadata": {},
   "outputs": [],
   "source": [
    "list1=[1,2,3,4,5,6,7,8,9,0]"
   ]
  },
  {
   "cell_type": "code",
   "execution_count": 343,
   "id": "338a9d3e",
   "metadata": {},
   "outputs": [
    {
     "data": {
      "text/plain": [
       "[1, 2, 3, 4, 5, 6, 7, 8, 9, 0]"
      ]
     },
     "execution_count": 343,
     "metadata": {},
     "output_type": "execute_result"
    }
   ],
   "source": [
    "list1[:]"
   ]
  },
  {
   "cell_type": "code",
   "execution_count": 344,
   "id": "2270a22a",
   "metadata": {},
   "outputs": [
    {
     "data": {
      "text/plain": [
       "[2, 4]"
      ]
     },
     "execution_count": 344,
     "metadata": {},
     "output_type": "execute_result"
    }
   ],
   "source": [
    "list1[1:5:2]"
   ]
  },
  {
   "cell_type": "code",
   "execution_count": 345,
   "id": "96dc8c6d",
   "metadata": {},
   "outputs": [
    {
     "data": {
      "text/plain": [
       "7"
      ]
     },
     "execution_count": 345,
     "metadata": {},
     "output_type": "execute_result"
    }
   ],
   "source": [
    "list1[-4]"
   ]
  },
  {
   "cell_type": "code",
   "execution_count": 346,
   "id": "322d027c",
   "metadata": {},
   "outputs": [
    {
     "data": {
      "text/plain": [
       "[7, 8, 9, 0]"
      ]
     },
     "execution_count": 346,
     "metadata": {},
     "output_type": "execute_result"
    }
   ],
   "source": [
    "list1[-4:]"
   ]
  },
  {
   "cell_type": "code",
   "execution_count": 352,
   "id": "a2c54ac6",
   "metadata": {},
   "outputs": [
    {
     "data": {
      "text/plain": [
       "[7, 6, 5, 4, 3, 2, 1]"
      ]
     },
     "execution_count": 352,
     "metadata": {},
     "output_type": "execute_result"
    }
   ],
   "source": [
    "list1[-4::-1]"
   ]
  },
  {
   "cell_type": "code",
   "execution_count": 356,
   "id": "31d02f59",
   "metadata": {},
   "outputs": [
    {
     "data": {
      "text/plain": [
       "[0, 9, 8, 7, 6, 5, 4, 3, 2, 1]"
      ]
     },
     "execution_count": 356,
     "metadata": {},
     "output_type": "execute_result"
    }
   ],
   "source": [
    "list1[::-1]"
   ]
  },
  {
   "cell_type": "markdown",
   "id": "c134abb3",
   "metadata": {},
   "source": [
    "넘파이 파일 읽기, 쓰기\n",
    "- np.save('./f1.npy',arr) : ./ → 동일 경로를 표현하기 위해 사용 ../ → 사용 폴더 위 폴더 의미"
   ]
  },
  {
   "cell_type": "code",
   "execution_count": 357,
   "id": "1876fd0b",
   "metadata": {},
   "outputs": [],
   "source": [
    "np.save('./f1.npy',arr)"
   ]
  },
  {
   "cell_type": "code",
   "execution_count": 366,
   "id": "728c167c",
   "metadata": {},
   "outputs": [],
   "source": [
    "np.save('C:/Users/BIG3-06/Documents/빅데이터/f2.npy',arr)"
   ]
  },
  {
   "cell_type": "code",
   "execution_count": 367,
   "id": "ed4f77ff",
   "metadata": {},
   "outputs": [
    {
     "data": {
      "text/plain": [
       "array([1, 2, 3, 4, 5])"
      ]
     },
     "execution_count": 367,
     "metadata": {},
     "output_type": "execute_result"
    }
   ],
   "source": [
    "np.load('./f1.npy')"
   ]
  },
  {
   "cell_type": "code",
   "execution_count": 368,
   "id": "b0923a20",
   "metadata": {},
   "outputs": [],
   "source": [
    "np.savez('.f1.npz',A=arr)"
   ]
  },
  {
   "cell_type": "code",
   "execution_count": 370,
   "id": "138f061c",
   "metadata": {},
   "outputs": [
    {
     "data": {
      "text/plain": [
       "array([1, 2, 3, 4, 5])"
      ]
     },
     "execution_count": 370,
     "metadata": {},
     "output_type": "execute_result"
    }
   ],
   "source": [
    "np.load('.f1.npz')['A']"
   ]
  },
  {
   "cell_type": "markdown",
   "id": "e470c785",
   "metadata": {},
   "source": [
    "# 판다스\n",
    "- c ->열, 세로. column네임= 헤더 / r →행, 가로, row네임=인덱스\n",
    "- 1차원 데이터 -> 세로로 한줄 / 다차원 데이터 -> 가로로 여러줄\n",
    "- 모든 자료형 인덱싱 시작은 가로부터"
   ]
  },
  {
   "cell_type": "code",
   "execution_count": 371,
   "id": "942c30cc",
   "metadata": {},
   "outputs": [],
   "source": [
    "import pandas as pd"
   ]
  },
  {
   "cell_type": "code",
   "execution_count": 372,
   "id": "4fc4ac08",
   "metadata": {},
   "outputs": [
    {
     "data": {
      "text/html": [
       "<div>\n",
       "<style scoped>\n",
       "    .dataframe tbody tr th:only-of-type {\n",
       "        vertical-align: middle;\n",
       "    }\n",
       "\n",
       "    .dataframe tbody tr th {\n",
       "        vertical-align: top;\n",
       "    }\n",
       "\n",
       "    .dataframe thead th {\n",
       "        text-align: right;\n",
       "    }\n",
       "</style>\n",
       "<table border=\"1\" class=\"dataframe\">\n",
       "  <thead>\n",
       "    <tr style=\"text-align: right;\">\n",
       "      <th></th>\n",
       "      <th>0</th>\n",
       "    </tr>\n",
       "  </thead>\n",
       "  <tbody>\n",
       "    <tr>\n",
       "      <th>0</th>\n",
       "      <td>1</td>\n",
       "    </tr>\n",
       "    <tr>\n",
       "      <th>1</th>\n",
       "      <td>2</td>\n",
       "    </tr>\n",
       "    <tr>\n",
       "      <th>2</th>\n",
       "      <td>3</td>\n",
       "    </tr>\n",
       "    <tr>\n",
       "      <th>3</th>\n",
       "      <td>4</td>\n",
       "    </tr>\n",
       "    <tr>\n",
       "      <th>4</th>\n",
       "      <td>5</td>\n",
       "    </tr>\n",
       "  </tbody>\n",
       "</table>\n",
       "</div>"
      ],
      "text/plain": [
       "   0\n",
       "0  1\n",
       "1  2\n",
       "2  3\n",
       "3  4\n",
       "4  5"
      ]
     },
     "execution_count": 372,
     "metadata": {},
     "output_type": "execute_result"
    }
   ],
   "source": [
    "pd.DataFrame([1,2,3,4,5])"
   ]
  },
  {
   "cell_type": "code",
   "execution_count": 377,
   "id": "8182b832",
   "metadata": {
    "scrolled": true
   },
   "outputs": [
    {
     "data": {
      "text/plain": [
       "array([[1, 2, 3, 4, 5],\n",
       "       [6, 7, 8, 9, 0],\n",
       "       [7, 8, 9, 5, 3]])"
      ]
     },
     "execution_count": 377,
     "metadata": {},
     "output_type": "execute_result"
    }
   ],
   "source": [
    "np.array([[1,2,3,4,5],[6,7,8,9,0],[7,8,9,5,3]])"
   ]
  },
  {
   "cell_type": "code",
   "execution_count": 378,
   "id": "965a4dd3",
   "metadata": {},
   "outputs": [],
   "source": [
    "df=pd.DataFrame([[1,2,3,4,5],[6,7,8,9,0],[7,8,9,5,3]])"
   ]
  },
  {
   "cell_type": "code",
   "execution_count": 379,
   "id": "b8ef2219",
   "metadata": {},
   "outputs": [
    {
     "data": {
      "text/html": [
       "<div>\n",
       "<style scoped>\n",
       "    .dataframe tbody tr th:only-of-type {\n",
       "        vertical-align: middle;\n",
       "    }\n",
       "\n",
       "    .dataframe tbody tr th {\n",
       "        vertical-align: top;\n",
       "    }\n",
       "\n",
       "    .dataframe thead th {\n",
       "        text-align: right;\n",
       "    }\n",
       "</style>\n",
       "<table border=\"1\" class=\"dataframe\">\n",
       "  <thead>\n",
       "    <tr style=\"text-align: right;\">\n",
       "      <th></th>\n",
       "      <th>0</th>\n",
       "      <th>1</th>\n",
       "      <th>2</th>\n",
       "      <th>3</th>\n",
       "      <th>4</th>\n",
       "    </tr>\n",
       "  </thead>\n",
       "  <tbody>\n",
       "    <tr>\n",
       "      <th>0</th>\n",
       "      <td>1</td>\n",
       "      <td>2</td>\n",
       "      <td>3</td>\n",
       "      <td>4</td>\n",
       "      <td>5</td>\n",
       "    </tr>\n",
       "    <tr>\n",
       "      <th>1</th>\n",
       "      <td>6</td>\n",
       "      <td>7</td>\n",
       "      <td>8</td>\n",
       "      <td>9</td>\n",
       "      <td>0</td>\n",
       "    </tr>\n",
       "    <tr>\n",
       "      <th>2</th>\n",
       "      <td>7</td>\n",
       "      <td>8</td>\n",
       "      <td>9</td>\n",
       "      <td>5</td>\n",
       "      <td>3</td>\n",
       "    </tr>\n",
       "  </tbody>\n",
       "</table>\n",
       "</div>"
      ],
      "text/plain": [
       "   0  1  2  3  4\n",
       "0  1  2  3  4  5\n",
       "1  6  7  8  9  0\n",
       "2  7  8  9  5  3"
      ]
     },
     "execution_count": 379,
     "metadata": {},
     "output_type": "execute_result"
    }
   ],
   "source": [
    "df"
   ]
  },
  {
   "cell_type": "markdown",
   "id": "3f09ba13",
   "metadata": {},
   "source": [
    "- 판다스에서 인덱싱: df[열][행] / df.loc(행, 열)"
   ]
  },
  {
   "cell_type": "code",
   "execution_count": 382,
   "id": "39c3b14b",
   "metadata": {},
   "outputs": [
    {
     "data": {
      "text/plain": [
       "2"
      ]
     },
     "execution_count": 382,
     "metadata": {},
     "output_type": "execute_result"
    }
   ],
   "source": [
    "df[1][0]"
   ]
  },
  {
   "cell_type": "code",
   "execution_count": 384,
   "id": "a62ce678",
   "metadata": {},
   "outputs": [
    {
     "data": {
      "text/plain": [
       "6"
      ]
     },
     "execution_count": 384,
     "metadata": {},
     "output_type": "execute_result"
    }
   ],
   "source": [
    "df.loc[1][0]"
   ]
  },
  {
   "cell_type": "markdown",
   "id": "b665d835",
   "metadata": {},
   "source": [
    "- 판다스에서 슬라이싱: df.loc[행, 열] /행,열에 대해 : 로 범위 지정 가능"
   ]
  },
  {
   "cell_type": "code",
   "execution_count": 385,
   "id": "986050b0",
   "metadata": {},
   "outputs": [
    {
     "data": {
      "text/html": [
       "<div>\n",
       "<style scoped>\n",
       "    .dataframe tbody tr th:only-of-type {\n",
       "        vertical-align: middle;\n",
       "    }\n",
       "\n",
       "    .dataframe tbody tr th {\n",
       "        vertical-align: top;\n",
       "    }\n",
       "\n",
       "    .dataframe thead th {\n",
       "        text-align: right;\n",
       "    }\n",
       "</style>\n",
       "<table border=\"1\" class=\"dataframe\">\n",
       "  <thead>\n",
       "    <tr style=\"text-align: right;\">\n",
       "      <th></th>\n",
       "      <th>0</th>\n",
       "      <th>1</th>\n",
       "      <th>2</th>\n",
       "      <th>3</th>\n",
       "      <th>4</th>\n",
       "    </tr>\n",
       "  </thead>\n",
       "  <tbody>\n",
       "    <tr>\n",
       "      <th>1</th>\n",
       "      <td>6</td>\n",
       "      <td>7</td>\n",
       "      <td>8</td>\n",
       "      <td>9</td>\n",
       "      <td>0</td>\n",
       "    </tr>\n",
       "    <tr>\n",
       "      <th>2</th>\n",
       "      <td>7</td>\n",
       "      <td>8</td>\n",
       "      <td>9</td>\n",
       "      <td>5</td>\n",
       "      <td>3</td>\n",
       "    </tr>\n",
       "  </tbody>\n",
       "</table>\n",
       "</div>"
      ],
      "text/plain": [
       "   0  1  2  3  4\n",
       "1  6  7  8  9  0\n",
       "2  7  8  9  5  3"
      ]
     },
     "execution_count": 385,
     "metadata": {},
     "output_type": "execute_result"
    }
   ],
   "source": [
    "df[1:3]"
   ]
  },
  {
   "cell_type": "code",
   "execution_count": 386,
   "id": "32fdfe1c",
   "metadata": {},
   "outputs": [
    {
     "data": {
      "text/html": [
       "<div>\n",
       "<style scoped>\n",
       "    .dataframe tbody tr th:only-of-type {\n",
       "        vertical-align: middle;\n",
       "    }\n",
       "\n",
       "    .dataframe tbody tr th {\n",
       "        vertical-align: top;\n",
       "    }\n",
       "\n",
       "    .dataframe thead th {\n",
       "        text-align: right;\n",
       "    }\n",
       "</style>\n",
       "<table border=\"1\" class=\"dataframe\">\n",
       "  <thead>\n",
       "    <tr style=\"text-align: right;\">\n",
       "      <th></th>\n",
       "      <th>1</th>\n",
       "      <th>2</th>\n",
       "      <th>3</th>\n",
       "    </tr>\n",
       "  </thead>\n",
       "  <tbody>\n",
       "    <tr>\n",
       "      <th>0</th>\n",
       "      <td>2</td>\n",
       "      <td>3</td>\n",
       "      <td>4</td>\n",
       "    </tr>\n",
       "    <tr>\n",
       "      <th>1</th>\n",
       "      <td>7</td>\n",
       "      <td>8</td>\n",
       "      <td>9</td>\n",
       "    </tr>\n",
       "    <tr>\n",
       "      <th>2</th>\n",
       "      <td>8</td>\n",
       "      <td>9</td>\n",
       "      <td>5</td>\n",
       "    </tr>\n",
       "  </tbody>\n",
       "</table>\n",
       "</div>"
      ],
      "text/plain": [
       "   1  2  3\n",
       "0  2  3  4\n",
       "1  7  8  9\n",
       "2  8  9  5"
      ]
     },
     "execution_count": 386,
     "metadata": {},
     "output_type": "execute_result"
    }
   ],
   "source": [
    "df.loc[:,1:3]"
   ]
  },
  {
   "cell_type": "code",
   "execution_count": 390,
   "id": "ddd85274",
   "metadata": {},
   "outputs": [
    {
     "data": {
      "text/html": [
       "<div>\n",
       "<style scoped>\n",
       "    .dataframe tbody tr th:only-of-type {\n",
       "        vertical-align: middle;\n",
       "    }\n",
       "\n",
       "    .dataframe tbody tr th {\n",
       "        vertical-align: top;\n",
       "    }\n",
       "\n",
       "    .dataframe thead th {\n",
       "        text-align: right;\n",
       "    }\n",
       "</style>\n",
       "<table border=\"1\" class=\"dataframe\">\n",
       "  <thead>\n",
       "    <tr style=\"text-align: right;\">\n",
       "      <th></th>\n",
       "      <th>1</th>\n",
       "      <th>2</th>\n",
       "      <th>3</th>\n",
       "    </tr>\n",
       "  </thead>\n",
       "  <tbody>\n",
       "    <tr>\n",
       "      <th>1</th>\n",
       "      <td>7</td>\n",
       "      <td>8</td>\n",
       "      <td>9</td>\n",
       "    </tr>\n",
       "    <tr>\n",
       "      <th>2</th>\n",
       "      <td>8</td>\n",
       "      <td>9</td>\n",
       "      <td>5</td>\n",
       "    </tr>\n",
       "  </tbody>\n",
       "</table>\n",
       "</div>"
      ],
      "text/plain": [
       "   1  2  3\n",
       "1  7  8  9\n",
       "2  8  9  5"
      ]
     },
     "execution_count": 390,
     "metadata": {},
     "output_type": "execute_result"
    }
   ],
   "source": [
    "df.loc[1:3, 1:3]"
   ]
  },
  {
   "cell_type": "code",
   "execution_count": 391,
   "id": "4ece79e7",
   "metadata": {},
   "outputs": [
    {
     "data": {
      "text/html": [
       "<div>\n",
       "<style scoped>\n",
       "    .dataframe tbody tr th:only-of-type {\n",
       "        vertical-align: middle;\n",
       "    }\n",
       "\n",
       "    .dataframe tbody tr th {\n",
       "        vertical-align: top;\n",
       "    }\n",
       "\n",
       "    .dataframe thead th {\n",
       "        text-align: right;\n",
       "    }\n",
       "</style>\n",
       "<table border=\"1\" class=\"dataframe\">\n",
       "  <thead>\n",
       "    <tr style=\"text-align: right;\">\n",
       "      <th></th>\n",
       "      <th>1</th>\n",
       "      <th>2</th>\n",
       "    </tr>\n",
       "  </thead>\n",
       "  <tbody>\n",
       "    <tr>\n",
       "      <th>0</th>\n",
       "      <td>2</td>\n",
       "      <td>3</td>\n",
       "    </tr>\n",
       "    <tr>\n",
       "      <th>1</th>\n",
       "      <td>7</td>\n",
       "      <td>8</td>\n",
       "    </tr>\n",
       "    <tr>\n",
       "      <th>2</th>\n",
       "      <td>8</td>\n",
       "      <td>9</td>\n",
       "    </tr>\n",
       "  </tbody>\n",
       "</table>\n",
       "</div>"
      ],
      "text/plain": [
       "   1  2\n",
       "0  2  3\n",
       "1  7  8\n",
       "2  8  9"
      ]
     },
     "execution_count": 391,
     "metadata": {},
     "output_type": "execute_result"
    }
   ],
   "source": [
    "df.iloc[:,1:3]"
   ]
  },
  {
   "cell_type": "code",
   "execution_count": 392,
   "id": "5f3fac4e",
   "metadata": {},
   "outputs": [
    {
     "data": {
      "text/html": [
       "<div>\n",
       "<style scoped>\n",
       "    .dataframe tbody tr th:only-of-type {\n",
       "        vertical-align: middle;\n",
       "    }\n",
       "\n",
       "    .dataframe tbody tr th {\n",
       "        vertical-align: top;\n",
       "    }\n",
       "\n",
       "    .dataframe thead th {\n",
       "        text-align: right;\n",
       "    }\n",
       "</style>\n",
       "<table border=\"1\" class=\"dataframe\">\n",
       "  <thead>\n",
       "    <tr style=\"text-align: right;\">\n",
       "      <th></th>\n",
       "      <th>0</th>\n",
       "      <th>1</th>\n",
       "      <th>2</th>\n",
       "      <th>3</th>\n",
       "      <th>4</th>\n",
       "    </tr>\n",
       "  </thead>\n",
       "  <tbody>\n",
       "    <tr>\n",
       "      <th>0</th>\n",
       "      <td>1</td>\n",
       "      <td>2</td>\n",
       "      <td>3</td>\n",
       "      <td>4</td>\n",
       "      <td>5</td>\n",
       "    </tr>\n",
       "    <tr>\n",
       "      <th>1</th>\n",
       "      <td>6</td>\n",
       "      <td>7</td>\n",
       "      <td>8</td>\n",
       "      <td>9</td>\n",
       "      <td>0</td>\n",
       "    </tr>\n",
       "    <tr>\n",
       "      <th>2</th>\n",
       "      <td>7</td>\n",
       "      <td>8</td>\n",
       "      <td>9</td>\n",
       "      <td>5</td>\n",
       "      <td>3</td>\n",
       "    </tr>\n",
       "  </tbody>\n",
       "</table>\n",
       "</div>"
      ],
      "text/plain": [
       "   0  1  2  3  4\n",
       "0  1  2  3  4  5\n",
       "1  6  7  8  9  0\n",
       "2  7  8  9  5  3"
      ]
     },
     "execution_count": 392,
     "metadata": {},
     "output_type": "execute_result"
    }
   ],
   "source": [
    "df"
   ]
  },
  {
   "cell_type": "code",
   "execution_count": 396,
   "id": "028ccf79",
   "metadata": {},
   "outputs": [
    {
     "data": {
      "text/plain": [
       "0    12\n",
       "1    32\n",
       "2    36\n",
       "Name: 2, dtype: int64"
      ]
     },
     "execution_count": 396,
     "metadata": {},
     "output_type": "execute_result"
    }
   ],
   "source": [
    "df[2]*4"
   ]
  },
  {
   "cell_type": "code",
   "execution_count": 397,
   "id": "c63c565a",
   "metadata": {},
   "outputs": [
    {
     "data": {
      "text/html": [
       "<div>\n",
       "<style scoped>\n",
       "    .dataframe tbody tr th:only-of-type {\n",
       "        vertical-align: middle;\n",
       "    }\n",
       "\n",
       "    .dataframe tbody tr th {\n",
       "        vertical-align: top;\n",
       "    }\n",
       "\n",
       "    .dataframe thead th {\n",
       "        text-align: right;\n",
       "    }\n",
       "</style>\n",
       "<table border=\"1\" class=\"dataframe\">\n",
       "  <thead>\n",
       "    <tr style=\"text-align: right;\">\n",
       "      <th></th>\n",
       "      <th>0</th>\n",
       "      <th>1</th>\n",
       "      <th>2</th>\n",
       "      <th>3</th>\n",
       "      <th>4</th>\n",
       "    </tr>\n",
       "  </thead>\n",
       "  <tbody>\n",
       "    <tr>\n",
       "      <th>0</th>\n",
       "      <td>4</td>\n",
       "      <td>8</td>\n",
       "      <td>12</td>\n",
       "      <td>16</td>\n",
       "      <td>20</td>\n",
       "    </tr>\n",
       "    <tr>\n",
       "      <th>1</th>\n",
       "      <td>24</td>\n",
       "      <td>28</td>\n",
       "      <td>32</td>\n",
       "      <td>36</td>\n",
       "      <td>0</td>\n",
       "    </tr>\n",
       "    <tr>\n",
       "      <th>2</th>\n",
       "      <td>28</td>\n",
       "      <td>32</td>\n",
       "      <td>36</td>\n",
       "      <td>20</td>\n",
       "      <td>12</td>\n",
       "    </tr>\n",
       "  </tbody>\n",
       "</table>\n",
       "</div>"
      ],
      "text/plain": [
       "    0   1   2   3   4\n",
       "0   4   8  12  16  20\n",
       "1  24  28  32  36   0\n",
       "2  28  32  36  20  12"
      ]
     },
     "execution_count": 397,
     "metadata": {},
     "output_type": "execute_result"
    }
   ],
   "source": [
    "df*4"
   ]
  },
  {
   "cell_type": "code",
   "execution_count": 398,
   "id": "f51beccc",
   "metadata": {},
   "outputs": [],
   "source": [
    "df.to_csv('./df.csv')"
   ]
  },
  {
   "cell_type": "code",
   "execution_count": 400,
   "id": "1d0835e3",
   "metadata": {},
   "outputs": [
    {
     "data": {
      "text/html": [
       "<div>\n",
       "<style scoped>\n",
       "    .dataframe tbody tr th:only-of-type {\n",
       "        vertical-align: middle;\n",
       "    }\n",
       "\n",
       "    .dataframe tbody tr th {\n",
       "        vertical-align: top;\n",
       "    }\n",
       "\n",
       "    .dataframe thead th {\n",
       "        text-align: right;\n",
       "    }\n",
       "</style>\n",
       "<table border=\"1\" class=\"dataframe\">\n",
       "  <thead>\n",
       "    <tr style=\"text-align: right;\">\n",
       "      <th></th>\n",
       "      <th>0</th>\n",
       "      <th>1</th>\n",
       "      <th>2</th>\n",
       "      <th>3</th>\n",
       "      <th>4</th>\n",
       "    </tr>\n",
       "  </thead>\n",
       "  <tbody>\n",
       "    <tr>\n",
       "      <th>0</th>\n",
       "      <td>1</td>\n",
       "      <td>2</td>\n",
       "      <td>3</td>\n",
       "      <td>4</td>\n",
       "      <td>5</td>\n",
       "    </tr>\n",
       "    <tr>\n",
       "      <th>1</th>\n",
       "      <td>6</td>\n",
       "      <td>7</td>\n",
       "      <td>8</td>\n",
       "      <td>9</td>\n",
       "      <td>0</td>\n",
       "    </tr>\n",
       "    <tr>\n",
       "      <th>2</th>\n",
       "      <td>7</td>\n",
       "      <td>8</td>\n",
       "      <td>9</td>\n",
       "      <td>5</td>\n",
       "      <td>3</td>\n",
       "    </tr>\n",
       "  </tbody>\n",
       "</table>\n",
       "</div>"
      ],
      "text/plain": [
       "   0  1  2  3  4\n",
       "0  1  2  3  4  5\n",
       "1  6  7  8  9  0\n",
       "2  7  8  9  5  3"
      ]
     },
     "execution_count": 400,
     "metadata": {},
     "output_type": "execute_result"
    }
   ],
   "source": [
    "pd.read_csv('./df.csv',index_col=0)"
   ]
  },
  {
   "cell_type": "code",
   "execution_count": 401,
   "id": "688cf1b5",
   "metadata": {},
   "outputs": [
    {
     "data": {
      "text/html": [
       "<div>\n",
       "<style scoped>\n",
       "    .dataframe tbody tr th:only-of-type {\n",
       "        vertical-align: middle;\n",
       "    }\n",
       "\n",
       "    .dataframe tbody tr th {\n",
       "        vertical-align: top;\n",
       "    }\n",
       "\n",
       "    .dataframe thead th {\n",
       "        text-align: right;\n",
       "    }\n",
       "</style>\n",
       "<table border=\"1\" class=\"dataframe\">\n",
       "  <thead>\n",
       "    <tr style=\"text-align: right;\">\n",
       "      <th></th>\n",
       "      <th>6</th>\n",
       "      <th>7</th>\n",
       "      <th>8</th>\n",
       "      <th>9</th>\n",
       "      <th>0</th>\n",
       "    </tr>\n",
       "    <tr>\n",
       "      <th>1</th>\n",
       "      <th></th>\n",
       "      <th></th>\n",
       "      <th></th>\n",
       "      <th></th>\n",
       "      <th></th>\n",
       "    </tr>\n",
       "  </thead>\n",
       "  <tbody>\n",
       "    <tr>\n",
       "      <th>2</th>\n",
       "      <td>7</td>\n",
       "      <td>8</td>\n",
       "      <td>9</td>\n",
       "      <td>5</td>\n",
       "      <td>3</td>\n",
       "    </tr>\n",
       "  </tbody>\n",
       "</table>\n",
       "</div>"
      ],
      "text/plain": [
       "   6  7  8  9  0\n",
       "1               \n",
       "2  7  8  9  5  3"
      ]
     },
     "execution_count": 401,
     "metadata": {},
     "output_type": "execute_result"
    }
   ],
   "source": [
    "pd.read_csv('./df.csv',index_col=0, header=2)"
   ]
  },
  {
   "cell_type": "code",
   "execution_count": 407,
   "id": "cc8bbe71",
   "metadata": {},
   "outputs": [],
   "source": [
    "df.to_csv('./df.csv', index=False)"
   ]
  },
  {
   "cell_type": "code",
   "execution_count": 408,
   "id": "039e42fb",
   "metadata": {},
   "outputs": [
    {
     "data": {
      "text/html": [
       "<div>\n",
       "<style scoped>\n",
       "    .dataframe tbody tr th:only-of-type {\n",
       "        vertical-align: middle;\n",
       "    }\n",
       "\n",
       "    .dataframe tbody tr th {\n",
       "        vertical-align: top;\n",
       "    }\n",
       "\n",
       "    .dataframe thead th {\n",
       "        text-align: right;\n",
       "    }\n",
       "</style>\n",
       "<table border=\"1\" class=\"dataframe\">\n",
       "  <thead>\n",
       "    <tr style=\"text-align: right;\">\n",
       "      <th></th>\n",
       "      <th>0</th>\n",
       "      <th>1</th>\n",
       "      <th>2</th>\n",
       "      <th>3</th>\n",
       "      <th>4</th>\n",
       "    </tr>\n",
       "  </thead>\n",
       "  <tbody>\n",
       "    <tr>\n",
       "      <th>0</th>\n",
       "      <td>1</td>\n",
       "      <td>2</td>\n",
       "      <td>3</td>\n",
       "      <td>4</td>\n",
       "      <td>5</td>\n",
       "    </tr>\n",
       "    <tr>\n",
       "      <th>1</th>\n",
       "      <td>6</td>\n",
       "      <td>7</td>\n",
       "      <td>8</td>\n",
       "      <td>9</td>\n",
       "      <td>0</td>\n",
       "    </tr>\n",
       "    <tr>\n",
       "      <th>2</th>\n",
       "      <td>7</td>\n",
       "      <td>8</td>\n",
       "      <td>9</td>\n",
       "      <td>5</td>\n",
       "      <td>3</td>\n",
       "    </tr>\n",
       "  </tbody>\n",
       "</table>\n",
       "</div>"
      ],
      "text/plain": [
       "   0  1  2  3  4\n",
       "0  1  2  3  4  5\n",
       "1  6  7  8  9  0\n",
       "2  7  8  9  5  3"
      ]
     },
     "execution_count": 408,
     "metadata": {},
     "output_type": "execute_result"
    }
   ],
   "source": [
    "pd.read_csv('./df.csv')"
   ]
  },
  {
   "cell_type": "code",
   "execution_count": 409,
   "id": "6588a75b",
   "metadata": {},
   "outputs": [],
   "source": [
    "df.to_excel('./df.xlsx')"
   ]
  },
  {
   "cell_type": "code",
   "execution_count": 410,
   "id": "689f0821",
   "metadata": {},
   "outputs": [
    {
     "data": {
      "text/html": [
       "<div>\n",
       "<style scoped>\n",
       "    .dataframe tbody tr th:only-of-type {\n",
       "        vertical-align: middle;\n",
       "    }\n",
       "\n",
       "    .dataframe tbody tr th {\n",
       "        vertical-align: top;\n",
       "    }\n",
       "\n",
       "    .dataframe thead th {\n",
       "        text-align: right;\n",
       "    }\n",
       "</style>\n",
       "<table border=\"1\" class=\"dataframe\">\n",
       "  <thead>\n",
       "    <tr style=\"text-align: right;\">\n",
       "      <th></th>\n",
       "      <th>Unnamed: 0</th>\n",
       "      <th>0</th>\n",
       "      <th>1</th>\n",
       "      <th>2</th>\n",
       "      <th>3</th>\n",
       "      <th>4</th>\n",
       "    </tr>\n",
       "  </thead>\n",
       "  <tbody>\n",
       "    <tr>\n",
       "      <th>0</th>\n",
       "      <td>0</td>\n",
       "      <td>1</td>\n",
       "      <td>2</td>\n",
       "      <td>3</td>\n",
       "      <td>4</td>\n",
       "      <td>5</td>\n",
       "    </tr>\n",
       "    <tr>\n",
       "      <th>1</th>\n",
       "      <td>1</td>\n",
       "      <td>6</td>\n",
       "      <td>7</td>\n",
       "      <td>8</td>\n",
       "      <td>9</td>\n",
       "      <td>0</td>\n",
       "    </tr>\n",
       "    <tr>\n",
       "      <th>2</th>\n",
       "      <td>2</td>\n",
       "      <td>7</td>\n",
       "      <td>8</td>\n",
       "      <td>9</td>\n",
       "      <td>5</td>\n",
       "      <td>3</td>\n",
       "    </tr>\n",
       "  </tbody>\n",
       "</table>\n",
       "</div>"
      ],
      "text/plain": [
       "   Unnamed: 0  0  1  2  3  4\n",
       "0           0  1  2  3  4  5\n",
       "1           1  6  7  8  9  0\n",
       "2           2  7  8  9  5  3"
      ]
     },
     "execution_count": 410,
     "metadata": {},
     "output_type": "execute_result"
    }
   ],
   "source": [
    "pd.read_excel('./df.xlsx')"
   ]
  },
  {
   "cell_type": "code",
   "execution_count": 412,
   "id": "69e8fb1a",
   "metadata": {},
   "outputs": [
    {
     "data": {
      "text/html": [
       "<div>\n",
       "<style scoped>\n",
       "    .dataframe tbody tr th:only-of-type {\n",
       "        vertical-align: middle;\n",
       "    }\n",
       "\n",
       "    .dataframe tbody tr th {\n",
       "        vertical-align: top;\n",
       "    }\n",
       "\n",
       "    .dataframe thead th {\n",
       "        text-align: right;\n",
       "    }\n",
       "</style>\n",
       "<table border=\"1\" class=\"dataframe\">\n",
       "  <thead>\n",
       "    <tr style=\"text-align: right;\">\n",
       "      <th></th>\n",
       "      <th>0</th>\n",
       "      <th>1</th>\n",
       "      <th>2</th>\n",
       "      <th>3</th>\n",
       "      <th>4</th>\n",
       "    </tr>\n",
       "  </thead>\n",
       "  <tbody>\n",
       "    <tr>\n",
       "      <th>0</th>\n",
       "      <td>1</td>\n",
       "      <td>2</td>\n",
       "      <td>3</td>\n",
       "      <td>4</td>\n",
       "      <td>5</td>\n",
       "    </tr>\n",
       "    <tr>\n",
       "      <th>1</th>\n",
       "      <td>6</td>\n",
       "      <td>7</td>\n",
       "      <td>8</td>\n",
       "      <td>9</td>\n",
       "      <td>0</td>\n",
       "    </tr>\n",
       "    <tr>\n",
       "      <th>2</th>\n",
       "      <td>7</td>\n",
       "      <td>8</td>\n",
       "      <td>9</td>\n",
       "      <td>5</td>\n",
       "      <td>3</td>\n",
       "    </tr>\n",
       "  </tbody>\n",
       "</table>\n",
       "</div>"
      ],
      "text/plain": [
       "   0  1  2  3  4\n",
       "0  1  2  3  4  5\n",
       "1  6  7  8  9  0\n",
       "2  7  8  9  5  3"
      ]
     },
     "execution_count": 412,
     "metadata": {},
     "output_type": "execute_result"
    }
   ],
   "source": [
    "pd.read_excel('./df.xlsx', comment='#', index_col=0)"
   ]
  },
  {
   "cell_type": "markdown",
   "id": "23996891",
   "metadata": {},
   "source": [
    "# 함수"
   ]
  },
  {
   "cell_type": "code",
   "execution_count": 417,
   "id": "391296ef",
   "metadata": {},
   "outputs": [],
   "source": [
    "a= 1+1"
   ]
  },
  {
   "cell_type": "code",
   "execution_count": 418,
   "id": "ddace3ea",
   "metadata": {},
   "outputs": [
    {
     "name": "stdout",
     "output_type": "stream",
     "text": [
      "2\n"
     ]
    }
   ],
   "source": [
    "b= print(1+1)"
   ]
  },
  {
   "cell_type": "code",
   "execution_count": 419,
   "id": "352055c9",
   "metadata": {},
   "outputs": [
    {
     "data": {
      "text/plain": [
       "2"
      ]
     },
     "execution_count": 419,
     "metadata": {},
     "output_type": "execute_result"
    }
   ],
   "source": [
    "a"
   ]
  },
  {
   "cell_type": "code",
   "execution_count": 421,
   "id": "ee10c44d",
   "metadata": {},
   "outputs": [
    {
     "data": {
      "text/plain": [
       "NoneType"
      ]
     },
     "execution_count": 421,
     "metadata": {},
     "output_type": "execute_result"
    }
   ],
   "source": [
    "type(b)"
   ]
  },
  {
   "cell_type": "code",
   "execution_count": 422,
   "id": "433c4aa1",
   "metadata": {},
   "outputs": [],
   "source": [
    "def func1(x):\n",
    "    return x+10"
   ]
  },
  {
   "cell_type": "code",
   "execution_count": 423,
   "id": "b141ac83",
   "metadata": {},
   "outputs": [
    {
     "data": {
      "text/plain": [
       "20"
      ]
     },
     "execution_count": 423,
     "metadata": {},
     "output_type": "execute_result"
    }
   ],
   "source": [
    "func1(10)"
   ]
  },
  {
   "cell_type": "code",
   "execution_count": 424,
   "id": "2cafeb85",
   "metadata": {},
   "outputs": [],
   "source": [
    "def func2(x):\n",
    "    return x+10\n",
    "    return x+100"
   ]
  },
  {
   "cell_type": "code",
   "execution_count": 425,
   "id": "1f6beced",
   "metadata": {},
   "outputs": [
    {
     "data": {
      "text/plain": [
       "20"
      ]
     },
     "execution_count": 425,
     "metadata": {},
     "output_type": "execute_result"
    }
   ],
   "source": [
    "func2(10)"
   ]
  },
  {
   "cell_type": "code",
   "execution_count": 426,
   "id": "8c4e44a6",
   "metadata": {},
   "outputs": [],
   "source": [
    "def func3(x):\n",
    "    if x%2==0:\n",
    "        return x+10\n",
    "    return x+100"
   ]
  },
  {
   "cell_type": "code",
   "execution_count": 427,
   "id": "289a6f50",
   "metadata": {},
   "outputs": [
    {
     "data": {
      "text/plain": [
       "20"
      ]
     },
     "execution_count": 427,
     "metadata": {},
     "output_type": "execute_result"
    }
   ],
   "source": [
    "func3(10)"
   ]
  },
  {
   "cell_type": "code",
   "execution_count": 428,
   "id": "a0e38039",
   "metadata": {},
   "outputs": [
    {
     "data": {
      "text/plain": [
       "111"
      ]
     },
     "execution_count": 428,
     "metadata": {},
     "output_type": "execute_result"
    }
   ],
   "source": [
    "func3(11)"
   ]
  },
  {
   "cell_type": "code",
   "execution_count": 429,
   "id": "843d0586",
   "metadata": {},
   "outputs": [],
   "source": [
    "def func4(x):\n",
    "    return x+10, x+100"
   ]
  },
  {
   "cell_type": "code",
   "execution_count": 431,
   "id": "57f6f35b",
   "metadata": {},
   "outputs": [
    {
     "data": {
      "text/plain": [
       "(20, 110)"
      ]
     },
     "execution_count": 431,
     "metadata": {},
     "output_type": "execute_result"
    }
   ],
   "source": [
    "func4(10)"
   ]
  },
  {
   "cell_type": "code",
   "execution_count": 432,
   "id": "a59c31ff",
   "metadata": {},
   "outputs": [],
   "source": [
    "q,w = func4(10)"
   ]
  },
  {
   "cell_type": "code",
   "execution_count": 433,
   "id": "c8a149b6",
   "metadata": {},
   "outputs": [
    {
     "data": {
      "text/plain": [
       "20"
      ]
     },
     "execution_count": 433,
     "metadata": {},
     "output_type": "execute_result"
    }
   ],
   "source": [
    "q"
   ]
  },
  {
   "cell_type": "code",
   "execution_count": 435,
   "id": "acc16236",
   "metadata": {
    "scrolled": true
   },
   "outputs": [
    {
     "data": {
      "text/plain": [
       "110"
      ]
     },
     "execution_count": 435,
     "metadata": {},
     "output_type": "execute_result"
    }
   ],
   "source": [
    "w"
   ]
  },
  {
   "cell_type": "markdown",
   "id": "0582f6d1",
   "metadata": {},
   "source": [
    "+인터프리터 방식:\n",
    "\n",
    "- 실행 시점에서 한 줄씩 코드를 해석하고 실행: 인터프리터는 소스 코드를 직접 실행하며, 코드를 한 줄씩 해석하고 실행합니다. 각 줄이 실행되기 전에 코드가 컴파일되지 않고, 실제 실행 시에 해석되기 때문에 빠르게 수정 및 실행이 가능합니다.\n",
    "- 실행 중에 에러 확인 가능: 코드를 한 줄씩 실행하기 때문에 오류가 발생하면 해당 줄에서 바로 에러를 확인할 수 있습니다.\n",
    "- 대표적인 예시: Python, Ruby, JavaScript (일부 환경에서는 인터프리터 방식으로 동작), PHP 등.\n",
    "\n",
    "+스크립트 방식:\n",
    "\n",
    "- 전체 코드를 미리 컴파일한 후 실행: 스크립트 언어는 보통 전체 코드를 한 번에 미리 컴파일한 후에 실행합니다. 이로써 실행 시간이 빠를 수 있습니다.\n",
    "- 컴파일 단계에서 에러 확인: 코드를 실행하기 전에 먼저 전체 코드를 컴파일하므로 실행 중에 발생하는 오류가 아니더라도 컴파일 시에 발견할 수 있습니다.\n",
    "- 대표적인 예시: Java, C, C++, Go, Rust 등.\n"
   ]
  },
  {
   "cell_type": "markdown",
   "id": "8087f273",
   "metadata": {},
   "source": [
    "# 복습"
   ]
  },
  {
   "cell_type": "code",
   "execution_count": 3,
   "id": "67c17fad",
   "metadata": {},
   "outputs": [
    {
     "name": "stdout",
     "output_type": "stream",
     "text": [
      "1 2 3 4 5 "
     ]
    }
   ],
   "source": [
    "for i in range(1, 6):\n",
    "    print(i, end=' ')"
   ]
  },
  {
   "cell_type": "code",
   "execution_count": 8,
   "id": "704e9a71",
   "metadata": {},
   "outputs": [
    {
     "name": "stdout",
     "output_type": "stream",
     "text": [
      "hello! hello! hello! hello! hello! hello! hello! hello! hello! hello! "
     ]
    }
   ],
   "source": [
    "for i in range(1,11):\n",
    "    print('hello!', end=' ')"
   ]
  },
  {
   "cell_type": "code",
   "execution_count": 15,
   "id": "2b1023e9",
   "metadata": {},
   "outputs": [
    {
     "name": "stdout",
     "output_type": "stream",
     "text": [
      "2 4 6 8 10 12 14 16 18 20 22 24 "
     ]
    }
   ],
   "source": [
    "for i in range(2, 26, 2):\n",
    "    print(i, end=' ')"
   ]
  },
  {
   "cell_type": "code",
   "execution_count": 20,
   "id": "ed72ed76",
   "metadata": {},
   "outputs": [
    {
     "name": "stdout",
     "output_type": "stream",
     "text": [
      "-8 -9 -10 -11 -12 -13 "
     ]
    }
   ],
   "source": [
    "for i in range(-8, -14, -1):\n",
    "    print(i, end=' ')"
   ]
  },
  {
   "cell_type": "code",
   "execution_count": 24,
   "id": "64865ae1",
   "metadata": {},
   "outputs": [
    {
     "name": "stdout",
     "output_type": "stream",
     "text": [
      "3 6 9 12 15 18 21 24 27 "
     ]
    }
   ],
   "source": [
    "for i in range(3, 30, 3):\n",
    "    print(i, end=' ')"
   ]
  },
  {
   "cell_type": "code",
   "execution_count": 27,
   "id": "0174b6a7",
   "metadata": {},
   "outputs": [
    {
     "name": "stdout",
     "output_type": "stream",
     "text": [
      "0.1 0.2 0.3 0.4 0.5 "
     ]
    }
   ],
   "source": [
    "for i in range(1, 6):\n",
    "    print(i/10, end=' ')"
   ]
  },
  {
   "cell_type": "code",
   "execution_count": 36,
   "id": "a4195c78",
   "metadata": {},
   "outputs": [
    {
     "name": "stdout",
     "output_type": "stream",
     "text": [
      "숫자 하나 입력6\n",
      "2\n",
      "4\n",
      "6\n"
     ]
    }
   ],
   "source": [
    "s_num=int(input('숫자 하나 입력'))\n",
    "\n",
    "for i in range(2, int(s_num)+1, 2):\n",
    "    print(i)\n",
    "    "
   ]
  },
  {
   "cell_type": "code",
   "execution_count": 43,
   "id": "5ff5e4f5",
   "metadata": {},
   "outputs": [
    {
     "name": "stdout",
     "output_type": "stream",
     "text": [
      "숫자 하나 입력6\n",
      "1\n",
      "3\n",
      "5\n"
     ]
    }
   ],
   "source": [
    "s_num=int(input('숫자 하나 입력'))\n",
    "\n",
    "for i in range(1, int(s_num)+1, 2):\n",
    "    print(i)"
   ]
  },
  {
   "cell_type": "code",
   "execution_count": 45,
   "id": "f4e259a8",
   "metadata": {},
   "outputs": [
    {
     "name": "stdout",
     "output_type": "stream",
     "text": [
      "1 2 3 4 5 6 7 8 9 10 "
     ]
    }
   ],
   "source": [
    "ind=0\n",
    "\n",
    "while ind<10:\n",
    "    ind+=1\n",
    "    print(ind, end=' ')"
   ]
  },
  {
   "cell_type": "code",
   "execution_count": 55,
   "id": "460d90a6",
   "metadata": {},
   "outputs": [
    {
     "name": "stdout",
     "output_type": "stream",
     "text": [
      "숫자 하나 입력6\n",
      "2\n",
      "4\n",
      "6\n"
     ]
    }
   ],
   "source": [
    "k_num=int(input('숫자 하나 입력'))\n",
    "\n",
    "ind=2\n",
    "while ind <= k_num:\n",
    "    print(ind)\n",
    "    ind+=2"
   ]
  },
  {
   "cell_type": "code",
   "execution_count": 56,
   "id": "e287a8ba",
   "metadata": {},
   "outputs": [
    {
     "name": "stdout",
     "output_type": "stream",
     "text": [
      "숫자 하나 입력6\n",
      "1\n",
      "3\n",
      "5\n"
     ]
    }
   ],
   "source": [
    "k_num=int(input('숫자 하나 입력'))\n",
    "\n",
    "ind=1\n",
    "while ind <= k_num:\n",
    "    print(ind)\n",
    "    ind+=2"
   ]
  },
  {
   "cell_type": "code",
   "execution_count": 58,
   "id": "d70d55c4",
   "metadata": {},
   "outputs": [
    {
     "name": "stdout",
     "output_type": "stream",
     "text": [
      "숫자 하나 입력6\n",
      "1\n"
     ]
    }
   ],
   "source": [
    "k_num=int(input('숫자 하나 입력'))\n",
    "\n",
    "ind=1\n",
    "while ind <= k_num:\n",
    "    print(ind)\n",
    "    break\n",
    "    ind+=2"
   ]
  },
  {
   "cell_type": "code",
   "execution_count": 59,
   "id": "c648ee53",
   "metadata": {},
   "outputs": [
    {
     "name": "stdout",
     "output_type": "stream",
     "text": [
      "숫자 하나 입력6\n",
      "1\n",
      "3\n",
      "5\n"
     ]
    }
   ],
   "source": [
    "k_num=int(input('숫자 하나 입력'))\n",
    "\n",
    "ind=1\n",
    "while ind <= k_num:\n",
    "    print(ind)\n",
    "    pass\n",
    "    ind+=2"
   ]
  },
  {
   "cell_type": "code",
   "execution_count": 60,
   "id": "0e7db4bb",
   "metadata": {},
   "outputs": [],
   "source": [
    "list1= [[1, 2, 3], [4, 5, 6], [7, 8, 9]]"
   ]
  },
  {
   "cell_type": "code",
   "execution_count": 61,
   "id": "3b134c75",
   "metadata": {},
   "outputs": [
    {
     "data": {
      "text/plain": [
       "2"
      ]
     },
     "execution_count": 61,
     "metadata": {},
     "output_type": "execute_result"
    }
   ],
   "source": [
    "list1[0][1]"
   ]
  },
  {
   "cell_type": "code",
   "execution_count": 75,
   "id": "de0fe744",
   "metadata": {},
   "outputs": [
    {
     "name": "stdout",
     "output_type": "stream",
     "text": [
      "1 2 3 4 5 6 7 8 9 "
     ]
    }
   ],
   "source": [
    "for i in list1:\n",
    "    for j in i:\n",
    "        print(j, end=\" \")"
   ]
  },
  {
   "cell_type": "code",
   "execution_count": 77,
   "id": "f65ad3db",
   "metadata": {},
   "outputs": [
    {
     "name": "stdout",
     "output_type": "stream",
     "text": [
      "1 2 3 \n",
      "4 5 6 \n",
      "7 8 9 \n"
     ]
    }
   ],
   "source": [
    "for i in list1:\n",
    "    for j in i:\n",
    "        print(j, end=' ')\n",
    "    print()"
   ]
  },
  {
   "cell_type": "code",
   "execution_count": 96,
   "id": "37f525e8",
   "metadata": {},
   "outputs": [
    {
     "name": "stdout",
     "output_type": "stream",
     "text": [
      "숫자 하나 입력6\n",
      "2의 값은 2입니다.\n",
      "4의 값은 24입니다.\n",
      "6의 값은 720입니다.\n"
     ]
    }
   ],
   "source": [
    "s_num=int(input('숫자 하나 입력'))\n",
    "\n",
    "for i in range(1, s_num+1):\n",
    "    if i%2==0:\n",
    "        x=1\n",
    "        for j in range(1, i+1):\n",
    "            x*=j\n",
    "        print(f'{i}의 값은 {x}입니다.')"
   ]
  },
  {
   "cell_type": "code",
   "execution_count": 98,
   "id": "06dd0a2c",
   "metadata": {},
   "outputs": [
    {
     "name": "stdout",
     "output_type": "stream",
     "text": [
      "숫자 하나 입력6\n",
      "2의 값은 2입니다.\n",
      "4의 값은 24입니다.\n",
      "6의 값은 720입니다.\n"
     ]
    }
   ],
   "source": [
    "s_num=int(input('숫자 하나 입력'))\n",
    "\n",
    "for i in range(2, s_num+1, 2):\n",
    "    x=1\n",
    "    for j in range(1, i+1):\n",
    "        x*=j\n",
    "    print(f'{i}!의 값은 {x}입니다.')"
   ]
  },
  {
   "cell_type": "code",
   "execution_count": 99,
   "id": "839b722a",
   "metadata": {},
   "outputs": [],
   "source": [
    "import numpy as np"
   ]
  },
  {
   "cell_type": "code",
   "execution_count": 101,
   "id": "5b449810",
   "metadata": {},
   "outputs": [],
   "source": [
    "arr=np.array([1,2,3,4,5])"
   ]
  },
  {
   "cell_type": "code",
   "execution_count": 102,
   "id": "596d78e3",
   "metadata": {},
   "outputs": [
    {
     "data": {
      "text/plain": [
       "array([1, 2, 3, 4, 5])"
      ]
     },
     "execution_count": 102,
     "metadata": {},
     "output_type": "execute_result"
    }
   ],
   "source": [
    "arr"
   ]
  },
  {
   "cell_type": "code",
   "execution_count": 103,
   "id": "25b33eae",
   "metadata": {},
   "outputs": [
    {
     "data": {
      "text/plain": [
       "array([4, 5, 6, 7, 8])"
      ]
     },
     "execution_count": 103,
     "metadata": {},
     "output_type": "execute_result"
    }
   ],
   "source": [
    "arr+3"
   ]
  },
  {
   "cell_type": "code",
   "execution_count": 104,
   "id": "5fba0c98",
   "metadata": {},
   "outputs": [
    {
     "data": {
      "text/plain": [
       "4"
      ]
     },
     "execution_count": 104,
     "metadata": {},
     "output_type": "execute_result"
    }
   ],
   "source": [
    "arr[-2]"
   ]
  },
  {
   "cell_type": "code",
   "execution_count": 105,
   "id": "e88d290d",
   "metadata": {},
   "outputs": [
    {
     "data": {
      "text/plain": [
       "array([2, 4])"
      ]
     },
     "execution_count": 105,
     "metadata": {},
     "output_type": "execute_result"
    }
   ],
   "source": [
    "arr[1:5:2]"
   ]
  },
  {
   "cell_type": "code",
   "execution_count": 107,
   "id": "33ce99c2",
   "metadata": {},
   "outputs": [
    {
     "data": {
      "text/plain": [
       "array([3, 4, 5])"
      ]
     },
     "execution_count": 107,
     "metadata": {},
     "output_type": "execute_result"
    }
   ],
   "source": [
    "arr[-3:]"
   ]
  },
  {
   "cell_type": "code",
   "execution_count": 115,
   "id": "98fd6b76",
   "metadata": {},
   "outputs": [
    {
     "data": {
      "text/plain": [
       "array([3, 2, 1])"
      ]
     },
     "execution_count": 115,
     "metadata": {},
     "output_type": "execute_result"
    }
   ],
   "source": [
    "arr[-3::-1]"
   ]
  },
  {
   "cell_type": "code",
   "execution_count": 116,
   "id": "abc4f661",
   "metadata": {},
   "outputs": [],
   "source": [
    "import pandas as pd"
   ]
  },
  {
   "cell_type": "code",
   "execution_count": 139,
   "id": "6a026fa1",
   "metadata": {},
   "outputs": [],
   "source": [
    "df=pd.DataFrame([[1,2,3,4,5],[6,7,8,9,0]])"
   ]
  },
  {
   "cell_type": "code",
   "execution_count": 185,
   "id": "b63b28c6",
   "metadata": {},
   "outputs": [
    {
     "data": {
      "text/html": [
       "<div>\n",
       "<style scoped>\n",
       "    .dataframe tbody tr th:only-of-type {\n",
       "        vertical-align: middle;\n",
       "    }\n",
       "\n",
       "    .dataframe tbody tr th {\n",
       "        vertical-align: top;\n",
       "    }\n",
       "\n",
       "    .dataframe thead th {\n",
       "        text-align: right;\n",
       "    }\n",
       "</style>\n",
       "<table border=\"1\" class=\"dataframe\">\n",
       "  <thead>\n",
       "    <tr style=\"text-align: right;\">\n",
       "      <th></th>\n",
       "      <th>a</th>\n",
       "      <th>b</th>\n",
       "      <th>c</th>\n",
       "      <th>d</th>\n",
       "      <th>e</th>\n",
       "    </tr>\n",
       "  </thead>\n",
       "  <tbody>\n",
       "    <tr>\n",
       "      <th>ㄱ</th>\n",
       "      <td>1</td>\n",
       "      <td>2</td>\n",
       "      <td>3</td>\n",
       "      <td>4</td>\n",
       "      <td>5</td>\n",
       "    </tr>\n",
       "    <tr>\n",
       "      <th>ㄴ</th>\n",
       "      <td>6</td>\n",
       "      <td>7</td>\n",
       "      <td>8</td>\n",
       "      <td>9</td>\n",
       "      <td>0</td>\n",
       "    </tr>\n",
       "  </tbody>\n",
       "</table>\n",
       "</div>"
      ],
      "text/plain": [
       "   a  b  c  d  e\n",
       "ㄱ  1  2  3  4  5\n",
       "ㄴ  6  7  8  9  0"
      ]
     },
     "execution_count": 185,
     "metadata": {},
     "output_type": "execute_result"
    }
   ],
   "source": [
    "df"
   ]
  },
  {
   "cell_type": "code",
   "execution_count": 190,
   "id": "e7f71ead",
   "metadata": {},
   "outputs": [
    {
     "data": {
      "text/plain": [
       "1"
      ]
     },
     "execution_count": 190,
     "metadata": {},
     "output_type": "execute_result"
    }
   ],
   "source": [
    "df.loc['ㄱ']['a']"
   ]
  },
  {
   "cell_type": "code",
   "execution_count": 151,
   "id": "bfd23093",
   "metadata": {},
   "outputs": [],
   "source": [
    "df.columns = ['a', 'b', 'c', 'd', 'e']\n",
    "df.index = ['ㄱ', 'ㄴ']"
   ]
  },
  {
   "cell_type": "code",
   "execution_count": 152,
   "id": "03499c4d",
   "metadata": {},
   "outputs": [
    {
     "data": {
      "text/html": [
       "<div>\n",
       "<style scoped>\n",
       "    .dataframe tbody tr th:only-of-type {\n",
       "        vertical-align: middle;\n",
       "    }\n",
       "\n",
       "    .dataframe tbody tr th {\n",
       "        vertical-align: top;\n",
       "    }\n",
       "\n",
       "    .dataframe thead th {\n",
       "        text-align: right;\n",
       "    }\n",
       "</style>\n",
       "<table border=\"1\" class=\"dataframe\">\n",
       "  <thead>\n",
       "    <tr style=\"text-align: right;\">\n",
       "      <th></th>\n",
       "      <th>a</th>\n",
       "      <th>b</th>\n",
       "      <th>c</th>\n",
       "      <th>d</th>\n",
       "      <th>e</th>\n",
       "    </tr>\n",
       "  </thead>\n",
       "  <tbody>\n",
       "    <tr>\n",
       "      <th>ㄱ</th>\n",
       "      <td>1</td>\n",
       "      <td>2</td>\n",
       "      <td>3</td>\n",
       "      <td>4</td>\n",
       "      <td>5</td>\n",
       "    </tr>\n",
       "    <tr>\n",
       "      <th>ㄴ</th>\n",
       "      <td>6</td>\n",
       "      <td>7</td>\n",
       "      <td>8</td>\n",
       "      <td>9</td>\n",
       "      <td>0</td>\n",
       "    </tr>\n",
       "  </tbody>\n",
       "</table>\n",
       "</div>"
      ],
      "text/plain": [
       "   a  b  c  d  e\n",
       "ㄱ  1  2  3  4  5\n",
       "ㄴ  6  7  8  9  0"
      ]
     },
     "execution_count": 152,
     "metadata": {},
     "output_type": "execute_result"
    }
   ],
   "source": [
    "df"
   ]
  },
  {
   "cell_type": "code",
   "execution_count": 154,
   "id": "c375e6e5",
   "metadata": {},
   "outputs": [],
   "source": [
    "df.to_excel('C:/Users/BIG3-06/Documents/빅데이터.xlsx')"
   ]
  },
  {
   "cell_type": "code",
   "execution_count": 164,
   "id": "4e3fb943",
   "metadata": {},
   "outputs": [],
   "source": [
    "df=pd.read_excel('C:/Users/BIG3-06/Documents/빅데이터.xlsx', index_col=0)"
   ]
  },
  {
   "cell_type": "code",
   "execution_count": 165,
   "id": "abeb9a03",
   "metadata": {},
   "outputs": [
    {
     "data": {
      "text/html": [
       "<div>\n",
       "<style scoped>\n",
       "    .dataframe tbody tr th:only-of-type {\n",
       "        vertical-align: middle;\n",
       "    }\n",
       "\n",
       "    .dataframe tbody tr th {\n",
       "        vertical-align: top;\n",
       "    }\n",
       "\n",
       "    .dataframe thead th {\n",
       "        text-align: right;\n",
       "    }\n",
       "</style>\n",
       "<table border=\"1\" class=\"dataframe\">\n",
       "  <thead>\n",
       "    <tr style=\"text-align: right;\">\n",
       "      <th></th>\n",
       "      <th>a</th>\n",
       "      <th>b</th>\n",
       "      <th>c</th>\n",
       "      <th>d</th>\n",
       "      <th>e</th>\n",
       "    </tr>\n",
       "  </thead>\n",
       "  <tbody>\n",
       "    <tr>\n",
       "      <th>ㄱ</th>\n",
       "      <td>1</td>\n",
       "      <td>2</td>\n",
       "      <td>3</td>\n",
       "      <td>4</td>\n",
       "      <td>5</td>\n",
       "    </tr>\n",
       "    <tr>\n",
       "      <th>ㄴ</th>\n",
       "      <td>6</td>\n",
       "      <td>7</td>\n",
       "      <td>8</td>\n",
       "      <td>9</td>\n",
       "      <td>0</td>\n",
       "    </tr>\n",
       "  </tbody>\n",
       "</table>\n",
       "</div>"
      ],
      "text/plain": [
       "   a  b  c  d  e\n",
       "ㄱ  1  2  3  4  5\n",
       "ㄴ  6  7  8  9  0"
      ]
     },
     "execution_count": 165,
     "metadata": {},
     "output_type": "execute_result"
    }
   ],
   "source": [
    "df"
   ]
  },
  {
   "cell_type": "code",
   "execution_count": 200,
   "id": "0c59a8e7",
   "metadata": {},
   "outputs": [
    {
     "data": {
      "text/html": [
       "<div>\n",
       "<style scoped>\n",
       "    .dataframe tbody tr th:only-of-type {\n",
       "        vertical-align: middle;\n",
       "    }\n",
       "\n",
       "    .dataframe tbody tr th {\n",
       "        vertical-align: top;\n",
       "    }\n",
       "\n",
       "    .dataframe thead th {\n",
       "        text-align: right;\n",
       "    }\n",
       "</style>\n",
       "<table border=\"1\" class=\"dataframe\">\n",
       "  <thead>\n",
       "    <tr style=\"text-align: right;\">\n",
       "      <th></th>\n",
       "      <th>b</th>\n",
       "    </tr>\n",
       "  </thead>\n",
       "  <tbody>\n",
       "    <tr>\n",
       "      <th>ㄴ</th>\n",
       "      <td>7</td>\n",
       "    </tr>\n",
       "  </tbody>\n",
       "</table>\n",
       "</div>"
      ],
      "text/plain": [
       "   b\n",
       "ㄴ  7"
      ]
     },
     "execution_count": 200,
     "metadata": {},
     "output_type": "execute_result"
    }
   ],
   "source": [
    "df.iloc[1:2, 1:2]"
   ]
  }
 ],
 "metadata": {
  "kernelspec": {
   "display_name": "Python 3 (ipykernel)",
   "language": "python",
   "name": "python3"
  },
  "language_info": {
   "codemirror_mode": {
    "name": "ipython",
    "version": 3
   },
   "file_extension": ".py",
   "mimetype": "text/x-python",
   "name": "python",
   "nbconvert_exporter": "python",
   "pygments_lexer": "ipython3",
   "version": "3.11.9"
  }
 },
 "nbformat": 4,
 "nbformat_minor": 5
}
