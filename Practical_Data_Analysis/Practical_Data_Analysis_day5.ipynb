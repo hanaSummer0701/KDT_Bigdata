{
 "cells": [
  {
   "cell_type": "code",
   "execution_count": 3,
   "metadata": {},
   "outputs": [],
   "source": [
    "import pandas as pd\n",
    "df = pd.read_csv('.csv', encoding='cp949')"
   ]
  },
  {
   "cell_type": "code",
   "execution_count": null,
   "metadata": {},
   "outputs": [],
   "source": [
    "# 컬럼별 중복 제거 개수 확인\n",
    "columns = df.columns\n",
    "columns_info = dict()\n",
    "\n",
    "for col in columns:\n",
    "    columns_info[col] = df[col].nunique()\n",
    "columns_info"
   ]
  },
  {
   "cell_type": "code",
   "execution_count": null,
   "metadata": {},
   "outputs": [],
   "source": [
    "# 결측치 확인 - 여러 컬럼에서 결측치 확인\n",
    "\n",
    "null_cnt_df = pd.DataFrame(df.isnull().sum()).rename(columns={0: 'null_count'}).reset_index()\n",
    "null_cnt_df['null_ratio'] = round(null_cnt_df['null_count'] / len(df) *100,2)\n",
    "null_cnt_df"
   ]
  },
  {
   "cell_type": "markdown",
   "metadata": {},
   "source": [
    "과목코드 결측치 채우기"
   ]
  },
  {
   "cell_type": "code",
   "execution_count": null,
   "metadata": {},
   "outputs": [],
   "source": [
    "# 학년 열의 뒷자리 추출\n",
    "df['학년_뒷자리'] = df['학년'].str[-1]\n",
    "\n",
    "# 각 학년 열의 뒷자리에 해당하는 학년 값의 빈도 계산\n",
    "과목코드_frequency_by_grade = df.groupby('학년_뒷자리')['학년'].value_counts().reset_index(name='frequency')\n",
    "\n",
    "과목코드_frequency_by_grade"
   ]
  },
  {
   "cell_type": "code",
   "execution_count": 7,
   "metadata": {},
   "outputs": [],
   "source": [
    "# 각 grade_cd_last_digit별 최빈 mcode 값 계산\n",
    "mode_by_grade = 과목코드_frequency_by_grade.groupby('학년_뒷자리')['과목코드'].apply(lambda x: x.mode()[0]).reset_index(name='과목코드')\n",
    "\n",
    "# mcode 열의 결측치를 학년별 최빈 과목으로 채우기\n",
    "for index, row in mode_by_grade.iterrows():\n",
    "    grade_digit = row['학년_뒷자리']\n",
    "    mode_mcode = row['과목코드']\n",
    "    df.loc[(df['학년_뒷자리'] == grade_digit) & (df['과목코드'].isnull()), '과목코드'] = mode_mcode"
   ]
  },
  {
   "cell_type": "code",
   "execution_count": null,
   "metadata": {},
   "outputs": [],
   "source": [
    "# 결측치 확인\n",
    "\n",
    "null_cnt_df = pd.DataFrame(df.isnull().sum()).rename(columns={0: 'null_count'}).reset_index()\n",
    "null_cnt_df['null_ratio'] = round(null_cnt_df['null_count'] / len(df) *100,2)\n",
    "null_cnt_df"
   ]
  },
  {
   "cell_type": "markdown",
   "metadata": {},
   "source": [
    "# 그 외 결측치 존재하는 열은 정규분포 여부 확인 후 ZSCORE/IQR 사용하여 결측치 처리"
   ]
  },
  {
   "cell_type": "code",
   "execution_count": 26,
   "metadata": {},
   "outputs": [
    {
     "name": "stdout",
     "output_type": "stream",
     "text": [
      "데이터가 정규분포를 따르지 않습니다.\n"
     ]
    }
   ],
   "source": [
    "from scipy.stats import shapiro\n",
    "\n",
    "# Shapiro-Wilk 테스트를 사용하여 정규성 검정\n",
    "statistic, p_value = shapiro(df[''])\n",
    "\n",
    "# p-value를 기준으로 정규성 여부 판단\n",
    "if p_value > 0.05:\n",
    "    print(\"데이터가 정규분포를 따릅니다.\")\n",
    "    # 여기에 이상치 처리 등을 추가할 수 있습니다.\n",
    "else:\n",
    "    print(\"데이터가 정규분포를 따르지 않습니다.\")\n"
   ]
  },
  {
   "cell_type": "code",
   "execution_count": null,
   "metadata": {},
   "outputs": [],
   "source": [
    "# 사분위수 계산\n",
    "Q1 = df[''].quantile(0.25)\n",
    "Q3 = df[''].quantile(0.75)\n",
    "IQR = Q3 - Q1\n",
    "\n",
    "# 사분위수를 기반으로 이상치 선택\n",
    "lower_bound = Q1 - 1.5 * IQR\n",
    "upper_bound = Q3 + 1.5 * IQR\n",
    "\n",
    "selected_outliers = df[(df[''] < lower_bound) | (df[''] > upper_bound)]\n",
    "selected_outliers "
   ]
  },
  {
   "cell_type": "code",
   "execution_count": null,
   "metadata": {},
   "outputs": [],
   "source": [
    "# 이상치를 중앙값으로 대체\n",
    "median_value = df[''].median()\n",
    "df.loc[(df[''] < lower_bound) | (df[''] > upper_bound), ''] = median_value"
   ]
  },
  {
   "cell_type": "code",
   "execution_count": 52,
   "metadata": {},
   "outputs": [],
   "source": [
    "# 결측치 비율이 모두 1퍼센트 미만 행 삭제\n",
    "# 선택된 열들에 대해 결측치가 있는 행 삭제\n",
    "cleaned_df = df.dropna(subset=[''])\n",
    "\n",
    "# 새로운 데이터프레임을 기존의 df에 할당\n",
    "df = cleaned_df.copy()"
   ]
  },
  {
   "cell_type": "code",
   "execution_count": null,
   "metadata": {},
   "outputs": [],
   "source": [
    "# 최종 전처리된 데이터 결측치 확인\n",
    "null_cnt_df = pd.DataFrame(df.isnull().sum()).rename(columns={0: 'null_count'}).reset_index()\n",
    "null_cnt_df['null_ratio'] = round(null_cnt_df['null_count'] / len(df) *100,2)\n",
    "null_cnt_df"
   ]
  },
  {
   "cell_type": "code",
   "execution_count": 75,
   "metadata": {},
   "outputs": [],
   "source": [
    "df.to_excel('processed_data.xlsx', index=False)"
   ]
  },
  {
   "cell_type": "markdown",
   "metadata": {},
   "source": [
    "인코딩"
   ]
  },
  {
   "cell_type": "markdown",
   "metadata": {},
   "source": [
    "목표 10 -> 0, 30 -> 1로 변환"
   ]
  },
  {
   "cell_type": "code",
   "execution_count": 124,
   "metadata": {},
   "outputs": [],
   "source": [
    "# Target 변환\n",
    "df['목표'] = df['목표'].apply(lambda x: 0 if x == 10 else 1)"
   ]
  },
  {
   "cell_type": "markdown",
   "metadata": {},
   "source": [
    "성별 인코딩"
   ]
  },
  {
   "cell_type": "code",
   "execution_count": null,
   "metadata": {},
   "outputs": [],
   "source": [
    "# 성별 열을 새로운 열로 추가하고 인코딩\n",
    "df['성별'] = df['성별구분'].replace({'남': 0, '여': 1, '정보없음': 3})\n",
    "\n",
    "# 결과 확인\n",
    "print(df[['성별구분', '성별']].head(10))\n"
   ]
  },
  {
   "cell_type": "markdown",
   "metadata": {},
   "source": [
    "과목코드 인코딩"
   ]
  },
  {
   "cell_type": "code",
   "execution_count": null,
   "metadata": {},
   "outputs": [],
   "source": [
    "# 국어를 0, 영어를 1, 수학을 2로 매핑하고 그 외를 3으로 지정\n",
    "df['과목'] = df['과목코드'].map({'국어': 0, '영어': 1, '수학': 2}).fillna(3).astype(int)\n",
    "\n",
    "# 결과 확인\n",
    "print(df[['과목코드', '과목']].head(10))"
   ]
  },
  {
   "cell_type": "code",
   "execution_count": 147,
   "metadata": {},
   "outputs": [],
   "source": [
    "# 'N'을 0, 'Y'를 1로 매핑하여 인코딩\n",
    "df['A'] = df['A'].map({'N': 0, 'Y': 1})\n",
    "df['B'] = df['B'].map({'N': 0, 'Y': 1})\n",
    "df['C'] = df['C'].map({'N': 0, 'Y': 1})"
   ]
  },
  {
   "cell_type": "markdown",
   "metadata": {},
   "source": [
    "시각화"
   ]
  },
  {
   "cell_type": "code",
   "execution_count": 83,
   "metadata": {},
   "outputs": [],
   "source": [
    "import matplotlib as mpl\n",
    "import seaborn as sns\n",
    "import matplotlib.pyplot as plt\n",
    "import matplotlib.font_manager as fm\n",
    "\n",
    "sns.set(font_scale=1.4)\n",
    "# 맑은 고딕으로 글꼴 설정하기\n",
    "plt.rc('font', family='Malgun Gothic') \n",
    "# 마이너스 기호 문제 해결하기\n",
    "mpl.rcParams['axes.unicode_minus'] = False"
   ]
  },
  {
   "cell_type": "markdown",
   "metadata": {},
   "source": [
    "train, test데이터 분리"
   ]
  },
  {
   "cell_type": "code",
   "execution_count": 156,
   "metadata": {},
   "outputs": [],
   "source": [
    "# 관련 없는 열 분리\n",
    "x=df.drop([''], axis=1)\n",
    "y=df['목표']"
   ]
  },
  {
   "cell_type": "code",
   "execution_count": 157,
   "metadata": {},
   "outputs": [],
   "source": [
    "from sklearn.model_selection import train_test_split\n",
    "\n",
    "# Train, test 데이터 분리\n",
    "X_train, X_test, y_train, y_test = train_test_split(x, y, test_size=0.3, random_state=42)"
   ]
  },
  {
   "cell_type": "markdown",
   "metadata": {},
   "source": [
    "수치형에 대해 min-max 스케일링"
   ]
  },
  {
   "cell_type": "code",
   "execution_count": 158,
   "metadata": {},
   "outputs": [],
   "source": [
    "from sklearn.preprocessing import MinMaxScaler\n",
    "\n",
    "# Min-Max 스케일러 생성\n",
    "scaler = MinMaxScaler()\n",
    "\n",
    "# 수치형 열 선택\n",
    "numeric_cols = ['']\n",
    "\n",
    "# Train 데이터에 Min-Max 스케일링 적용\n",
    "X_train[numeric_cols] = scaler.fit_transform(X_train[numeric_cols])\n",
    "\n",
    "# Test 데이터에는 학습된 스케일러를 사용하여 스케일링 적용\n",
    "X_test[numeric_cols] = scaler.transform(X_test[numeric_cols])"
   ]
  },
  {
   "cell_type": "markdown",
   "metadata": {},
   "source": [
    "의사결정나무"
   ]
  },
  {
   "cell_type": "code",
   "execution_count": 172,
   "metadata": {},
   "outputs": [
    {
     "name": "stdout",
     "output_type": "stream",
     "text": [
      "Train Accuracy: 0.9598\n",
      "Test Accuracy: 0.9571\n"
     ]
    }
   ],
   "source": [
    "from sklearn.tree import DecisionTreeClassifier\n",
    "from sklearn.metrics import accuracy_score\n",
    "\n",
    "# 의사결정나무 모델 초기화\n",
    "clf = DecisionTreeClassifier(max_depth=3,random_state=42)\n",
    "\n",
    "# 모델 학습\n",
    "clf.fit(X_train, y_train)\n",
    "\n",
    "# 예측\n",
    "y_pred_train = clf.predict(X_train)\n",
    "y_pred_test = clf.predict(X_test)\n",
    "\n",
    "# 정확도 출력\n",
    "train_accuracy = accuracy_score(y_train, y_pred_train)\n",
    "test_accuracy = accuracy_score(y_test, y_pred_test)\n",
    "\n",
    "print(f\"Train Accuracy: {train_accuracy:.4f}\")\n",
    "print(f\"Test Accuracy: {test_accuracy:.4f}\")\n"
   ]
  },
  {
   "cell_type": "markdown",
   "metadata": {},
   "source": [
    "Train 정확도와 Test 정확도가 모두 높은 수준으로 나타남"
   ]
  },
  {
   "cell_type": "code",
   "execution_count": null,
   "metadata": {},
   "outputs": [],
   "source": [
    "from sklearn.tree import DecisionTreeClassifier, plot_tree\n",
    "import matplotlib.pyplot as plt\n",
    "\n",
    "# 의사결정나무 모델 생성\n",
    "clf = DecisionTreeClassifier(max_depth=3)\n",
    "clf.fit(X_train, y_train)\n",
    "\n",
    "# 트리 시각화\n",
    "plt.figure(figsize=(20,10))\n",
    "plot_tree(clf, filled=True, feature_names=X_train.columns, class_names=['0', '1'])\n",
    "plt.show()\n"
   ]
  },
  {
   "cell_type": "markdown",
   "metadata": {},
   "source": [
    "특성 중요도"
   ]
  },
  {
   "cell_type": "code",
   "execution_count": null,
   "metadata": {},
   "outputs": [],
   "source": [
    "import pandas as pd\n",
    "import matplotlib.pyplot as plt\n",
    "\n",
    "# 특성 중요도 추출\n",
    "feature_importance = clf.feature_importances_\n",
    "\n",
    "# 특성명과 중요도를 데이터프레임으로 변환\n",
    "feature_importance_df = pd.DataFrame({'Feature': X_train.columns, 'Importance': feature_importance})\n",
    "\n",
    "# 중요도 순으로 정렬\n",
    "feature_importance_df = feature_importance_df.sort_values(by='Importance', ascending=False)\n",
    "\n",
    "# 중요도 표시\n",
    "print(feature_importance_df)\n",
    "\n",
    "# 중요도 정렬\n",
    "feature_importance_df = feature_importance_df.sort_values(by='Importance', ascending=True)\n",
    "\n",
    "\n",
    "# 중요도 시각화\n",
    "plt.figure(figsize=(10, 6))\n",
    "plt.barh(feature_importance_df['Feature'], feature_importance_df['Importance'])\n",
    "plt.xlabel('Importance')\n",
    "plt.title('Feature Importance')\n",
    "plt.show()\n"
   ]
  },
  {
   "cell_type": "code",
   "execution_count": 199,
   "metadata": {},
   "outputs": [],
   "source": [
    "from imblearn.over_sampling import RandomOverSampler\n",
    "ros = RandomOverSampler()"
   ]
  },
  {
   "cell_type": "code",
   "execution_count": 200,
   "metadata": {},
   "outputs": [],
   "source": [
    "X_ros, y_ros = ros.fit_resample(X_train, y_train)"
   ]
  },
  {
   "cell_type": "code",
   "execution_count": 201,
   "metadata": {},
   "outputs": [],
   "source": [
    "from sklearn import tree\n",
    "DT = tree.DecisionTreeClassifier()\n",
    "DT.fit(X_ros, y_ros)\n",
    "y_pred=DT.predict(X_test)"
   ]
  },
  {
   "cell_type": "code",
   "execution_count": 202,
   "metadata": {},
   "outputs": [],
   "source": [
    "from sklearn.metrics import accuracy_score, precision_score, recall_score, f1_score, roc_curve, auc, classification_report"
   ]
  },
  {
   "cell_type": "code",
   "execution_count": 203,
   "metadata": {},
   "outputs": [
    {
     "name": "stdout",
     "output_type": "stream",
     "text": [
      "0.9209932279909706\n",
      "0.5188368917576961\n",
      "0.5188368917576961\n"
     ]
    }
   ],
   "source": [
    "print(accuracy_score(y_test, y_pred))\n",
    "\n",
    "print(precision_score(y_test, y_pred, average='macro'))\n",
    "\n",
    "print(recall_score(y_test, y_pred, average='macro'))"
   ]
  },
  {
   "cell_type": "code",
   "execution_count": 205,
   "metadata": {},
   "outputs": [
    {
     "name": "stdout",
     "output_type": "stream",
     "text": [
      "              precision    recall  f1-score   support\n",
      "\n",
      "           0       0.96      0.96      0.96       848\n",
      "           1       0.08      0.08      0.08        38\n",
      "\n",
      "    accuracy                           0.92       886\n",
      "   macro avg       0.52      0.52      0.52       886\n",
      "weighted avg       0.92      0.92      0.92       886\n",
      "\n"
     ]
    }
   ],
   "source": [
    "report = classification_report(y_test, y_pred)\n",
    "print(report)"
   ]
  },
  {
   "cell_type": "code",
   "execution_count": 207,
   "metadata": {},
   "outputs": [
    {
     "data": {
      "text/plain": [
       "array([[1., 0.],\n",
       "       [1., 0.],\n",
       "       [1., 0.],\n",
       "       ...,\n",
       "       [1., 0.],\n",
       "       [1., 0.],\n",
       "       [1., 0.]])"
      ]
     },
     "execution_count": 207,
     "metadata": {},
     "output_type": "execute_result"
    }
   ],
   "source": [
    "DT.predict_proba(X_test)"
   ]
  }
 ],
 "metadata": {
  "kernelspec": {
   "display_name": "base",
   "language": "python",
   "name": "python3"
  },
  "language_info": {
   "codemirror_mode": {
    "name": "ipython",
    "version": 3
   },
   "file_extension": ".py",
   "mimetype": "text/x-python",
   "name": "python",
   "nbconvert_exporter": "python",
   "pygments_lexer": "ipython3",
   "version": "3.11.5"
  }
 },
 "nbformat": 4,
 "nbformat_minor": 2
}
