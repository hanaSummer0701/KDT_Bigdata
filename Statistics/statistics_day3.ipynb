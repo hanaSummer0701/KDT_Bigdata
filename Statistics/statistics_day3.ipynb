{
 "cells": [
  {
   "cell_type": "code",
   "execution_count": 2,
   "metadata": {},
   "outputs": [],
   "source": [
    "import pandas as pd"
   ]
  },
  {
   "cell_type": "markdown",
   "metadata": {},
   "source": [
    "## 1. 상관분석 (Correlation Analysis)"
   ]
  },
  {
   "cell_type": "code",
   "execution_count": 11,
   "metadata": {},
   "outputs": [
    {
     "name": "stdout",
     "output_type": "stream",
     "text": [
      "   Feature1  Feature2\n",
      "0  1.764052  0.728734\n",
      "1  0.400157  0.028882\n",
      "2  0.978738  0.493982\n",
      "3  2.240893  1.024609\n",
      "4  1.867558  0.925698\n"
     ]
    }
   ],
   "source": [
    "# 상관분석 위한 임의의 데이터셋 생성\n",
    "import pandas as pd\n",
    "import numpy as np\n",
    "\n",
    "# 임의의 데이터셋 생성\n",
    "np.random.seed(0)  # 재현 가능성을 위해 시드 설정\n",
    "\n",
    "# 임의의 특성 생성\n",
    "num_samples = 1000\n",
    "feature1 = np.random.normal(loc=0, scale=1, size=num_samples)\n",
    "feature2 = np.random.normal(loc=0, scale=1, size=num_samples)\n",
    "\n",
    "# 임의의 상관관계 추가\n",
    "# 여기서는 feature2가 feature1에 선형적으로 의존하도록 설정합니다.\n",
    "# 이 예시에서는 단순한 선형 관계를 나타내기 위해 상수 0.5를 사용합니다.\n",
    "feature2 = feature1 * 0.5 + np.random.normal(loc=0, scale=0.1, size=num_samples)\n",
    "\n",
    "# 데이터프레임 생성\n",
    "data = pd.DataFrame({'Feature1': feature1, 'Feature2': feature2})\n",
    "\n",
    "# 데이터셋 확인\n",
    "print(data.head())"
   ]
  },
  {
   "cell_type": "code",
   "execution_count": 14,
   "metadata": {},
   "outputs": [
    {
     "name": "stdout",
     "output_type": "stream",
     "text": [
      "Feature1, Feature2 공분산: 0.4840522514521764\n"
     ]
    }
   ],
   "source": [
    "# 공분산 구하기\n",
    "covariance = data['Feature1'].cov(data['Feature2'])\n",
    "print('Feature1, Feature2 공분산:', covariance)"
   ]
  },
  {
   "cell_type": "code",
   "execution_count": 15,
   "metadata": {},
   "outputs": [
    {
     "name": "stdout",
     "output_type": "stream",
     "text": [
      "Feature1, Feature2의 피어슨 상관계수: 0.9815847805\n",
      "귀무가설 기각. 통계적으로 유의미한 연관성이 있음.\n"
     ]
    }
   ],
   "source": [
    "# 피어슨 상관계수와 p값\n",
    "from scipy.stats import pearsonr\n",
    "pearson_corr, p_value = pearsonr(data['Feature1'], data['Feature2'])\n",
    "print('Feature1, Feature2의 피어슨 상관계수:', f\"{pearson_corr:.10f}\")\n",
    "\n",
    "alpha = 0.05\n",
    "\n",
    "if p_value < alpha:\n",
    "    print(\"귀무가설 기각. 통계적으로 유의미한 연관성이 있음.\")\n",
    "else:\n",
    "    print(\"귀무가설 기각할 수 없음. 통계적으로 유의미한 연관성이 없음.\")"
   ]
  },
  {
   "cell_type": "markdown",
   "metadata": {},
   "source": [
    "## 2. 선형회귀 (Linear Regression)"
   ]
  },
  {
   "cell_type": "markdown",
   "metadata": {},
   "source": [
    "#### 1) 단순선형회귀(Simple Linear Regression)"
   ]
  },
  {
   "cell_type": "code",
   "execution_count": 3,
   "metadata": {},
   "outputs": [
    {
     "data": {
      "text/html": [
       "<div>\n",
       "<style scoped>\n",
       "    .dataframe tbody tr th:only-of-type {\n",
       "        vertical-align: middle;\n",
       "    }\n",
       "\n",
       "    .dataframe tbody tr th {\n",
       "        vertical-align: top;\n",
       "    }\n",
       "\n",
       "    .dataframe thead th {\n",
       "        text-align: right;\n",
       "    }\n",
       "</style>\n",
       "<table border=\"1\" class=\"dataframe\">\n",
       "  <thead>\n",
       "    <tr style=\"text-align: right;\">\n",
       "      <th></th>\n",
       "      <th>Temperature</th>\n",
       "      <th>Ice Cream Profits</th>\n",
       "    </tr>\n",
       "  </thead>\n",
       "  <tbody>\n",
       "    <tr>\n",
       "      <th>0</th>\n",
       "      <td>39</td>\n",
       "      <td>13.17</td>\n",
       "    </tr>\n",
       "    <tr>\n",
       "      <th>1</th>\n",
       "      <td>40</td>\n",
       "      <td>11.88</td>\n",
       "    </tr>\n",
       "    <tr>\n",
       "      <th>2</th>\n",
       "      <td>41</td>\n",
       "      <td>18.82</td>\n",
       "    </tr>\n",
       "    <tr>\n",
       "      <th>3</th>\n",
       "      <td>42</td>\n",
       "      <td>18.65</td>\n",
       "    </tr>\n",
       "    <tr>\n",
       "      <th>4</th>\n",
       "      <td>43</td>\n",
       "      <td>17.02</td>\n",
       "    </tr>\n",
       "  </tbody>\n",
       "</table>\n",
       "</div>"
      ],
      "text/plain": [
       "   Temperature  Ice Cream Profits\n",
       "0           39              13.17\n",
       "1           40              11.88\n",
       "2           41              18.82\n",
       "3           42              18.65\n",
       "4           43              17.02"
      ]
     },
     "execution_count": 3,
     "metadata": {},
     "output_type": "execute_result"
    }
   ],
   "source": [
    "ice = pd.read_csv(r\"C:\\Users\\hana9\\OneDrive\\바탕 화면\\빅데이터_7\\archive\\Ice Cream Sales - temperatures.csv\")\n",
    "ice.head()"
   ]
  },
  {
   "cell_type": "code",
   "execution_count": 4,
   "metadata": {},
   "outputs": [
    {
     "data": {
      "text/plain": [
       "Temperature            int64\n",
       "Ice Cream Profits    float64\n",
       "dtype: object"
      ]
     },
     "execution_count": 4,
     "metadata": {},
     "output_type": "execute_result"
    }
   ],
   "source": [
    "ice.dtypes"
   ]
  },
  {
   "cell_type": "code",
   "execution_count": 5,
   "metadata": {},
   "outputs": [
    {
     "data": {
      "text/plain": [
       "Text(0, 0.5, 'Ice Cream Profits')"
      ]
     },
     "execution_count": 5,
     "metadata": {},
     "output_type": "execute_result"
    },
    {
     "data": {
      "image/png": "[encoded data removed]",
      "text/plain": [
       "<Figure size 640x480 with 1 Axes>"
      ]
     },
     "metadata": {},
     "output_type": "display_data"
    }
   ],
   "source": [
    "import matplotlib.pyplot as plt\n",
    "plt.scatter(ice[\"Temperature\"], ice[\"Ice Cream Profits\"])\n",
    "plt.xlabel(\"Temperature\")\n",
    "plt.ylabel(\"Ice Cream Profits\")"
   ]
  },
  {
   "cell_type": "code",
   "execution_count": 7,
   "metadata": {},
   "outputs": [
    {
     "name": "stdout",
     "output_type": "stream",
     "text": [
      "R-squared: 0.9770249461722685\n",
      "                            OLS Regression Results                            \n",
      "==============================================================================\n",
      "Dep. Variable:      Ice Cream Profits   R-squared:                       0.977\n",
      "Model:                            OLS   Adj. R-squared:                  0.977\n",
      "Method:                 Least Squares   F-statistic:                 1.544e+04\n",
      "Date:                Wed, 15 May 2024   Prob (F-statistic):          1.57e-299\n",
      "Time:                        22:47:45   Log-Likelihood:                -840.52\n",
      "No. Observations:                 365   AIC:                             1685.\n",
      "Df Residuals:                     363   BIC:                             1693.\n",
      "Df Model:                           1                                         \n",
      "Covariance Type:            nonrobust                                         \n",
      "===============================================================================\n",
      "                  coef    std err          t      P>|t|      [0.025      0.975]\n",
      "-------------------------------------------------------------------------------\n",
      "const         -33.6982      0.702    -47.991      0.000     -35.079     -32.317\n",
      "Temperature     1.1920      0.010    124.245      0.000       1.173       1.211\n",
      "==============================================================================\n",
      "Omnibus:                        2.964   Durbin-Watson:                   2.070\n",
      "Prob(Omnibus):                  0.227   Jarque-Bera (JB):                3.089\n",
      "Skew:                          -0.082   Prob(JB):                        0.213\n",
      "Kurtosis:                       3.420   Cond. No.                         405.\n",
      "==============================================================================\n",
      "\n",
      "Notes:\n",
      "[1] Standard Errors assume that the covariance matrix of the errors is correctly specified.\n"
     ]
    }
   ],
   "source": [
    "import statsmodels.api as sm\n",
    "from sklearn.metrics import mean_absolute_error, mean_squared_error\n",
    "\n",
    "# 독립변수 X, 종속변수 Y\n",
    "X = ice['Temperature']\n",
    "Y = ice['Ice Cream Profits']\n",
    "\n",
    "# 상수항 추가\n",
    "X = sm.add_constant(X)\n",
    "\n",
    "# OLS model에 fit\n",
    "model = sm.OLS(Y,X).fit()\n",
    "\n",
    "# 예측\n",
    "y_pred = model.predict(X)\n",
    "\n",
    "# R-squared 계산\n",
    "r_squared = model.rsquared\n",
    "\n",
    "# 모델 요약\n",
    "summary = model.summary()\n",
    "\n",
    "print(\"R-squared:\", r_squared)\n",
    "print(summary)"
   ]
  },
  {
   "cell_type": "markdown",
   "metadata": {},
   "source": [
    "#### 다른 방법 사용-LinearRegression"
   ]
  },
  {
   "cell_type": "code",
   "execution_count": 8,
   "metadata": {},
   "outputs": [
    {
     "name": "stdout",
     "output_type": "stream",
     "text": [
      "[36.54243613]\n"
     ]
    },
    {
     "name": "stderr",
     "output_type": "stream",
     "text": [
      "C:\\Users\\hana9\\AppData\\Local\\Packages\\PythonSoftwareFoundation.Python.3.11_qbz5n2kfra8p0\\LocalCache\\local-packages\\Python311\\site-packages\\sklearn\\base.py:493: UserWarning: X does not have valid feature names, but LinearRegression was fitted with feature names\n",
      "  warnings.warn(\n"
     ]
    }
   ],
   "source": [
    "from sklearn.model_selection import train_test_split\n",
    "from sklearn.linear_model import LinearRegression\n",
    "\n",
    "# X와 y 데이터 설정\n",
    "X = ice.iloc[:, 0:1]  # 독립 변수로는 첫 번째 열을 사용합니다.\n",
    "y = ice.iloc[:, -1]   # 종속 변수로는 마지막 열을 사용합니다.\n",
    "\n",
    "# 데이터를 훈련 세트와 테스트 세트로 분할합니다.\n",
    "X_train, X_test, y_train, y_test = train_test_split(X, y, test_size=0.2, random_state=2)\n",
    "# train_test_split 함수는 데이터를 주어진 비율에 따라 훈련 세트와 테스트 세트로 나눕니다.\n",
    "# test_size=0.2는 테스트 세트의 비율을 나타냅니다. 여기서는 20%를 테스트 세트로 사용합니다.\n",
    "# random_state는 데이터를 분할할 때 셔플링을 위한 시드 값입니다. 동일한 시드를 사용하면 결과가 항상 같게 됩니다.\n",
    "\n",
    "# 선형 회귀 모델 생성 및 훈련\n",
    "lr = LinearRegression()  # 선형 회귀 모델 객체를 생성합니다.\n",
    "lr.fit(X_train, y_train)  # 훈련 세트를 사용하여 모델을 훈련합니다.\n",
    "\n",
    "# 테스트 데이터의 첫 번째 샘플을 이용하여 예측\n",
    "prediction = lr.predict(X_test.iloc[0].values.reshape(1,1))\n",
    "# predict 메서드를 사용하여 테스트 세트의 첫 번째 샘플에 대한 예측을 수행합니다.\n",
    "# 여기서 X_test.iloc[0].values.reshape(1,1)는 예측할 데이터를 모델에 전달하기 위해 형태를 변환해주는 과정입니다.\n",
    "# X_test.iloc[0]은 첫 번째 샘플을 의미하며, .values는 해당 샘플의 값을 추출합니다.\n",
    "# reshape(1,1)은 해당 값을 모델에 전달하기 위해 2차원 배열로 변환합니다.\n",
    "\n",
    "# 예측 결과 출력\n",
    "print(prediction)\n"
   ]
  },
  {
   "cell_type": "code",
   "execution_count": 9,
   "metadata": {},
   "outputs": [
    {
     "data": {
      "text/plain": [
       "Text(0, 0.5, 'Ice Cream Profits')"
      ]
     },
     "execution_count": 9,
     "metadata": {},
     "output_type": "execute_result"
    },
    {
     "data": {
      "image/png": "[encoded data removed]",
      "text/plain": [
       "<Figure size 640x480 with 1 Axes>"
      ]
     },
     "metadata": {},
     "output_type": "display_data"
    }
   ],
   "source": [
    "plt.scatter(ice[\"Temperature\"], ice[\"Ice Cream Profits\"])\n",
    "plt.plot(X_train, lr.predict(X_train), color='red')\n",
    "plt.xlabel(\"Temperature\")\n",
    "plt.ylabel(\"Ice Cream Profits\")"
   ]
  },
  {
   "cell_type": "markdown",
   "metadata": {},
   "source": [
    "#### 2) 다중선형회귀(Multiple Linear Regression)"
   ]
  },
  {
   "cell_type": "code",
   "execution_count": 16,
   "metadata": {},
   "outputs": [
    {
     "data": {
      "text/html": [
       "<div>\n",
       "<style scoped>\n",
       "    .dataframe tbody tr th:only-of-type {\n",
       "        vertical-align: middle;\n",
       "    }\n",
       "\n",
       "    .dataframe tbody tr th {\n",
       "        vertical-align: top;\n",
       "    }\n",
       "\n",
       "    .dataframe thead th {\n",
       "        text-align: right;\n",
       "    }\n",
       "</style>\n",
       "<table border=\"1\" class=\"dataframe\">\n",
       "  <thead>\n",
       "    <tr style=\"text-align: right;\">\n",
       "      <th></th>\n",
       "      <th>R&amp;D Spend</th>\n",
       "      <th>Administration</th>\n",
       "      <th>Marketing Spend</th>\n",
       "      <th>State</th>\n",
       "      <th>Profit</th>\n",
       "    </tr>\n",
       "  </thead>\n",
       "  <tbody>\n",
       "    <tr>\n",
       "      <th>0</th>\n",
       "      <td>165349.20</td>\n",
       "      <td>136897.80</td>\n",
       "      <td>471784.10</td>\n",
       "      <td>New York</td>\n",
       "      <td>192261.83</td>\n",
       "    </tr>\n",
       "    <tr>\n",
       "      <th>1</th>\n",
       "      <td>162597.70</td>\n",
       "      <td>151377.59</td>\n",
       "      <td>443898.53</td>\n",
       "      <td>California</td>\n",
       "      <td>191792.06</td>\n",
       "    </tr>\n",
       "    <tr>\n",
       "      <th>2</th>\n",
       "      <td>153441.51</td>\n",
       "      <td>101145.55</td>\n",
       "      <td>407934.54</td>\n",
       "      <td>Florida</td>\n",
       "      <td>191050.39</td>\n",
       "    </tr>\n",
       "    <tr>\n",
       "      <th>3</th>\n",
       "      <td>144372.41</td>\n",
       "      <td>118671.85</td>\n",
       "      <td>383199.62</td>\n",
       "      <td>New York</td>\n",
       "      <td>182901.99</td>\n",
       "    </tr>\n",
       "    <tr>\n",
       "      <th>4</th>\n",
       "      <td>142107.34</td>\n",
       "      <td>91391.77</td>\n",
       "      <td>366168.42</td>\n",
       "      <td>Florida</td>\n",
       "      <td>166187.94</td>\n",
       "    </tr>\n",
       "  </tbody>\n",
       "</table>\n",
       "</div>"
      ],
      "text/plain": [
       "   R&D Spend  Administration  Marketing Spend       State     Profit\n",
       "0  165349.20       136897.80        471784.10    New York  192261.83\n",
       "1  162597.70       151377.59        443898.53  California  191792.06\n",
       "2  153441.51       101145.55        407934.54     Florida  191050.39\n",
       "3  144372.41       118671.85        383199.62    New York  182901.99\n",
       "4  142107.34        91391.77        366168.42     Florida  166187.94"
      ]
     },
     "execution_count": 16,
     "metadata": {},
     "output_type": "execute_result"
    }
   ],
   "source": [
    "startup = pd.read_csv(r\"C:\\Users\\hana9\\OneDrive\\바탕 화면\\빅데이터_7\\50_Startups.csv\")\n",
    "startup.head()"
   ]
  },
  {
   "cell_type": "code",
   "execution_count": 19,
   "metadata": {},
   "outputs": [
    {
     "data": {
      "text/plain": [
       "R&D Spend          float64\n",
       "Administration     float64\n",
       "Marketing Spend    float64\n",
       "State               object\n",
       "Profit             float64\n",
       "dtype: object"
      ]
     },
     "execution_count": 19,
     "metadata": {},
     "output_type": "execute_result"
    }
   ],
   "source": [
    "startup.dtypes"
   ]
  },
  {
   "cell_type": "code",
   "execution_count": 20,
   "metadata": {},
   "outputs": [
    {
     "name": "stdout",
     "output_type": "stream",
     "text": [
      "R-squared: 0.9507459940683246\n",
      "                            OLS Regression Results                            \n",
      "==============================================================================\n",
      "Dep. Variable:                 Profit   R-squared:                       0.951\n",
      "Model:                            OLS   Adj. R-squared:                  0.948\n",
      "Method:                 Least Squares   F-statistic:                     296.0\n",
      "Date:                Wed, 15 May 2024   Prob (F-statistic):           4.53e-30\n",
      "Time:                        23:10:46   Log-Likelihood:                -525.39\n",
      "No. Observations:                  50   AIC:                             1059.\n",
      "Df Residuals:                      46   BIC:                             1066.\n",
      "Df Model:                           3                                         \n",
      "Covariance Type:            nonrobust                                         \n",
      "===================================================================================\n",
      "                      coef    std err          t      P>|t|      [0.025      0.975]\n",
      "-----------------------------------------------------------------------------------\n",
      "const             1.12e+05   1305.649     85.791      0.000    1.09e+05    1.15e+05\n",
      "R&D Spend        3.661e+04   2051.533     17.846      0.000    3.25e+04    4.07e+04\n",
      "Administration   -743.7733   1415.345     -0.526      0.602   -3592.715    2105.168\n",
      "Marketing Spend  3296.2630   1991.607      1.655      0.105    -712.633    7305.159\n",
      "==============================================================================\n",
      "Omnibus:                       14.838   Durbin-Watson:                   1.282\n",
      "Prob(Omnibus):                  0.001   Jarque-Bera (JB):               21.442\n",
      "Skew:                          -0.949   Prob(JB):                     2.21e-05\n",
      "Kurtosis:                       5.586   Cond. No.                         2.78\n",
      "==============================================================================\n",
      "\n",
      "Notes:\n",
      "[1] Standard Errors assume that the covariance matrix of the errors is correctly specified.\n"
     ]
    }
   ],
   "source": [
    "import pandas as pd\n",
    "import numpy as np\n",
    "import statsmodels.api as sm\n",
    "from sklearn.metrics import mean_absolute_error, mean_squared_error\n",
    "from sklearn.preprocessing import StandardScaler\n",
    "\n",
    "# 독립 변수(X), 종속 변수(Y)\n",
    "X=startup[['R&D Spend', 'Administration', 'Marketing Spend']]\n",
    "Y=startup['Profit']\n",
    "\n",
    "# 스케일링 이전의 원래 열 이름 가져오기\n",
    "original_column_names = list(X.columns)\n",
    "original_column_names.insert(0, 'const') \n",
    "\n",
    "# 특성을 표준화\n",
    "scaler = StandardScaler()\n",
    "X_scaled = scaler.fit_transform(X)\n",
    "# 입력에 상수항 추가\n",
    "X_scaled = sm.add_constant(X_scaled)\n",
    "# OLS model에 핏\n",
    "model = sm.OLS(Y, X_scaled).fit()\n",
    "\n",
    "# R-squared 계산\n",
    "r_squared = model.rsquared\n",
    "\n",
    "# Summary\n",
    "summary = model.summary(xname=original_column_names)\n",
    "\n",
    "print(\"R-squared:\", r_squared)\n",
    "print(summary)"
   ]
  },
  {
   "cell_type": "markdown",
   "metadata": {},
   "source": [
    "#### 다른 방법 사용-Multiple Linear Regression"
   ]
  },
  {
   "cell_type": "code",
   "execution_count": 21,
   "metadata": {},
   "outputs": [
    {
     "name": "stdout",
     "output_type": "stream",
     "text": [
      "Mean Squared Error: 80926321.2229516\n"
     ]
    }
   ],
   "source": [
    "import pandas as pd\n",
    "from sklearn.model_selection import train_test_split\n",
    "from sklearn.linear_model import LinearRegression\n",
    "from sklearn.metrics import mean_squared_error\n",
    "\n",
    "# 독립 변수와 종속 변수 설정\n",
    "X = startup[['R&D Spend', 'Administration', 'Marketing Spend']]  # 독립 변수\n",
    "y = startup['Profit']  # 종속 변수\n",
    "\n",
    "# 더미 변수 생성 (카테고리형 변수 State를 더미 변수로 변환)\n",
    "X = pd.get_dummies(X, drop_first=True)\n",
    "\n",
    "# 훈련 세트와 테스트 세트로 분할\n",
    "X_train, X_test, y_train, y_test = train_test_split(X, y, test_size=0.2, random_state=42)\n",
    "\n",
    "# 다중 선형 회귀 모델 생성 및 훈련\n",
    "model = LinearRegression()\n",
    "model.fit(X_train, y_train)\n",
    "\n",
    "# 테스트 데이터로 예측\n",
    "y_pred = model.predict(X_test)\n",
    "\n",
    "# 모델 평가\n",
    "mse = mean_squared_error(y_test, y_pred)\n",
    "print(\"Mean Squared Error:\", mse)\n"
   ]
  },
  {
   "cell_type": "markdown",
   "metadata": {},
   "source": [
    "#### 3) 로지스틱 회귀(Logistic Regression)"
   ]
  },
  {
   "cell_type": "code",
   "execution_count": 43,
   "metadata": {},
   "outputs": [
    {
     "data": {
      "text/html": [
       "<div>\n",
       "<style scoped>\n",
       "    .dataframe tbody tr th:only-of-type {\n",
       "        vertical-align: middle;\n",
       "    }\n",
       "\n",
       "    .dataframe tbody tr th {\n",
       "        vertical-align: top;\n",
       "    }\n",
       "\n",
       "    .dataframe thead th {\n",
       "        text-align: right;\n",
       "    }\n",
       "</style>\n",
       "<table border=\"1\" class=\"dataframe\">\n",
       "  <thead>\n",
       "    <tr style=\"text-align: right;\">\n",
       "      <th></th>\n",
       "      <th>Clump Thickness</th>\n",
       "      <th>Uniformity of Cell Size</th>\n",
       "      <th>Uniformity of Cell Shape</th>\n",
       "      <th>Marginal Adhesion</th>\n",
       "      <th>Single Epithelial Cell Size</th>\n",
       "      <th>Bare Nuclei</th>\n",
       "      <th>Bland Chromatin</th>\n",
       "      <th>Normal Nucleoli</th>\n",
       "      <th>Mitoses</th>\n",
       "      <th>Class</th>\n",
       "    </tr>\n",
       "  </thead>\n",
       "  <tbody>\n",
       "    <tr>\n",
       "      <th>0</th>\n",
       "      <td>5</td>\n",
       "      <td>1</td>\n",
       "      <td>1</td>\n",
       "      <td>1</td>\n",
       "      <td>2</td>\n",
       "      <td>1</td>\n",
       "      <td>3</td>\n",
       "      <td>1</td>\n",
       "      <td>1</td>\n",
       "      <td>2</td>\n",
       "    </tr>\n",
       "    <tr>\n",
       "      <th>1</th>\n",
       "      <td>5</td>\n",
       "      <td>4</td>\n",
       "      <td>4</td>\n",
       "      <td>5</td>\n",
       "      <td>7</td>\n",
       "      <td>10</td>\n",
       "      <td>3</td>\n",
       "      <td>2</td>\n",
       "      <td>1</td>\n",
       "      <td>2</td>\n",
       "    </tr>\n",
       "    <tr>\n",
       "      <th>2</th>\n",
       "      <td>3</td>\n",
       "      <td>1</td>\n",
       "      <td>1</td>\n",
       "      <td>1</td>\n",
       "      <td>2</td>\n",
       "      <td>2</td>\n",
       "      <td>3</td>\n",
       "      <td>1</td>\n",
       "      <td>1</td>\n",
       "      <td>2</td>\n",
       "    </tr>\n",
       "    <tr>\n",
       "      <th>3</th>\n",
       "      <td>6</td>\n",
       "      <td>8</td>\n",
       "      <td>8</td>\n",
       "      <td>1</td>\n",
       "      <td>3</td>\n",
       "      <td>4</td>\n",
       "      <td>3</td>\n",
       "      <td>7</td>\n",
       "      <td>1</td>\n",
       "      <td>2</td>\n",
       "    </tr>\n",
       "    <tr>\n",
       "      <th>4</th>\n",
       "      <td>4</td>\n",
       "      <td>1</td>\n",
       "      <td>1</td>\n",
       "      <td>3</td>\n",
       "      <td>2</td>\n",
       "      <td>1</td>\n",
       "      <td>3</td>\n",
       "      <td>1</td>\n",
       "      <td>1</td>\n",
       "      <td>2</td>\n",
       "    </tr>\n",
       "    <tr>\n",
       "      <th>...</th>\n",
       "      <td>...</td>\n",
       "      <td>...</td>\n",
       "      <td>...</td>\n",
       "      <td>...</td>\n",
       "      <td>...</td>\n",
       "      <td>...</td>\n",
       "      <td>...</td>\n",
       "      <td>...</td>\n",
       "      <td>...</td>\n",
       "      <td>...</td>\n",
       "    </tr>\n",
       "    <tr>\n",
       "      <th>678</th>\n",
       "      <td>3</td>\n",
       "      <td>1</td>\n",
       "      <td>1</td>\n",
       "      <td>1</td>\n",
       "      <td>3</td>\n",
       "      <td>2</td>\n",
       "      <td>1</td>\n",
       "      <td>1</td>\n",
       "      <td>1</td>\n",
       "      <td>2</td>\n",
       "    </tr>\n",
       "    <tr>\n",
       "      <th>679</th>\n",
       "      <td>2</td>\n",
       "      <td>1</td>\n",
       "      <td>1</td>\n",
       "      <td>1</td>\n",
       "      <td>2</td>\n",
       "      <td>1</td>\n",
       "      <td>1</td>\n",
       "      <td>1</td>\n",
       "      <td>1</td>\n",
       "      <td>2</td>\n",
       "    </tr>\n",
       "    <tr>\n",
       "      <th>680</th>\n",
       "      <td>5</td>\n",
       "      <td>10</td>\n",
       "      <td>10</td>\n",
       "      <td>3</td>\n",
       "      <td>7</td>\n",
       "      <td>3</td>\n",
       "      <td>8</td>\n",
       "      <td>10</td>\n",
       "      <td>2</td>\n",
       "      <td>4</td>\n",
       "    </tr>\n",
       "    <tr>\n",
       "      <th>681</th>\n",
       "      <td>4</td>\n",
       "      <td>8</td>\n",
       "      <td>6</td>\n",
       "      <td>4</td>\n",
       "      <td>3</td>\n",
       "      <td>4</td>\n",
       "      <td>10</td>\n",
       "      <td>6</td>\n",
       "      <td>1</td>\n",
       "      <td>4</td>\n",
       "    </tr>\n",
       "    <tr>\n",
       "      <th>682</th>\n",
       "      <td>4</td>\n",
       "      <td>8</td>\n",
       "      <td>8</td>\n",
       "      <td>5</td>\n",
       "      <td>4</td>\n",
       "      <td>5</td>\n",
       "      <td>10</td>\n",
       "      <td>4</td>\n",
       "      <td>1</td>\n",
       "      <td>4</td>\n",
       "    </tr>\n",
       "  </tbody>\n",
       "</table>\n",
       "<p>683 rows × 10 columns</p>\n",
       "</div>"
      ],
      "text/plain": [
       "     Clump Thickness  Uniformity of Cell Size  Uniformity of Cell Shape  \\\n",
       "0                  5                        1                         1   \n",
       "1                  5                        4                         4   \n",
       "2                  3                        1                         1   \n",
       "3                  6                        8                         8   \n",
       "4                  4                        1                         1   \n",
       "..               ...                      ...                       ...   \n",
       "678                3                        1                         1   \n",
       "679                2                        1                         1   \n",
       "680                5                       10                        10   \n",
       "681                4                        8                         6   \n",
       "682                4                        8                         8   \n",
       "\n",
       "     Marginal Adhesion  Single Epithelial Cell Size  Bare Nuclei  \\\n",
       "0                    1                            2            1   \n",
       "1                    5                            7           10   \n",
       "2                    1                            2            2   \n",
       "3                    1                            3            4   \n",
       "4                    3                            2            1   \n",
       "..                 ...                          ...          ...   \n",
       "678                  1                            3            2   \n",
       "679                  1                            2            1   \n",
       "680                  3                            7            3   \n",
       "681                  4                            3            4   \n",
       "682                  5                            4            5   \n",
       "\n",
       "     Bland Chromatin  Normal Nucleoli  Mitoses  Class  \n",
       "0                  3                1        1      2  \n",
       "1                  3                2        1      2  \n",
       "2                  3                1        1      2  \n",
       "3                  3                7        1      2  \n",
       "4                  3                1        1      2  \n",
       "..               ...              ...      ...    ...  \n",
       "678                1                1        1      2  \n",
       "679                1                1        1      2  \n",
       "680                8               10        2      4  \n",
       "681               10                6        1      4  \n",
       "682               10                4        1      4  \n",
       "\n",
       "[683 rows x 10 columns]"
      ]
     },
     "execution_count": 43,
     "metadata": {},
     "output_type": "execute_result"
    }
   ],
   "source": [
    "cancer = pd.read_csv(r\"C:\\Users\\hana9\\OneDrive\\바탕 화면\\빅데이터_7\\breast_cancer.csv\")\n",
    "cancer"
   ]
  },
  {
   "cell_type": "code",
   "execution_count": 44,
   "metadata": {},
   "outputs": [
    {
     "data": {
      "text/plain": [
       "array([2, 4], dtype=int64)"
      ]
     },
     "execution_count": 44,
     "metadata": {},
     "output_type": "execute_result"
    }
   ],
   "source": [
    "cancer['Class'].unique()"
   ]
  },
  {
   "cell_type": "code",
   "execution_count": 45,
   "metadata": {},
   "outputs": [],
   "source": [
    "# 2,4를 0,1로 변경\n",
    "cancer['Class'] = cancer['Class'].replace({2: 0, 4: 1})"
   ]
  },
  {
   "cell_type": "code",
   "execution_count": 46,
   "metadata": {},
   "outputs": [
    {
     "data": {
      "text/plain": [
       "array([0, 1], dtype=int64)"
      ]
     },
     "execution_count": 46,
     "metadata": {},
     "output_type": "execute_result"
    }
   ],
   "source": [
    "cancer['Class'].unique()"
   ]
  },
  {
   "cell_type": "code",
   "execution_count": 47,
   "metadata": {},
   "outputs": [
    {
     "data": {
      "text/plain": [
       "Clump Thickness                0\n",
       "Uniformity of Cell Size        0\n",
       "Uniformity of Cell Shape       0\n",
       "Marginal Adhesion              0\n",
       "Single Epithelial Cell Size    0\n",
       "Bare Nuclei                    0\n",
       "Bland Chromatin                0\n",
       "Normal Nucleoli                0\n",
       "Mitoses                        0\n",
       "Class                          0\n",
       "dtype: int64"
      ]
     },
     "execution_count": 47,
     "metadata": {},
     "output_type": "execute_result"
    }
   ],
   "source": [
    "cancer.isnull().sum()"
   ]
  },
  {
   "cell_type": "code",
   "execution_count": 48,
   "metadata": {},
   "outputs": [
    {
     "data": {
      "text/plain": [
       "Clump Thickness                int64\n",
       "Uniformity of Cell Size        int64\n",
       "Uniformity of Cell Shape       int64\n",
       "Marginal Adhesion              int64\n",
       "Single Epithelial Cell Size    int64\n",
       "Bare Nuclei                    int64\n",
       "Bland Chromatin                int64\n",
       "Normal Nucleoli                int64\n",
       "Mitoses                        int64\n",
       "Class                          int64\n",
       "dtype: object"
      ]
     },
     "execution_count": 48,
     "metadata": {},
     "output_type": "execute_result"
    }
   ],
   "source": [
    "cancer.dtypes"
   ]
  },
  {
   "cell_type": "code",
   "execution_count": 49,
   "metadata": {},
   "outputs": [
    {
     "name": "stdout",
     "output_type": "stream",
     "text": [
      "Index(['Clump Thickness', 'Uniformity of Cell Size',\n",
      "       'Uniformity of Cell Shape', 'Marginal Adhesion',\n",
      "       'Single Epithelial Cell Size', 'Bare Nuclei', 'Bland Chromatin',\n",
      "       'Normal Nucleoli', 'Mitoses', 'Class'],\n",
      "      dtype='object')\n"
     ]
    }
   ],
   "source": [
    "print(cancer.columns)"
   ]
  },
  {
   "cell_type": "code",
   "execution_count": 50,
   "metadata": {},
   "outputs": [
    {
     "name": "stdout",
     "output_type": "stream",
     "text": [
      "Optimization terminated successfully.\n",
      "         Current function value: 0.075321\n",
      "         Iterations 10\n",
      "                           Logit Regression Results                           \n",
      "==============================================================================\n",
      "Dep. Variable:                  Class   No. Observations:                  683\n",
      "Model:                          Logit   Df Residuals:                      673\n",
      "Method:                           MLE   Df Model:                            9\n",
      "Date:                Wed, 15 May 2024   Pseudo R-squ.:                  0.8837\n",
      "Time:                        23:27:25   Log-Likelihood:                -51.444\n",
      "converged:                       True   LL-Null:                       -442.18\n",
      "Covariance Type:            nonrobust   LLR p-value:                2.077e-162\n",
      "===============================================================================================\n",
      "                                  coef    std err          z      P>|z|      [0.025      0.975]\n",
      "-----------------------------------------------------------------------------------------------\n",
      "const                          -1.0941      0.323     -3.384      0.001      -1.728      -0.460\n",
      "Clump Thickness                 1.5080      0.400      3.767      0.000       0.723       2.293\n",
      "Uniformity of Cell Size        -0.0192      0.640     -0.030      0.976      -1.274       1.236\n",
      "Uniformity of Cell Shape        0.9637      0.689      1.399      0.162      -0.386       2.313\n",
      "Marginal Adhesion               0.9464      0.353      2.678      0.007       0.254       1.639\n",
      "Single Epithelial Cell Size     0.2147      0.348      0.617      0.537      -0.467       0.896\n",
      "Bare Nuclei                     1.3947      0.342      4.082      0.000       0.725       2.064\n",
      "Bland Chromatin                 1.0947      0.420      2.609      0.009       0.272       1.917\n",
      "Normal Nucleoli                 0.6498      0.344      1.887      0.059      -0.025       1.325\n",
      "Mitoses                         0.9260      0.569      1.627      0.104      -0.190       2.042\n",
      "===============================================================================================\n",
      "[<class 'statsmodels.iolib.table.SimpleTable'>, <class 'statsmodels.iolib.table.SimpleTable'>]\n"
     ]
    }
   ],
   "source": [
    "import pandas as pd\n",
    "import numpy as np\n",
    "import statsmodels.api as sm\n",
    "from sklearn.preprocessing import StandardScaler\n",
    "\n",
    "# 독립 변수와 종속 변수 설정\n",
    "X = cancer[['Clump Thickness', 'Uniformity of Cell Size', 'Uniformity of Cell Shape', \n",
    "          'Marginal Adhesion', 'Single Epithelial Cell Size', 'Bare Nuclei', \n",
    "          'Bland Chromatin', 'Normal Nucleoli', 'Mitoses']]\n",
    "y = cancer['Class']  # 종속 변수\n",
    "\n",
    "original_column_names=list(X.columns)\n",
    "original_column_names.insert(0, 'const')\n",
    "\n",
    "scaler = StandardScaler()\n",
    "X_scaled = scaler.fit_transform(X)\n",
    "\n",
    "X_scaled = sm.add_constant(X_scaled)\n",
    "logit_model = sm.Logit(y, X_scaled)\n",
    "result = logit_model.fit()\n",
    "\n",
    "summary = result.summary(xname = original_column_names)\n",
    "print(summary)\n",
    "print(summary.tables)"
   ]
  },
  {
   "cell_type": "markdown",
   "metadata": {},
   "source": [
    "#### 다른 방법-로지스틱 회귀"
   ]
  },
  {
   "cell_type": "code",
   "execution_count": 51,
   "metadata": {},
   "outputs": [
    {
     "name": "stdout",
     "output_type": "stream",
     "text": [
      "Accuracy: 0.9562043795620438\n"
     ]
    }
   ],
   "source": [
    "import pandas as pd\n",
    "from sklearn.model_selection import train_test_split\n",
    "from sklearn.linear_model import LogisticRegression\n",
    "from sklearn.metrics import accuracy_score\n",
    "\n",
    "# 독립 변수와 종속 변수 설정\n",
    "X = cancer[['Clump Thickness', 'Uniformity of Cell Size', 'Uniformity of Cell Shape', \n",
    "          'Marginal Adhesion', 'Single Epithelial Cell Size', 'Bare Nuclei', \n",
    "          'Bland Chromatin', 'Normal Nucleoli', 'Mitoses']]\n",
    "y = cancer['Class']  # 종속 변수\n",
    "\n",
    "# 훈련 세트와 테스트 세트로 분할\n",
    "X_train, X_test, y_train, y_test = train_test_split(X, y, test_size=0.2, random_state=42)\n",
    "\n",
    "# 로지스틱 회귀 모델 생성 및 훈련\n",
    "model = LogisticRegression()\n",
    "model.fit(X_train, y_train)\n",
    "\n",
    "# 테스트 데이터로 예측\n",
    "y_pred = model.predict(X_test)\n",
    "\n",
    "# 정확도 평가\n",
    "accuracy = accuracy_score(y_test, y_pred)\n",
    "print(\"Accuracy:\", accuracy)\n"
   ]
  }
 ],
 "metadata": {
  "kernelspec": {
   "display_name": "Python 3",
   "language": "python",
   "name": "python3"
  },
  "language_info": {
   "codemirror_mode": {
    "name": "ipython",
    "version": 3
   },
   "file_extension": ".py",
   "mimetype": "text/x-python",
   "name": "python",
   "nbconvert_exporter": "python",
   "pygments_lexer": "ipython3",
   "version": "3.11.9"
  }
 },
 "nbformat": 4,
 "nbformat_minor": 2
}
